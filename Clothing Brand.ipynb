{
 "cells": [
  {
   "cell_type": "code",
   "execution_count": 7,
   "id": "47a72c0b",
   "metadata": {},
   "outputs": [
    {
     "name": "stdout",
     "output_type": "stream",
     "text": [
      "Requirement already satisfied: selenium in c:\\users\\a\\anaconda3\\lib\\site-packages (4.15.2)\n",
      "Requirement already satisfied: trio~=0.17 in c:\\users\\a\\anaconda3\\lib\\site-packages (from selenium) (0.23.1)\n",
      "Requirement already satisfied: urllib3[socks]<3,>=1.26 in c:\\users\\a\\anaconda3\\lib\\site-packages (from selenium) (1.26.14)\n",
      "Requirement already satisfied: trio-websocket~=0.9 in c:\\users\\a\\anaconda3\\lib\\site-packages (from selenium) (0.11.1)\n",
      "Requirement already satisfied: certifi>=2021.10.8 in c:\\users\\a\\anaconda3\\lib\\site-packages (from selenium) (2022.12.7)\n",
      "Requirement already satisfied: attrs>=20.1.0 in c:\\users\\a\\anaconda3\\lib\\site-packages (from trio~=0.17->selenium) (22.1.0)\n",
      "Requirement already satisfied: cffi>=1.14 in c:\\users\\a\\anaconda3\\lib\\site-packages (from trio~=0.17->selenium) (1.15.1)\n",
      "Requirement already satisfied: exceptiongroup>=1.0.0rc9 in c:\\users\\a\\anaconda3\\lib\\site-packages (from trio~=0.17->selenium) (1.2.0)\n",
      "Requirement already satisfied: sniffio>=1.3.0 in c:\\users\\a\\anaconda3\\lib\\site-packages (from trio~=0.17->selenium) (1.3.0)\n",
      "Requirement already satisfied: idna in c:\\users\\a\\anaconda3\\lib\\site-packages (from trio~=0.17->selenium) (3.4)\n",
      "Requirement already satisfied: outcome in c:\\users\\a\\anaconda3\\lib\\site-packages (from trio~=0.17->selenium) (1.3.0.post0)\n",
      "Requirement already satisfied: sortedcontainers in c:\\users\\a\\anaconda3\\lib\\site-packages (from trio~=0.17->selenium) (2.4.0)\n",
      "Requirement already satisfied: wsproto>=0.14 in c:\\users\\a\\anaconda3\\lib\\site-packages (from trio-websocket~=0.9->selenium) (1.2.0)\n",
      "Requirement already satisfied: PySocks!=1.5.7,<2.0,>=1.5.6 in c:\\users\\a\\anaconda3\\lib\\site-packages (from urllib3[socks]<3,>=1.26->selenium) (1.7.1)\n",
      "Requirement already satisfied: pycparser in c:\\users\\a\\anaconda3\\lib\\site-packages (from cffi>=1.14->trio~=0.17->selenium) (2.21)\n",
      "Requirement already satisfied: h11<1,>=0.9.0 in c:\\users\\a\\anaconda3\\lib\\site-packages (from wsproto>=0.14->trio-websocket~=0.9->selenium) (0.14.0)\n"
     ]
    }
   ],
   "source": [
    "!pip install selenium"
   ]
  },
  {
   "cell_type": "code",
   "execution_count": 8,
   "id": "9d96d7ff",
   "metadata": {},
   "outputs": [],
   "source": [
    "import selenium\n",
    "import pandas as pd\n",
    "from selenium import webdriver\n",
    "import warnings\n",
    "warnings.filterwarnings('ignore')\n",
    "from selenium.webdriver.common.by import By\n",
    "import time"
   ]
  },
  {
   "cell_type": "code",
   "execution_count": 79,
   "id": "81d3f41f",
   "metadata": {},
   "outputs": [],
   "source": []
  },
  {
   "cell_type": "code",
   "execution_count": 80,
   "id": "9de5b43b",
   "metadata": {},
   "outputs": [],
   "source": []
  },
  {
   "cell_type": "code",
   "execution_count": 81,
   "id": "f9bc331e",
   "metadata": {},
   "outputs": [],
   "source": []
  },
  {
   "cell_type": "code",
   "execution_count": 82,
   "id": "ac6ab859",
   "metadata": {},
   "outputs": [],
   "source": []
  },
  {
   "cell_type": "code",
   "execution_count": 221,
   "id": "aaf72080",
   "metadata": {
    "collapsed": true
   },
   "outputs": [
    {
     "data": {
      "text/plain": [
       "2536"
      ]
     },
     "execution_count": 221,
     "metadata": {},
     "output_type": "execute_result"
    }
   ],
   "source": []
  },
  {
   "cell_type": "code",
   "execution_count": 84,
   "id": "140a54e0",
   "metadata": {},
   "outputs": [],
   "source": []
  },
  {
   "cell_type": "code",
   "execution_count": 85,
   "id": "9046b0fd",
   "metadata": {
    "collapsed": true
   },
   "outputs": [
    {
     "data": {
      "text/plain": [
       "600"
      ]
     },
     "execution_count": 85,
     "metadata": {},
     "output_type": "execute_result"
    }
   ],
   "source": [
    "\n"
   ]
  },
  {
   "cell_type": "code",
   "execution_count": 86,
   "id": "82baabfd",
   "metadata": {},
   "outputs": [],
   "source": []
  },
  {
   "cell_type": "code",
   "execution_count": 87,
   "id": "f6a82f3b",
   "metadata": {
    "collapsed": true
   },
   "outputs": [
    {
     "data": {
      "text/plain": [
       "742"
      ]
     },
     "execution_count": 87,
     "metadata": {},
     "output_type": "execute_result"
    }
   ],
   "source": []
  },
  {
   "cell_type": "code",
   "execution_count": 88,
   "id": "c85f84a6",
   "metadata": {},
   "outputs": [],
   "source": []
  },
  {
   "cell_type": "code",
   "execution_count": 19,
   "id": "d0de24fb",
   "metadata": {
    "collapsed": true
   },
   "outputs": [
    {
     "name": "stdout",
     "output_type": "stream",
     "text": [
      "['$19.99', '$54.99', '$19.99', '$34.99', '$19.99', '$26.99', '$44.99', '$34.99', '$36.99']\n"
     ]
    }
   ],
   "source": []
  },
  {
   "cell_type": "code",
   "execution_count": 89,
   "id": "85c395d8",
   "metadata": {
    "collapsed": true
   },
   "outputs": [
    {
     "data": {
      "text/plain": [
       "300"
      ]
     },
     "execution_count": 89,
     "metadata": {},
     "output_type": "execute_result"
    }
   ],
   "source": []
  },
  {
   "cell_type": "code",
   "execution_count": 90,
   "id": "b7f4ee92",
   "metadata": {},
   "outputs": [],
   "source": []
  },
  {
   "cell_type": "code",
   "execution_count": 91,
   "id": "716fe9f7",
   "metadata": {},
   "outputs": [],
   "source": []
  },
  {
   "cell_type": "code",
   "execution_count": 94,
   "id": "3dba9872",
   "metadata": {},
   "outputs": [
    {
     "data": {
      "text/plain": [
       "747"
      ]
     },
     "execution_count": 94,
     "metadata": {},
     "output_type": "execute_result"
    }
   ],
   "source": []
  },
  {
   "cell_type": "code",
   "execution_count": 93,
   "id": "f3ff033d",
   "metadata": {},
   "outputs": [],
   "source": []
  },
  {
   "cell_type": "code",
   "execution_count": 95,
   "id": "15bd7de2",
   "metadata": {},
   "outputs": [
    {
     "data": {
      "text/plain": [
       "742"
      ]
     },
     "execution_count": 95,
     "metadata": {},
     "output_type": "execute_result"
    }
   ],
   "source": []
  },
  {
   "cell_type": "code",
   "execution_count": 96,
   "id": "6fdb5dca",
   "metadata": {},
   "outputs": [],
   "source": []
  },
  {
   "cell_type": "code",
   "execution_count": 97,
   "id": "8834a594",
   "metadata": {},
   "outputs": [
    {
     "name": "stdout",
     "output_type": "stream",
     "text": [
      "[]\n"
     ]
    }
   ],
   "source": []
  },
  {
   "cell_type": "code",
   "execution_count": 98,
   "id": "dc1338a4",
   "metadata": {},
   "outputs": [],
   "source": []
  },
  {
   "cell_type": "code",
   "execution_count": 99,
   "id": "255854b3",
   "metadata": {},
   "outputs": [
    {
     "data": {
      "text/plain": [
       "742"
      ]
     },
     "execution_count": 99,
     "metadata": {},
     "output_type": "execute_result"
    }
   ],
   "source": []
  },
  {
   "cell_type": "code",
   "execution_count": 100,
   "id": "bfc5b076",
   "metadata": {},
   "outputs": [],
   "source": [
    "\n"
   ]
  },
  {
   "cell_type": "code",
   "execution_count": 101,
   "id": "2981f72b",
   "metadata": {},
   "outputs": [
    {
     "data": {
      "text/plain": [
       "742"
      ]
     },
     "execution_count": 101,
     "metadata": {},
     "output_type": "execute_result"
    }
   ],
   "source": []
  },
  {
   "cell_type": "code",
   "execution_count": 102,
   "id": "0d03e4b3",
   "metadata": {},
   "outputs": [],
   "source": []
  },
  {
   "cell_type": "code",
   "execution_count": 103,
   "id": "a65d210a",
   "metadata": {},
   "outputs": [],
   "source": []
  },
  {
   "cell_type": "code",
   "execution_count": 104,
   "id": "4ba4e19f",
   "metadata": {},
   "outputs": [],
   "source": []
  },
  {
   "cell_type": "code",
   "execution_count": 105,
   "id": "e6660744",
   "metadata": {},
   "outputs": [],
   "source": [
    "\n"
   ]
  },
  {
   "cell_type": "code",
   "execution_count": 106,
   "id": "d4df44d3",
   "metadata": {},
   "outputs": [
    {
     "data": {
      "text/plain": [
       "750"
      ]
     },
     "execution_count": 106,
     "metadata": {},
     "output_type": "execute_result"
    }
   ],
   "source": []
  },
  {
   "cell_type": "code",
   "execution_count": 107,
   "id": "f0ccf779",
   "metadata": {},
   "outputs": [],
   "source": []
  },
  {
   "cell_type": "code",
   "execution_count": 108,
   "id": "c7a5cf27",
   "metadata": {},
   "outputs": [
    {
     "data": {
      "text/plain": [
       "1050"
      ]
     },
     "execution_count": 108,
     "metadata": {},
     "output_type": "execute_result"
    }
   ],
   "source": []
  },
  {
   "cell_type": "code",
   "execution_count": 109,
   "id": "ee4d1105",
   "metadata": {},
   "outputs": [],
   "source": []
  },
  {
   "cell_type": "code",
   "execution_count": 110,
   "id": "88bbc8a0",
   "metadata": {},
   "outputs": [
    {
     "data": {
      "text/plain": [
       "1350"
      ]
     },
     "execution_count": 110,
     "metadata": {},
     "output_type": "execute_result"
    }
   ],
   "source": []
  },
  {
   "cell_type": "code",
   "execution_count": 111,
   "id": "8c0c5e10",
   "metadata": {},
   "outputs": [],
   "source": []
  },
  {
   "cell_type": "code",
   "execution_count": 112,
   "id": "9b86e14c",
   "metadata": {},
   "outputs": [
    {
     "data": {
      "text/plain": [
       "1650"
      ]
     },
     "execution_count": 112,
     "metadata": {},
     "output_type": "execute_result"
    }
   ],
   "source": []
  },
  {
   "cell_type": "code",
   "execution_count": 113,
   "id": "707af594",
   "metadata": {},
   "outputs": [],
   "source": []
  },
  {
   "cell_type": "code",
   "execution_count": 114,
   "id": "017c7398",
   "metadata": {},
   "outputs": [
    {
     "data": {
      "text/plain": [
       "1950"
      ]
     },
     "execution_count": 114,
     "metadata": {},
     "output_type": "execute_result"
    }
   ],
   "source": []
  },
  {
   "cell_type": "code",
   "execution_count": 119,
   "id": "3e8bf50c",
   "metadata": {},
   "outputs": [],
   "source": []
  },
  {
   "cell_type": "code",
   "execution_count": 120,
   "id": "00321f7f",
   "metadata": {},
   "outputs": [
    {
     "data": {
      "text/plain": [
       "1042"
      ]
     },
     "execution_count": 120,
     "metadata": {},
     "output_type": "execute_result"
    }
   ],
   "source": []
  },
  {
   "cell_type": "code",
   "execution_count": 50,
   "id": "bd17f89a",
   "metadata": {
    "collapsed": true
   },
   "outputs": [
    {
     "data": {
      "text/plain": [
       "['$19.99',\n",
       " '$19.99',\n",
       " '$39.99',\n",
       " '$24.99',\n",
       " '$19.99',\n",
       " '$24.99',\n",
       " '$26.99',\n",
       " '$14.99',\n",
       " '$12.99',\n",
       " '$24.99',\n",
       " '$49.99',\n",
       " '$19.99',\n",
       " '$39.99',\n",
       " '$44.99',\n",
       " '$24.99',\n",
       " '$24.99',\n",
       " '$24.99',\n",
       " '$36.99',\n",
       " '$29.99',\n",
       " '$29.99',\n",
       " '$29.99',\n",
       " '$24.99',\n",
       " '$24.99',\n",
       " '$24.99',\n",
       " '$29.99',\n",
       " '$19.99',\n",
       " '$9.99',\n",
       " '$24.99',\n",
       " '$26.99']"
      ]
     },
     "execution_count": 50,
     "metadata": {},
     "output_type": "execute_result"
    }
   ],
   "source": []
  },
  {
   "cell_type": "code",
   "execution_count": 121,
   "id": "846f4729",
   "metadata": {},
   "outputs": [],
   "source": []
  },
  {
   "cell_type": "code",
   "execution_count": 122,
   "id": "e39245de",
   "metadata": {},
   "outputs": [
    {
     "data": {
      "text/plain": [
       "1342"
      ]
     },
     "execution_count": 122,
     "metadata": {},
     "output_type": "execute_result"
    }
   ],
   "source": []
  },
  {
   "cell_type": "code",
   "execution_count": 123,
   "id": "fae3001c",
   "metadata": {},
   "outputs": [],
   "source": []
  },
  {
   "cell_type": "code",
   "execution_count": 54,
   "id": "b33257f5",
   "metadata": {},
   "outputs": [
    {
     "data": {
      "text/plain": [
       "1628"
      ]
     },
     "execution_count": 54,
     "metadata": {},
     "output_type": "execute_result"
    }
   ],
   "source": []
  },
  {
   "cell_type": "code",
   "execution_count": 124,
   "id": "2c36f0af",
   "metadata": {},
   "outputs": [],
   "source": []
  },
  {
   "cell_type": "code",
   "execution_count": 125,
   "id": "24a178fc",
   "metadata": {},
   "outputs": [
    {
     "data": {
      "text/plain": [
       "1778"
      ]
     },
     "execution_count": 125,
     "metadata": {},
     "output_type": "execute_result"
    }
   ],
   "source": []
  },
  {
   "cell_type": "code",
   "execution_count": 126,
   "id": "c0b874ca",
   "metadata": {},
   "outputs": [],
   "source": []
  },
  {
   "cell_type": "code",
   "execution_count": 127,
   "id": "38ff3721",
   "metadata": {},
   "outputs": [
    {
     "data": {
      "text/plain": [
       "2045"
      ]
     },
     "execution_count": 127,
     "metadata": {},
     "output_type": "execute_result"
    }
   ],
   "source": []
  },
  {
   "cell_type": "code",
   "execution_count": 128,
   "id": "c0b7c257",
   "metadata": {},
   "outputs": [
    {
     "data": {
      "text/plain": [
       "1950"
      ]
     },
     "execution_count": 128,
     "metadata": {},
     "output_type": "execute_result"
    }
   ],
   "source": []
  },
  {
   "cell_type": "code",
   "execution_count": 129,
   "id": "96038ed9",
   "metadata": {},
   "outputs": [],
   "source": []
  },
  {
   "cell_type": "code",
   "execution_count": 130,
   "id": "42ab1c74",
   "metadata": {},
   "outputs": [
    {
     "data": {
      "text/plain": [
       "1950"
      ]
     },
     "execution_count": 130,
     "metadata": {},
     "output_type": "execute_result"
    }
   ],
   "source": []
  },
  {
   "cell_type": "code",
   "execution_count": 132,
   "id": "de2ad4d7",
   "metadata": {},
   "outputs": [
    {
     "data": {
      "text/plain": [
       "1950"
      ]
     },
     "execution_count": 132,
     "metadata": {},
     "output_type": "execute_result"
    }
   ],
   "source": []
  },
  {
   "cell_type": "code",
   "execution_count": 133,
   "id": "b048b328",
   "metadata": {},
   "outputs": [
    {
     "data": {
      "text/plain": [
       "742"
      ]
     },
     "execution_count": 133,
     "metadata": {},
     "output_type": "execute_result"
    }
   ],
   "source": []
  },
  {
   "cell_type": "code",
   "execution_count": 63,
   "id": "5c5c45e8",
   "metadata": {},
   "outputs": [],
   "source": []
  },
  {
   "cell_type": "code",
   "execution_count": 64,
   "id": "0ed2d7aa",
   "metadata": {
    "collapsed": true
   },
   "outputs": [
    {
     "data": {
      "text/plain": [
       "749"
      ]
     },
     "execution_count": 64,
     "metadata": {},
     "output_type": "execute_result"
    }
   ],
   "source": []
  },
  {
   "cell_type": "code",
   "execution_count": 134,
   "id": "ad205e74",
   "metadata": {},
   "outputs": [],
   "source": []
  },
  {
   "cell_type": "code",
   "execution_count": 135,
   "id": "a9568427",
   "metadata": {},
   "outputs": [
    {
     "data": {
      "text/plain": [
       "1950"
      ]
     },
     "execution_count": 135,
     "metadata": {},
     "output_type": "execute_result"
    }
   ],
   "source": []
  },
  {
   "cell_type": "code",
   "execution_count": 136,
   "id": "d4948e55",
   "metadata": {},
   "outputs": [
    {
     "data": {
      "text/plain": [
       "742"
      ]
     },
     "execution_count": 136,
     "metadata": {},
     "output_type": "execute_result"
    }
   ],
   "source": []
  },
  {
   "cell_type": "code",
   "execution_count": 137,
   "id": "7bc6d8d5",
   "metadata": {},
   "outputs": [],
   "source": []
  },
  {
   "cell_type": "code",
   "execution_count": 138,
   "id": "ed9addce",
   "metadata": {},
   "outputs": [
    {
     "data": {
      "text/plain": [
       "1950"
      ]
     },
     "execution_count": 138,
     "metadata": {},
     "output_type": "execute_result"
    }
   ],
   "source": []
  },
  {
   "cell_type": "code",
   "execution_count": 151,
   "id": "755f8c54",
   "metadata": {},
   "outputs": [],
   "source": []
  },
  {
   "cell_type": "code",
   "execution_count": 152,
   "id": "79c2c38d",
   "metadata": {},
   "outputs": [],
   "source": []
  },
  {
   "cell_type": "code",
   "execution_count": 153,
   "id": "5f74328c",
   "metadata": {},
   "outputs": [],
   "source": []
  },
  {
   "cell_type": "code",
   "execution_count": 154,
   "id": "9b5d2188",
   "metadata": {},
   "outputs": [
    {
     "data": {
      "text/plain": [
       "1950"
      ]
     },
     "execution_count": 154,
     "metadata": {},
     "output_type": "execute_result"
    }
   ],
   "source": []
  },
  {
   "cell_type": "code",
   "execution_count": 155,
   "id": "674f9eaa",
   "metadata": {},
   "outputs": [],
   "source": []
  },
  {
   "cell_type": "code",
   "execution_count": 156,
   "id": "39f704ff",
   "metadata": {},
   "outputs": [
    {
     "data": {
      "text/plain": [
       "2150"
      ]
     },
     "execution_count": 156,
     "metadata": {},
     "output_type": "execute_result"
    }
   ],
   "source": []
  },
  {
   "cell_type": "code",
   "execution_count": 158,
   "id": "75aace92",
   "metadata": {},
   "outputs": [
    {
     "data": {
      "text/plain": [
       "1950"
      ]
     },
     "execution_count": 158,
     "metadata": {},
     "output_type": "execute_result"
    }
   ],
   "source": []
  },
  {
   "cell_type": "code",
   "execution_count": 159,
   "id": "91c4b661",
   "metadata": {},
   "outputs": [],
   "source": []
  },
  {
   "cell_type": "code",
   "execution_count": 160,
   "id": "de3129ac",
   "metadata": {},
   "outputs": [
    {
     "data": {
      "text/plain": [
       "2150"
      ]
     },
     "execution_count": 160,
     "metadata": {},
     "output_type": "execute_result"
    }
   ],
   "source": []
  },
  {
   "cell_type": "code",
   "execution_count": 161,
   "id": "4bad999a",
   "metadata": {},
   "outputs": [
    {
     "data": {
      "text/plain": [
       "1950"
      ]
     },
     "execution_count": 161,
     "metadata": {},
     "output_type": "execute_result"
    }
   ],
   "source": []
  },
  {
   "cell_type": "code",
   "execution_count": 162,
   "id": "34df5c08",
   "metadata": {},
   "outputs": [],
   "source": []
  },
  {
   "cell_type": "code",
   "execution_count": 163,
   "id": "624685d5",
   "metadata": {},
   "outputs": [
    {
     "data": {
      "text/plain": [
       "2150"
      ]
     },
     "execution_count": 163,
     "metadata": {},
     "output_type": "execute_result"
    }
   ],
   "source": []
  },
  {
   "cell_type": "code",
   "execution_count": 164,
   "id": "80ea1e3a",
   "metadata": {},
   "outputs": [
    {
     "data": {
      "text/plain": [
       "1950"
      ]
     },
     "execution_count": 164,
     "metadata": {},
     "output_type": "execute_result"
    }
   ],
   "source": []
  },
  {
   "cell_type": "code",
   "execution_count": 165,
   "id": "c0671bac",
   "metadata": {},
   "outputs": [],
   "source": []
  },
  {
   "cell_type": "code",
   "execution_count": 166,
   "id": "ac4d8a63",
   "metadata": {},
   "outputs": [
    {
     "data": {
      "text/plain": [
       "2150"
      ]
     },
     "execution_count": 166,
     "metadata": {},
     "output_type": "execute_result"
    }
   ],
   "source": []
  },
  {
   "cell_type": "code",
   "execution_count": 167,
   "id": "e6536b84",
   "metadata": {},
   "outputs": [],
   "source": []
  },
  {
   "cell_type": "code",
   "execution_count": 168,
   "id": "07c853c8",
   "metadata": {},
   "outputs": [],
   "source": []
  },
  {
   "cell_type": "code",
   "execution_count": 169,
   "id": "f61ee0cf",
   "metadata": {},
   "outputs": [],
   "source": []
  },
  {
   "cell_type": "code",
   "execution_count": 170,
   "id": "36d9d45d",
   "metadata": {},
   "outputs": [],
   "source": []
  },
  {
   "cell_type": "code",
   "execution_count": 171,
   "id": "9dbd1cb1",
   "metadata": {},
   "outputs": [
    {
     "data": {
      "text/plain": [
       "2450"
      ]
     },
     "execution_count": 171,
     "metadata": {},
     "output_type": "execute_result"
    }
   ],
   "source": []
  },
  {
   "cell_type": "code",
   "execution_count": 172,
   "id": "9408e4b6",
   "metadata": {},
   "outputs": [],
   "source": []
  },
  {
   "cell_type": "code",
   "execution_count": 173,
   "id": "12e86b3a",
   "metadata": {},
   "outputs": [
    {
     "data": {
      "text/plain": [
       "2536"
      ]
     },
     "execution_count": 173,
     "metadata": {},
     "output_type": "execute_result"
    }
   ],
   "source": []
  },
  {
   "cell_type": "code",
   "execution_count": 174,
   "id": "f5df1bbe",
   "metadata": {},
   "outputs": [],
   "source": []
  },
  {
   "cell_type": "code",
   "execution_count": 175,
   "id": "8b6d40f2",
   "metadata": {},
   "outputs": [
    {
     "data": {
      "text/plain": [
       "2450"
      ]
     },
     "execution_count": 175,
     "metadata": {},
     "output_type": "execute_result"
    }
   ],
   "source": []
  },
  {
   "cell_type": "code",
   "execution_count": 176,
   "id": "bf2a5b89",
   "metadata": {
    "collapsed": true
   },
   "outputs": [
    {
     "data": {
      "text/plain": [
       "['$19.99',\n",
       " '$19.99',\n",
       " '$19.99',\n",
       " '$12.99',\n",
       " '$24.99',\n",
       " '$39.99',\n",
       " '$38.99',\n",
       " '$34.99',\n",
       " '$29.99',\n",
       " '$39.99',\n",
       " '$19.99',\n",
       " '$39.99',\n",
       " '$9.99',\n",
       " '$29.99',\n",
       " '$34.99',\n",
       " '$29.99',\n",
       " '$29.99',\n",
       " '$29.99',\n",
       " '$34.99',\n",
       " '$12.99',\n",
       " '$29.99',\n",
       " '$24.99',\n",
       " '$34.99',\n",
       " '$29.99',\n",
       " '$29.99',\n",
       " '$19.99',\n",
       " '$29.99',\n",
       " '$19.99',\n",
       " '$12.99',\n",
       " '$14.99',\n",
       " '$19.99',\n",
       " '$26.99',\n",
       " '$12.99',\n",
       " '$14.99',\n",
       " '$26.99',\n",
       " '$34.99',\n",
       " '$29.99',\n",
       " '$34.99',\n",
       " '$54.99',\n",
       " '$14.99',\n",
       " '$59.99',\n",
       " '$29.99',\n",
       " '$34.99',\n",
       " '$29.99',\n",
       " '$29.99',\n",
       " '$9.99',\n",
       " '$33.99',\n",
       " '$29.99',\n",
       " '$19.99',\n",
       " '$12.99']"
      ]
     },
     "execution_count": 176,
     "metadata": {},
     "output_type": "execute_result"
    }
   ],
   "source": []
  },
  {
   "cell_type": "code",
   "execution_count": 177,
   "id": "5848cf1c",
   "metadata": {},
   "outputs": [],
   "source": []
  },
  {
   "cell_type": "code",
   "execution_count": 178,
   "id": "220ce9da",
   "metadata": {},
   "outputs": [
    {
     "data": {
      "text/plain": [
       "2529"
      ]
     },
     "execution_count": 178,
     "metadata": {},
     "output_type": "execute_result"
    }
   ],
   "source": []
  },
  {
   "cell_type": "code",
   "execution_count": 179,
   "id": "d2c58cc9",
   "metadata": {},
   "outputs": [],
   "source": []
  },
  {
   "cell_type": "code",
   "execution_count": 180,
   "id": "6d99f8b9",
   "metadata": {},
   "outputs": [
    {
     "data": {
      "text/plain": [
       "2529"
      ]
     },
     "execution_count": 180,
     "metadata": {},
     "output_type": "execute_result"
    }
   ],
   "source": []
  },
  {
   "cell_type": "code",
   "execution_count": 185,
   "id": "2f30c2cd",
   "metadata": {},
   "outputs": [
    {
     "data": {
      "text/plain": [
       "2150"
      ]
     },
     "execution_count": 185,
     "metadata": {},
     "output_type": "execute_result"
    }
   ],
   "source": []
  },
  {
   "cell_type": "code",
   "execution_count": 186,
   "id": "ed041c8a",
   "metadata": {},
   "outputs": [],
   "source": []
  },
  {
   "cell_type": "code",
   "execution_count": 187,
   "id": "3acea68d",
   "metadata": {},
   "outputs": [
    {
     "data": {
      "text/plain": [
       "2529"
      ]
     },
     "execution_count": 187,
     "metadata": {},
     "output_type": "execute_result"
    }
   ],
   "source": []
  },
  {
   "cell_type": "code",
   "execution_count": 188,
   "id": "e5e70515",
   "metadata": {},
   "outputs": [
    {
     "data": {
      "text/plain": [
       "2150"
      ]
     },
     "execution_count": 188,
     "metadata": {},
     "output_type": "execute_result"
    }
   ],
   "source": []
  },
  {
   "cell_type": "code",
   "execution_count": 189,
   "id": "6a16bf1e",
   "metadata": {},
   "outputs": [],
   "source": []
  },
  {
   "cell_type": "code",
   "execution_count": 190,
   "id": "d4074d8f",
   "metadata": {},
   "outputs": [
    {
     "data": {
      "text/plain": [
       "2529"
      ]
     },
     "execution_count": 190,
     "metadata": {},
     "output_type": "execute_result"
    }
   ],
   "source": []
  },
  {
   "cell_type": "code",
   "execution_count": 6,
   "id": "d4834a40",
   "metadata": {
    "collapsed": true
   },
   "outputs": [
    {
     "ename": "NameError",
     "evalue": "name 'Product' is not defined",
     "output_type": "error",
     "traceback": [
      "\u001b[1;31m---------------------------------------------------------------------------\u001b[0m",
      "\u001b[1;31mNameError\u001b[0m                                 Traceback (most recent call last)",
      "Cell \u001b[1;32mIn[6], line 1\u001b[0m\n\u001b[1;32m----> 1\u001b[0m cloth_brand\u001b[38;5;241m=\u001b[39mpd\u001b[38;5;241m.\u001b[39mDataFrame({\u001b[38;5;124m'\u001b[39m\u001b[38;5;124mproduct\u001b[39m\u001b[38;5;124m'\u001b[39m:\u001b[43mProduct\u001b[49m,\u001b[38;5;124m'\u001b[39m\u001b[38;5;124mprice\u001b[39m\u001b[38;5;124m'\u001b[39m:Price,\u001b[38;5;124m'\u001b[39m\u001b[38;5;124mdepartment\u001b[39m\u001b[38;5;124m'\u001b[39m:Department,\u001b[38;5;124m'\u001b[39m\u001b[38;5;124mCategory\u001b[39m\u001b[38;5;124m'\u001b[39m:category})\n",
      "\u001b[1;31mNameError\u001b[0m: name 'Product' is not defined"
     ]
    }
   ],
   "source": []
  },
  {
   "cell_type": "code",
   "execution_count": 5,
   "id": "1dd8c5ee",
   "metadata": {
    "collapsed": true
   },
   "outputs": [
    {
     "ename": "NameError",
     "evalue": "name 'cloth_brand' is not defined",
     "output_type": "error",
     "traceback": [
      "\u001b[1;31m---------------------------------------------------------------------------\u001b[0m",
      "\u001b[1;31mNameError\u001b[0m                                 Traceback (most recent call last)",
      "Cell \u001b[1;32mIn[5], line 1\u001b[0m\n\u001b[1;32m----> 1\u001b[0m \u001b[43mcloth_brand\u001b[49m\n",
      "\u001b[1;31mNameError\u001b[0m: name 'cloth_brand' is not defined"
     ]
    }
   ],
   "source": []
  },
  {
   "cell_type": "code",
   "execution_count": 262,
   "id": "06fb0537",
   "metadata": {},
   "outputs": [],
   "source": []
  },
  {
   "cell_type": "code",
   "execution_count": 7,
   "id": "ea06bd76",
   "metadata": {},
   "outputs": [],
   "source": [
    "driver=webdriver.Chrome()"
   ]
  },
  {
   "cell_type": "code",
   "execution_count": 8,
   "id": "11c037e9",
   "metadata": {},
   "outputs": [],
   "source": [
    "driver.get('http://allensolly.abfrl.in/')"
   ]
  },
  {
   "cell_type": "code",
   "execution_count": 9,
   "id": "ae51f6e3",
   "metadata": {},
   "outputs": [],
   "source": [
    "men_cloth=driver.find_element(By.XPATH,'/html/body/div[1]/header/div[2]/div/div/div[2]/div/ul/li[6]/p/a')\n",
    "men_cloth.click()"
   ]
  },
  {
   "cell_type": "code",
   "execution_count": 10,
   "id": "c194cbf1",
   "metadata": {},
   "outputs": [],
   "source": [
    "men_cloth1=driver.find_element(By.XPATH,\"/html/body/div[1]/main/div/div[2]/div/div/div/div[1]/span/img\")\n",
    "men_cloth1.click()"
   ]
  },
  {
   "cell_type": "code",
   "execution_count": 13,
   "id": "ec67507c",
   "metadata": {},
   "outputs": [],
   "source": [
    "men_cloth2=driver.find_element(By.XPATH,\"/html/body/div[1]/main/div/div[3]/div/div/div[1]/label\")\n",
    "men_cloth2.click()"
   ]
  },
  {
   "cell_type": "code",
   "execution_count": 14,
   "id": "da5cc371",
   "metadata": {},
   "outputs": [],
   "source": [
    "\n",
    "Product_name=[]\n",
    "\n",
    "product_tags=driver.find_elements(By.XPATH,'//div[@class=\"ProductCard_description__BQzle\"]')\n",
    "for i in product_tags:\n",
    "    Product=i.text\n",
    "    Product_name.append(Product)\n",
    "        "
   ]
  },
  {
   "cell_type": "code",
   "execution_count": 15,
   "id": "c706645f",
   "metadata": {},
   "outputs": [
    {
     "data": {
      "text/plain": [
       "531"
      ]
     },
     "execution_count": 15,
     "metadata": {},
     "output_type": "execute_result"
    }
   ],
   "source": [
    "len(Product_name)"
   ]
  },
  {
   "cell_type": "code",
   "execution_count": 16,
   "id": "77e7179a",
   "metadata": {},
   "outputs": [],
   "source": [
    "department=[]\n",
    "name_to_append='Men'\n",
    "i=1\n",
    "for i in range(0,552):\n",
    "    department.append(name_to_append)\n",
    "    i+=1"
   ]
  },
  {
   "cell_type": "code",
   "execution_count": 18,
   "id": "c00fa168",
   "metadata": {},
   "outputs": [],
   "source": [
    "department=department[:531]"
   ]
  },
  {
   "cell_type": "code",
   "execution_count": 19,
   "id": "6851a30c",
   "metadata": {},
   "outputs": [
    {
     "data": {
      "text/plain": [
       "531"
      ]
     },
     "execution_count": 19,
     "metadata": {},
     "output_type": "execute_result"
    }
   ],
   "source": [
    "len(department)"
   ]
  },
  {
   "cell_type": "code",
   "execution_count": 20,
   "id": "7d2ab186",
   "metadata": {},
   "outputs": [],
   "source": [
    "category=[]\n",
    "name_to_append1='Casual shirts'\n",
    "i=1\n",
    "for i in range(0,531):\n",
    "    category.append(name_to_append1)\n",
    "    i+=1"
   ]
  },
  {
   "cell_type": "code",
   "execution_count": 21,
   "id": "e4eac7e0",
   "metadata": {},
   "outputs": [
    {
     "data": {
      "text/plain": [
       "531"
      ]
     },
     "execution_count": 21,
     "metadata": {},
     "output_type": "execute_result"
    }
   ],
   "source": [
    "len(category)"
   ]
  },
  {
   "cell_type": "code",
   "execution_count": 22,
   "id": "80960cf0",
   "metadata": {},
   "outputs": [],
   "source": [
    "price=[]\n",
    "\n",
    "price_tags=driver.find_elements(By.XPATH,'//span[@class=\"price\"]')\n",
    "for i in price_tags:\n",
    "    Price=i.text\n",
    "    price.append(Price)"
   ]
  },
  {
   "cell_type": "code",
   "execution_count": 23,
   "id": "4365d7eb",
   "metadata": {},
   "outputs": [
    {
     "data": {
      "text/plain": [
       "531"
      ]
     },
     "execution_count": 23,
     "metadata": {},
     "output_type": "execute_result"
    }
   ],
   "source": [
    "len(price)"
   ]
  },
  {
   "cell_type": "code",
   "execution_count": 217,
   "id": "eb3cc94c",
   "metadata": {
    "collapsed": true
   },
   "outputs": [
    {
     "data": {
      "text/plain": [
       "['₹ 1,959',\n",
       " '₹ 1,749',\n",
       " '₹ 2,309',\n",
       " '₹ 1,959',\n",
       " '₹ 1,749',\n",
       " '₹ 1,264',\n",
       " '₹ 1,609',\n",
       " '₹ 1,679',\n",
       " '₹ 1,539',\n",
       " '₹ 1,259']"
      ]
     },
     "execution_count": 217,
     "metadata": {},
     "output_type": "execute_result"
    }
   ],
   "source": []
  },
  {
   "cell_type": "code",
   "execution_count": 24,
   "id": "d71a3eea",
   "metadata": {},
   "outputs": [],
   "source": [
    "color=[]\n",
    "\n",
    "color_tags=driver.find_elements(By.XPATH,'//div[@class=\"ProductCard_productColorText___jpq0\"]')\n",
    "for i in color_tags:\n",
    "    Color=i.text\n",
    "    color.append(Color)"
   ]
  },
  {
   "cell_type": "code",
   "execution_count": 25,
   "id": "c0f4b2ed",
   "metadata": {},
   "outputs": [
    {
     "data": {
      "text/plain": [
       "531"
      ]
     },
     "execution_count": 25,
     "metadata": {},
     "output_type": "execute_result"
    }
   ],
   "source": [
    "len(color)"
   ]
  },
  {
   "cell_type": "code",
   "execution_count": 220,
   "id": "6dd5922d",
   "metadata": {
    "collapsed": true
   },
   "outputs": [
    {
     "data": {
      "text/plain": [
       "['Pink',\n",
       " 'Pink',\n",
       " 'Peach',\n",
       " 'Navy',\n",
       " 'Multi',\n",
       " 'Blue',\n",
       " 'Pink',\n",
       " 'Black',\n",
       " 'Multi',\n",
       " 'Blue']"
      ]
     },
     "execution_count": 220,
     "metadata": {},
     "output_type": "execute_result"
    }
   ],
   "source": []
  },
  {
   "cell_type": "code",
   "execution_count": 26,
   "id": "bd02fd8d",
   "metadata": {},
   "outputs": [],
   "source": [
    "driver=webdriver.Chrome()"
   ]
  },
  {
   "cell_type": "code",
   "execution_count": 27,
   "id": "831d890e",
   "metadata": {},
   "outputs": [],
   "source": [
    "driver.get('http://allensolly.abfrl.in/')"
   ]
  },
  {
   "cell_type": "code",
   "execution_count": 28,
   "id": "8f05ab2b",
   "metadata": {},
   "outputs": [],
   "source": [
    "men_cloth=driver.find_element(By.XPATH,'/html/body/div[1]/header/div[2]/div/div/div[2]/div/ul/li[6]/p/a')\n",
    "men_cloth.click()\n",
    "                                        "
   ]
  },
  {
   "cell_type": "code",
   "execution_count": 30,
   "id": "7aba46ab",
   "metadata": {},
   "outputs": [],
   "source": [
    "men_cloth1=driver.find_element(By.XPATH,\"/html/body/div[1]/main/div/div[2]/div/div/div/div[1]/span/img\")\n",
    "men_cloth1.click()                      "
   ]
  },
  {
   "cell_type": "code",
   "execution_count": 33,
   "id": "4c6c2511",
   "metadata": {},
   "outputs": [],
   "source": [
    "men_cloth2=driver.find_element(By.XPATH,\"/html/body/div[1]/main/div/div[3]/div/div/div[2]/label\")\n",
    "men_cloth2.click()"
   ]
  },
  {
   "cell_type": "code",
   "execution_count": 34,
   "id": "8f0d8a18",
   "metadata": {},
   "outputs": [
    {
     "data": {
      "text/plain": [
       "531"
      ]
     },
     "execution_count": 34,
     "metadata": {},
     "output_type": "execute_result"
    }
   ],
   "source": [
    "len(Product_name)"
   ]
  },
  {
   "cell_type": "code",
   "execution_count": 35,
   "id": "613eeb6f",
   "metadata": {},
   "outputs": [],
   "source": [
    "\n",
    "\n",
    "product_tags=driver.find_elements(By.XPATH,'//div[@class=\"ProductCard_description__BQzle\"]')\n",
    "for i in product_tags:\n",
    "    Product=i.text\n",
    "    Product_name.append(Product)\n",
    "        "
   ]
  },
  {
   "cell_type": "code",
   "execution_count": 36,
   "id": "977b43ca",
   "metadata": {},
   "outputs": [
    {
     "data": {
      "text/plain": [
       "1008"
      ]
     },
     "execution_count": 36,
     "metadata": {},
     "output_type": "execute_result"
    }
   ],
   "source": [
    "len(Product_name)"
   ]
  },
  {
   "cell_type": "code",
   "execution_count": 37,
   "id": "d83f0fcd",
   "metadata": {},
   "outputs": [],
   "source": [
    "\n",
    "name_to_append='Men'\n",
    "i=1\n",
    "for i in range(0,477):\n",
    "    department.append(name_to_append)\n",
    "    i+=1"
   ]
  },
  {
   "cell_type": "code",
   "execution_count": 38,
   "id": "313b41c6",
   "metadata": {},
   "outputs": [
    {
     "data": {
      "text/plain": [
       "1008"
      ]
     },
     "execution_count": 38,
     "metadata": {},
     "output_type": "execute_result"
    }
   ],
   "source": [
    "len(department)"
   ]
  },
  {
   "cell_type": "code",
   "execution_count": 39,
   "id": "2961ee8e",
   "metadata": {},
   "outputs": [],
   "source": [
    "\n",
    "name_to_append2='Sweatshirts'\n",
    "i=1\n",
    "for i in range(0,477):\n",
    "    category.append(name_to_append2)\n",
    "    i+=1"
   ]
  },
  {
   "cell_type": "code",
   "execution_count": 40,
   "id": "66daa051",
   "metadata": {},
   "outputs": [
    {
     "data": {
      "text/plain": [
       "1008"
      ]
     },
     "execution_count": 40,
     "metadata": {},
     "output_type": "execute_result"
    }
   ],
   "source": [
    "len(category)"
   ]
  },
  {
   "cell_type": "code",
   "execution_count": 41,
   "id": "453620a4",
   "metadata": {},
   "outputs": [],
   "source": [
    "price_tags=driver.find_elements(By.XPATH,'//span[@class=\"price\"]')\n",
    "for i in price_tags:\n",
    "    Price=i.text\n",
    "    price.append(Price)"
   ]
  },
  {
   "cell_type": "code",
   "execution_count": null,
   "id": "0de52de9",
   "metadata": {},
   "outputs": [],
   "source": []
  },
  {
   "cell_type": "code",
   "execution_count": 42,
   "id": "97c89f42",
   "metadata": {},
   "outputs": [
    {
     "data": {
      "text/plain": [
       "1008"
      ]
     },
     "execution_count": 42,
     "metadata": {},
     "output_type": "execute_result"
    }
   ],
   "source": [
    "len(price)"
   ]
  },
  {
   "cell_type": "code",
   "execution_count": 43,
   "id": "b82222a7",
   "metadata": {},
   "outputs": [],
   "source": [
    "color_tags=driver.find_elements(By.XPATH,'//div[@class=\"ProductCard_productColorText___jpq0\"]')\n",
    "for i in color_tags:\n",
    "    Color=i.text\n",
    "    color.append(Color)"
   ]
  },
  {
   "cell_type": "code",
   "execution_count": 44,
   "id": "72574f06",
   "metadata": {},
   "outputs": [
    {
     "data": {
      "text/plain": [
       "1008"
      ]
     },
     "execution_count": 44,
     "metadata": {},
     "output_type": "execute_result"
    }
   ],
   "source": [
    "len(color)"
   ]
  },
  {
   "cell_type": "code",
   "execution_count": null,
   "id": "b2a26a6c",
   "metadata": {},
   "outputs": [],
   "source": []
  },
  {
   "cell_type": "code",
   "execution_count": null,
   "id": "f059f6b2",
   "metadata": {},
   "outputs": [],
   "source": [
    "men_cloth3=driver.find_element(By.XPATH,\"/html/body/div[1]/main/div/div[2]/div/div/div[3]/label\")\n",
    "men_cloth3.click()"
   ]
  },
  {
   "cell_type": "code",
   "execution_count": 45,
   "id": "9501624d",
   "metadata": {},
   "outputs": [],
   "source": [
    "driver=webdriver.Chrome()"
   ]
  },
  {
   "cell_type": "code",
   "execution_count": 47,
   "id": "2fae0fc0",
   "metadata": {},
   "outputs": [],
   "source": [
    "driver.get('http://allensolly.abfrl.in/')"
   ]
  },
  {
   "cell_type": "code",
   "execution_count": 48,
   "id": "86b1dd0e",
   "metadata": {},
   "outputs": [],
   "source": [
    "men_cloth=driver.find_element(By.XPATH,'/html/body/div[1]/header/div[2]/div/div/div[2]/div/ul/li[6]/p/a')\n",
    "men_cloth.click()\n",
    "     "
   ]
  },
  {
   "cell_type": "code",
   "execution_count": 49,
   "id": "bcdab98b",
   "metadata": {},
   "outputs": [],
   "source": [
    "men_cloth1=driver.find_element(By.XPATH,\"/html/body/div[1]/main/div/div[2]/div/div/div/div[1]/span/img\")\n",
    "men_cloth1.click()    "
   ]
  },
  {
   "cell_type": "code",
   "execution_count": 50,
   "id": "0229ccee",
   "metadata": {},
   "outputs": [],
   "source": [
    "men_cloth2=driver.find_element(By.XPATH,\"/html/body/div[1]/main/div/div[2]/div/div/div[3]/label\")\n",
    "men_cloth2.click()"
   ]
  },
  {
   "cell_type": "code",
   "execution_count": 51,
   "id": "00df35f6",
   "metadata": {},
   "outputs": [],
   "source": [
    "product_tags=driver.find_elements(By.XPATH,'//div[@class=\"ProductCard_description__BQzle\"]')\n",
    "for i in product_tags:\n",
    "    Product=i.text\n",
    "    Product_name.append(Product)\n",
    "  "
   ]
  },
  {
   "cell_type": "code",
   "execution_count": 52,
   "id": "b0e53833",
   "metadata": {},
   "outputs": [
    {
     "data": {
      "text/plain": [
       "1422"
      ]
     },
     "execution_count": 52,
     "metadata": {},
     "output_type": "execute_result"
    }
   ],
   "source": [
    "len(Product_name)"
   ]
  },
  {
   "cell_type": "code",
   "execution_count": 53,
   "id": "2557792d",
   "metadata": {},
   "outputs": [],
   "source": [
    "name_to_append='Men'\n",
    "i=1\n",
    "for i in range(0,414):\n",
    "    department.append(name_to_append)\n",
    "    i+=1"
   ]
  },
  {
   "cell_type": "code",
   "execution_count": 54,
   "id": "b6abace2",
   "metadata": {},
   "outputs": [
    {
     "data": {
      "text/plain": [
       "1422"
      ]
     },
     "execution_count": 54,
     "metadata": {},
     "output_type": "execute_result"
    }
   ],
   "source": [
    "len(department)"
   ]
  },
  {
   "cell_type": "code",
   "execution_count": 55,
   "id": "420a25db",
   "metadata": {},
   "outputs": [],
   "source": [
    "name_to_append2='Formalshirts'\n",
    "i=1\n",
    "for i in range(0,414):\n",
    "    category.append(name_to_append2)\n",
    "    i+=1"
   ]
  },
  {
   "cell_type": "code",
   "execution_count": 56,
   "id": "92af83eb",
   "metadata": {},
   "outputs": [
    {
     "data": {
      "text/plain": [
       "1422"
      ]
     },
     "execution_count": 56,
     "metadata": {},
     "output_type": "execute_result"
    }
   ],
   "source": [
    "len(category)"
   ]
  },
  {
   "cell_type": "code",
   "execution_count": 57,
   "id": "ec80a5bf",
   "metadata": {},
   "outputs": [],
   "source": [
    "price_tags=driver.find_elements(By.XPATH,'//span[@class=\"price\"]')\n",
    "for i in price_tags:\n",
    "    Price=i.text\n",
    "    price.append(Price)"
   ]
  },
  {
   "cell_type": "code",
   "execution_count": 254,
   "id": "231b8ca6",
   "metadata": {
    "collapsed": true
   },
   "outputs": [
    {
     "data": {
      "text/plain": [
       "['₹ 759',\n",
       " '₹ 1,249',\n",
       " '₹ 899',\n",
       " '₹ 2,499',\n",
       " '₹ 1,349',\n",
       " '₹ 679',\n",
       " '₹ 999',\n",
       " '₹ 679',\n",
       " '₹ 799',\n",
       " '₹ 899',\n",
       " '₹ 759',\n",
       " '₹ 749',\n",
       " '₹ 974',\n",
       " '₹ 849',\n",
       " '₹ 1,259',\n",
       " '₹ 1,099',\n",
       " '₹ 1,099',\n",
       " '₹ 1,104',\n",
       " '₹ 899',\n",
       " '₹ 934',\n",
       " '₹ 1,199',\n",
       " '₹ 999',\n",
       " '₹ 1,264',\n",
       " '₹ 1,249',\n",
       " '₹ 999',\n",
       " '₹ 599',\n",
       " '₹ 759',\n",
       " '₹ 849',\n",
       " '₹ 949',\n",
       " '₹ 949',\n",
       " '₹ 1,099',\n",
       " '₹ 1,099',\n",
       " '₹ 974',\n",
       " '₹ 989',\n",
       " '₹ 949',\n",
       " '₹ 639',\n",
       " '₹ 679',\n",
       " '₹ 1,264',\n",
       " '₹ 1,099',\n",
       " '₹ 999',\n",
       " '₹ 2,099',\n",
       " '₹ 1,624',\n",
       " '₹ 1,624',\n",
       " '₹ 1,624',\n",
       " '₹ 1,494',\n",
       " '₹ 1,624',\n",
       " '₹ 2,449',\n",
       " '₹ 1,749',\n",
       " '₹ 1,959',\n",
       " '₹ 1,749',\n",
       " '₹ 1,814',\n",
       " '₹ 1,749',\n",
       " '₹ 1,959',\n",
       " '₹ 1,494',\n",
       " '₹ 1,494',\n",
       " '₹ 2,449',\n",
       " '₹ 2,449',\n",
       " '₹ 1,959',\n",
       " '₹ 2,309',\n",
       " '₹ 1,749',\n",
       " '₹ 2,449',\n",
       " '₹ 2,309',\n",
       " '₹ 1,264',\n",
       " '₹ 1,099',\n",
       " '₹ 1,624',\n",
       " '₹ 1,299',\n",
       " '₹ 1,624',\n",
       " '₹ 1,624',\n",
       " '₹ 1,299',\n",
       " '₹ 1,494',\n",
       " '₹ 1,299',\n",
       " '₹ 1,494',\n",
       " '₹ 1,624',\n",
       " '₹ 2,449',\n",
       " '₹ 1,299',\n",
       " '₹ 1,264',\n",
       " '₹ 1,099',\n",
       " '₹ 1,624',\n",
       " '₹ 1,299',\n",
       " '₹ 1,624',\n",
       " '₹ 1,624',\n",
       " '₹ 1,299',\n",
       " '₹ 1,494',\n",
       " '₹ 1,299',\n",
       " '₹ 1,494',\n",
       " '₹ 1,494',\n",
       " '₹ 1,494',\n",
       " '₹ 1,624',\n",
       " '₹ 1,749',\n",
       " '₹ 2,449',\n",
       " '₹ 2,309',\n",
       " '₹ 2,309',\n",
       " '₹ 1,494',\n",
       " '₹ 1,539',\n",
       " '₹ 1,624',\n",
       " '₹ 1,039',\n",
       " '₹ 1,494',\n",
       " '₹ 1,814',\n",
       " '₹ 1,749',\n",
       " '₹ 1,374',\n",
       " '₹ 1,749',\n",
       " '₹ 1,749',\n",
       " '₹ 1,749',\n",
       " '₹ 1,749',\n",
       " '₹ 2,449',\n",
       " '₹ 2,449',\n",
       " '₹ 1,649',\n",
       " '₹ 2,309',\n",
       " '₹ 1,749',\n",
       " '₹ 2,099',\n",
       " '₹ 2,309',\n",
       " '₹ 2,449',\n",
       " '₹ 2,449',\n",
       " '₹ 1,494',\n",
       " '₹ 1,494',\n",
       " '₹ 2,449',\n",
       " '₹ 2,449',\n",
       " '₹ 1,959',\n",
       " '₹ 1,749',\n",
       " '₹ 1,494',\n",
       " '₹ 2,449',\n",
       " '₹ 1,814',\n",
       " '₹ 2,449',\n",
       " '₹ 2,449',\n",
       " '₹ 1,609',\n",
       " '₹ 2,099',\n",
       " '₹ 1,959',\n",
       " '₹ 1,149',\n",
       " '₹ 879',\n",
       " '₹ 989',\n",
       " '₹ 2,449',\n",
       " '₹ 1,959',\n",
       " '₹ 1,494',\n",
       " '₹ 1,499',\n",
       " '₹ 1,299',\n",
       " '₹ 1,749',\n",
       " '₹ 2,449',\n",
       " '₹ 2,449',\n",
       " '₹ 1,749',\n",
       " '₹ 2,449',\n",
       " '₹ 2,449',\n",
       " '₹ 2,309',\n",
       " '₹ 2,449',\n",
       " '₹ 2,309',\n",
       " '₹ 1,749',\n",
       " '₹ 1,299',\n",
       " '₹ 1,494',\n",
       " '₹ 1,749',\n",
       " '₹ 1,299',\n",
       " '₹ 1,494',\n",
       " '₹ 1,539',\n",
       " '₹ 1,624',\n",
       " '₹ 1,039',\n",
       " '₹ 1,494',\n",
       " '₹ 1,814',\n",
       " '₹ 1,749',\n",
       " '₹ 1,374',\n",
       " '₹ 1,749',\n",
       " '₹ 1,749',\n",
       " '₹ 1,749',\n",
       " '₹ 1,749',\n",
       " '₹ 2,449',\n",
       " '₹ 989',\n",
       " '₹ 1,749',\n",
       " '₹ 1,749',\n",
       " '₹ 1,099',\n",
       " '₹ 1,374',\n",
       " '₹ 2,449',\n",
       " '₹ 2,449',\n",
       " '₹ 2,099',\n",
       " '₹ 2,309',\n",
       " '₹ 2,309',\n",
       " '₹ 1,749',\n",
       " '₹ 2,449',\n",
       " '₹ 2,449',\n",
       " '₹ 2,309',\n",
       " '₹ 2,449',\n",
       " '₹ 2,309',\n",
       " '₹ 2,449',\n",
       " '₹ 2,449',\n",
       " '₹ 1,649',\n",
       " '₹ 2,099',\n",
       " '₹ 1,499',\n",
       " '₹ 989',\n",
       " '₹ 1,494',\n",
       " '₹ 2,099',\n",
       " '₹ 2,449',\n",
       " '₹ 1,494',\n",
       " '₹ 1,749',\n",
       " '₹ 1,624',\n",
       " '₹ 2,449',\n",
       " '₹ 2,449',\n",
       " '₹ 2,309',\n",
       " '₹ 1,379',\n",
       " '₹ 1,399',\n",
       " '₹ 1,679',\n",
       " '₹ 2,099',\n",
       " '₹ 1,749',\n",
       " '₹ 1,609',\n",
       " '₹ 1,044',\n",
       " '₹ 1,264',\n",
       " '₹ 1,099',\n",
       " '₹ 1,099',\n",
       " '₹ 1,264',\n",
       " '₹ 1,099',\n",
       " '₹ 1,494',\n",
       " '₹ 1,299',\n",
       " '₹ 1,494',\n",
       " '₹ 1,374',\n",
       " '₹ 1,814',\n",
       " '₹ 1,494',\n",
       " '₹ 1,099',\n",
       " '₹ 1,149',\n",
       " '₹ 1,374',\n",
       " '₹ 1,234',\n",
       " '₹ 1,234',\n",
       " '₹ 1,234',\n",
       " '₹ 1,624',\n",
       " '₹ 1,624',\n",
       " '₹ 1,299',\n",
       " '₹ 1,494',\n",
       " '₹ 1,624',\n",
       " '₹ 1,624',\n",
       " '₹ 1,624',\n",
       " '₹ 1,494',\n",
       " '₹ 1,624',\n",
       " '₹ 1,494',\n",
       " '₹ 1,689',\n",
       " '₹ 1,649',\n",
       " '₹ 1,249',\n",
       " '₹ 1,649',\n",
       " '₹ 1,374',\n",
       " '₹ 1,374',\n",
       " '₹ 1,264',\n",
       " '₹ 1,299',\n",
       " '₹ 1,494',\n",
       " '₹ 1,374',\n",
       " '₹ 1,624',\n",
       " '₹ 1,374',\n",
       " '₹ 1,264',\n",
       " '₹ 1,299',\n",
       " '₹ 1,624',\n",
       " '₹ 1,374',\n",
       " '₹ 1,264',\n",
       " '₹ 1,374',\n",
       " '₹ 1,374',\n",
       " '₹ 1,264',\n",
       " '₹ 1,299',\n",
       " '₹ 1,299',\n",
       " '₹ 1,624',\n",
       " '₹ 1,299',\n",
       " '₹ 1,494',\n",
       " '₹ 1,494',\n",
       " '₹ 1,234',\n",
       " '₹ 1,624',\n",
       " '₹ 1,624',\n",
       " '₹ 1,234',\n",
       " '₹ 1,494',\n",
       " '₹ 1,299',\n",
       " '₹ 1,689',\n",
       " '₹ 1,044',\n",
       " '₹ 1,374',\n",
       " '₹ 1,099',\n",
       " '₹ 1,374',\n",
       " '₹ 1,494',\n",
       " '₹ 1,624',\n",
       " '₹ 1,494',\n",
       " '₹ 1,689',\n",
       " '₹ 1,649',\n",
       " '₹ 1,249',\n",
       " '₹ 1,649',\n",
       " '₹ 1,374',\n",
       " '₹ 1,264',\n",
       " '₹ 1,299',\n",
       " '₹ 1,494',\n",
       " '₹ 1,374',\n",
       " '₹ 1,624',\n",
       " '₹ 1,374',\n",
       " '₹ 1,264',\n",
       " '₹ 1,299',\n",
       " '₹ 1,624',\n",
       " '₹ 1,374',\n",
       " '₹ 1,264',\n",
       " '₹ 1,374',\n",
       " '₹ 1,374',\n",
       " '₹ 1,264',\n",
       " '₹ 1,299',\n",
       " '₹ 1,299',\n",
       " '₹ 1,624',\n",
       " '₹ 1,299',\n",
       " '₹ 1,494',\n",
       " '₹ 1,494',\n",
       " '₹ 1,234',\n",
       " '₹ 1,624',\n",
       " '₹ 1,624',\n",
       " '₹ 1,234',\n",
       " '₹ 1,494',\n",
       " '₹ 1,299',\n",
       " '₹ 1,689',\n",
       " '₹ 1,044',\n",
       " '₹ 1,374',\n",
       " '₹ 1,099',\n",
       " '₹ 1,374',\n",
       " '₹ 1,099',\n",
       " '₹ 1,264',\n",
       " '₹ 1,099',\n",
       " '₹ 1,374',\n",
       " '₹ 1,374',\n",
       " '₹ 1,624',\n",
       " '₹ 1,169',\n",
       " '₹ 1,494',\n",
       " '₹ 1,689',\n",
       " '₹ 1,299',\n",
       " '₹ 1,299',\n",
       " '₹ 1,624',\n",
       " '₹ 1,299',\n",
       " '₹ 1,494',\n",
       " '₹ 1,299',\n",
       " '₹ 1,169',\n",
       " '₹ 1,299',\n",
       " '₹ 1,624',\n",
       " '₹ 1,299',\n",
       " '₹ 1,624',\n",
       " '₹ 1,624',\n",
       " '₹ 1,494',\n",
       " '₹ 2,309',\n",
       " '₹ 1,649',\n",
       " '₹ 1,299',\n",
       " '₹ 1,494',\n",
       " '₹ 1,494',\n",
       " '₹ 1,234',\n",
       " '₹ 1,299',\n",
       " '₹ 1,494',\n",
       " '₹ 1,299',\n",
       " '₹ 1,494',\n",
       " '₹ 1,999',\n",
       " '₹ 1,494',\n",
       " '₹ 1,609',\n",
       " '₹ 1,624',\n",
       " '₹ 1,499',\n",
       " '₹ 1,264',\n",
       " '₹ 1,624',\n",
       " '₹ 1,624',\n",
       " '₹ 1,374',\n",
       " '₹ 1,624',\n",
       " '₹ 1,494',\n",
       " '₹ 1,624',\n",
       " '₹ 1,494',\n",
       " '₹ 1,494',\n",
       " '₹ 1,624',\n",
       " '₹ 1,494',\n",
       " '₹ 1,494',\n",
       " '₹ 1,494',\n",
       " '₹ 1,234',\n",
       " '₹ 1,299',\n",
       " '₹ 1,374',\n",
       " '₹ 1,494',\n",
       " '₹ 1,299',\n",
       " '₹ 1,494',\n",
       " '₹ 1,264',\n",
       " '₹ 1,099',\n",
       " '₹ 1,264',\n",
       " '₹ 1,374',\n",
       " '₹ 1,494',\n",
       " '₹ 1,264',\n",
       " '₹ 1,374',\n",
       " '₹ 989',\n",
       " '₹ 1,126',\n",
       " '₹ 1,264',\n",
       " '₹ 1,099',\n",
       " '₹ 1,044',\n",
       " '₹ 1,814',\n",
       " '₹ 1,099',\n",
       " '₹ 1,264',\n",
       " '₹ 1,539',\n",
       " '₹ 1,649',\n",
       " '₹ 1,679',\n",
       " '₹ 1,374',\n",
       " '₹ 1,264',\n",
       " '₹ 1,649',\n",
       " '₹ 1,374',\n",
       " '₹ 1,374',\n",
       " '₹ 1,379',\n",
       " '₹ 1,264',\n",
       " '₹ 1,099',\n",
       " '₹ 1,374',\n",
       " '₹ 1,374',\n",
       " '₹ 1,264',\n",
       " '₹ 1,924',\n",
       " '₹ 1,649',\n",
       " '₹ 2,309',\n",
       " '₹ 2,099',\n",
       " '₹ 1,749',\n",
       " '₹ 2,449',\n",
       " '₹ 1,624',\n",
       " '₹ 1,624',\n",
       " '₹ 1,749',\n",
       " '₹ 1,624',\n",
       " '₹ 1,299',\n",
       " '₹ 1,649',\n",
       " '₹ 1,494',\n",
       " '₹ 1,494',\n",
       " '₹ 1,649',\n",
       " '₹ 1,374',\n",
       " '₹ 1,494',\n",
       " '₹ 1,299',\n",
       " '₹ 1,494',\n",
       " '₹ 1,299',\n",
       " '₹ 1,264',\n",
       " '₹ 1,494',\n",
       " '₹ 1,624',\n",
       " '₹ 1,099',\n",
       " '₹ 1,299',\n",
       " '₹ 1,494',\n",
       " '₹ 1,494',\n",
       " '₹ 1,959',\n",
       " '₹ 1,749',\n",
       " '₹ 1,749',\n",
       " '₹ 1,494',\n",
       " '₹ 1,539',\n",
       " '₹ 1,299',\n",
       " '₹ 1,494',\n",
       " '₹ 1,264',\n",
       " '₹ 1,099',\n",
       " '₹ 1,264',\n",
       " '₹ 1,374',\n",
       " '₹ 1,494',\n",
       " '₹ 1,264',\n",
       " '₹ 1,374',\n",
       " '₹ 989',\n",
       " '₹ 1,126',\n",
       " '₹ 934',\n",
       " '₹ 934',\n",
       " '₹ 1,374',\n",
       " '₹ 1,099',\n",
       " '₹ 1,264',\n",
       " '₹ 1,099',\n",
       " '₹ 1,044',\n",
       " '₹ 1,814',\n",
       " '₹ 1,099',\n",
       " '₹ 1,264',\n",
       " '₹ 1,539',\n",
       " '₹ 1,649',\n",
       " '₹ 1,679',\n",
       " '₹ 1,374',\n",
       " '₹ 1,264',\n",
       " '₹ 1,649',\n",
       " '₹ 1,374',\n",
       " '₹ 1,374',\n",
       " '₹ 1,379',\n",
       " '₹ 1,264',\n",
       " '₹ 1,099',\n",
       " '₹ 999',\n",
       " '₹ 989',\n",
       " '₹ 1,264',\n",
       " '₹ 719',\n",
       " '₹ 1,299',\n",
       " '₹ 1,374',\n",
       " '₹ 1,374',\n",
       " '₹ 1,749',\n",
       " '₹ 1,374',\n",
       " '₹ 1,499',\n",
       " '₹ 1,039',\n",
       " '₹ 1,264',\n",
       " '₹ 1,264',\n",
       " '₹ 1,539',\n",
       " '₹ 1,494',\n",
       " '₹ 1,264',\n",
       " '₹ 1,539',\n",
       " '₹ 1,299',\n",
       " '₹ 1,609',\n",
       " '₹ 1,099',\n",
       " '₹ 1,264',\n",
       " '₹ 1,079',\n",
       " '₹ 1,044',\n",
       " '₹ 1,044',\n",
       " '₹ 934',\n",
       " '₹ 879',\n",
       " '₹ 989',\n",
       " '₹ 1,099',\n",
       " '₹ 1,099',\n",
       " '₹ 1,374',\n",
       " '₹ 1,044',\n",
       " '₹ 1,299',\n",
       " '₹ 1,299',\n",
       " '₹ 1,494',\n",
       " '₹ 1,494',\n",
       " '₹ 1,959',\n",
       " '₹ 1,749',\n",
       " '₹ 1,749',\n",
       " '₹ 1,494',\n",
       " '₹ 1,299',\n",
       " '₹ 1,399',\n",
       " '₹ 1,494',\n",
       " '₹ 1,264',\n",
       " '₹ 1,624',\n",
       " '₹ 1,609']"
      ]
     },
     "execution_count": 254,
     "metadata": {},
     "output_type": "execute_result"
    }
   ],
   "source": [
    "price[1000:]"
   ]
  },
  {
   "cell_type": "code",
   "execution_count": 58,
   "id": "cddf19b6",
   "metadata": {},
   "outputs": [
    {
     "data": {
      "text/plain": [
       "1422"
      ]
     },
     "execution_count": 58,
     "metadata": {},
     "output_type": "execute_result"
    }
   ],
   "source": [
    "len(price)"
   ]
  },
  {
   "cell_type": "code",
   "execution_count": 59,
   "id": "19375516",
   "metadata": {},
   "outputs": [],
   "source": [
    "color_tags=driver.find_elements(By.XPATH,'//div[@class=\"ProductCard_productInfo__uZhFN productInfo\"]')\n",
    "for i in color_tags:\n",
    "    Color=i.text\n",
    "    color.append(Color)"
   ]
  },
  {
   "cell_type": "code",
   "execution_count": 60,
   "id": "544f7003",
   "metadata": {},
   "outputs": [
    {
     "data": {
      "text/plain": [
       "1422"
      ]
     },
     "execution_count": 60,
     "metadata": {},
     "output_type": "execute_result"
    }
   ],
   "source": [
    "len(color)"
   ]
  },
  {
   "cell_type": "code",
   "execution_count": 61,
   "id": "947ad495",
   "metadata": {},
   "outputs": [
    {
     "data": {
      "text/plain": [
       "1422"
      ]
     },
     "execution_count": 61,
     "metadata": {},
     "output_type": "execute_result"
    }
   ],
   "source": [
    "len(Product_name)\n",
    "len(price)\n",
    "len(category)\n",
    "len(department)\n",
    "len(color)"
   ]
  },
  {
   "cell_type": "code",
   "execution_count": 62,
   "id": "f3a3560c",
   "metadata": {},
   "outputs": [
    {
     "data": {
      "text/plain": [
       "1422"
      ]
     },
     "execution_count": 62,
     "metadata": {},
     "output_type": "execute_result"
    }
   ],
   "source": [
    "len(price)\n"
   ]
  },
  {
   "cell_type": "code",
   "execution_count": 63,
   "id": "fbbaeeed",
   "metadata": {},
   "outputs": [
    {
     "data": {
      "text/plain": [
       "1422"
      ]
     },
     "execution_count": 63,
     "metadata": {},
     "output_type": "execute_result"
    }
   ],
   "source": [
    "len(category)\n"
   ]
  },
  {
   "cell_type": "code",
   "execution_count": 64,
   "id": "1405a6c0",
   "metadata": {},
   "outputs": [
    {
     "data": {
      "text/plain": [
       "1422"
      ]
     },
     "execution_count": 64,
     "metadata": {},
     "output_type": "execute_result"
    }
   ],
   "source": [
    "len(department)\n"
   ]
  },
  {
   "cell_type": "code",
   "execution_count": 65,
   "id": "7dc56d0f",
   "metadata": {},
   "outputs": [
    {
     "data": {
      "text/plain": [
       "1422"
      ]
     },
     "execution_count": 65,
     "metadata": {},
     "output_type": "execute_result"
    }
   ],
   "source": [
    "len(color)"
   ]
  },
  {
   "cell_type": "code",
   "execution_count": 66,
   "id": "a974c6f2",
   "metadata": {},
   "outputs": [],
   "source": [
    "driver=webdriver.Chrome()"
   ]
  },
  {
   "cell_type": "code",
   "execution_count": 67,
   "id": "2e1b65d2",
   "metadata": {},
   "outputs": [],
   "source": [
    "driver.get('http://allensolly.abfrl.in/')"
   ]
  },
  {
   "cell_type": "code",
   "execution_count": 68,
   "id": "d1e7bd8f",
   "metadata": {},
   "outputs": [],
   "source": [
    "women_cloth=driver.find_element(By.XPATH,'/html/body/div[1]/header/div[2]/div/div/div[2]/div/ul/li[6]/p/a')\n",
    "women_cloth.click()"
   ]
  },
  {
   "cell_type": "code",
   "execution_count": 69,
   "id": "29cde1f3",
   "metadata": {},
   "outputs": [],
   "source": [
    "women_cloth1=driver.find_element(By.XPATH,\"/html/body/div[1]/main/div/div[2]/div/div/div/div[2]/span/img\")\n",
    "women_cloth1.click() "
   ]
  },
  {
   "cell_type": "code",
   "execution_count": 70,
   "id": "30b9e6d1",
   "metadata": {},
   "outputs": [],
   "source": [
    "women_cloth2=driver.find_element(By.XPATH,\"/html/body/div[1]/main/div/div[2]/div/div/div[1]/label\")\n",
    "women_cloth2.click()"
   ]
  },
  {
   "cell_type": "code",
   "execution_count": 71,
   "id": "c4415d2a",
   "metadata": {},
   "outputs": [],
   "source": [
    "product_tags=driver.find_elements(By.XPATH,'//div[@class=\"ProductCard_description__BQzle\"]')\n",
    "for i in product_tags:\n",
    "    Product=i.text\n",
    "    Product_name.append(Product)\n",
    " "
   ]
  },
  {
   "cell_type": "code",
   "execution_count": 73,
   "id": "f46a2466",
   "metadata": {},
   "outputs": [
    {
     "data": {
      "text/plain": [
       "1712"
      ]
     },
     "execution_count": 73,
     "metadata": {},
     "output_type": "execute_result"
    }
   ],
   "source": [
    "len(Product_name)"
   ]
  },
  {
   "cell_type": "code",
   "execution_count": 74,
   "id": "703fb645",
   "metadata": {},
   "outputs": [],
   "source": [
    "name_to_append='Women'\n",
    "i=1\n",
    "for i in range(0,290):\n",
    "    department.append(name_to_append)\n",
    "    i+=1"
   ]
  },
  {
   "cell_type": "code",
   "execution_count": 75,
   "id": "72ca8325",
   "metadata": {},
   "outputs": [
    {
     "data": {
      "text/plain": [
       "1712"
      ]
     },
     "execution_count": 75,
     "metadata": {},
     "output_type": "execute_result"
    }
   ],
   "source": [
    "len(department)"
   ]
  },
  {
   "cell_type": "code",
   "execution_count": 76,
   "id": "293dbe9f",
   "metadata": {},
   "outputs": [],
   "source": [
    "name_to_append2='Tops'\n",
    "i=1\n",
    "for i in range(0,290):\n",
    "    category.append(name_to_append2)\n",
    "    i+=1"
   ]
  },
  {
   "cell_type": "code",
   "execution_count": 77,
   "id": "c0cd388a",
   "metadata": {},
   "outputs": [
    {
     "data": {
      "text/plain": [
       "1712"
      ]
     },
     "execution_count": 77,
     "metadata": {},
     "output_type": "execute_result"
    }
   ],
   "source": [
    "len(category)"
   ]
  },
  {
   "cell_type": "code",
   "execution_count": 78,
   "id": "7ecb9cd1",
   "metadata": {},
   "outputs": [],
   "source": [
    "price_tags=driver.find_elements(By.XPATH,'//span[@class=\"price\"]')\n",
    "for i in price_tags:\n",
    "    Price=i.text\n",
    "    price.append(Price)"
   ]
  },
  {
   "cell_type": "code",
   "execution_count": 79,
   "id": "6234293e",
   "metadata": {},
   "outputs": [
    {
     "data": {
      "text/plain": [
       "1712"
      ]
     },
     "execution_count": 79,
     "metadata": {},
     "output_type": "execute_result"
    }
   ],
   "source": [
    "len(price)"
   ]
  },
  {
   "cell_type": "code",
   "execution_count": 81,
   "id": "34922177",
   "metadata": {},
   "outputs": [],
   "source": [
    "color_tags=driver.find_elements(By.XPATH,'//div[@class=\"ProductCard_productColorText___jpq0\"]')\n",
    "for i in color_tags:\n",
    "    Color=i.text\n",
    "    color.append(Color)"
   ]
  },
  {
   "cell_type": "code",
   "execution_count": 82,
   "id": "3339d07b",
   "metadata": {},
   "outputs": [
    {
     "data": {
      "text/plain": [
       "1712"
      ]
     },
     "execution_count": 82,
     "metadata": {},
     "output_type": "execute_result"
    }
   ],
   "source": [
    "len(color)"
   ]
  },
  {
   "cell_type": "code",
   "execution_count": 83,
   "id": "dacda36e",
   "metadata": {},
   "outputs": [],
   "source": [
    "driver=webdriver.Chrome()"
   ]
  },
  {
   "cell_type": "code",
   "execution_count": 84,
   "id": "458656a7",
   "metadata": {},
   "outputs": [],
   "source": [
    "driver.get('http://allensolly.abfrl.in/')"
   ]
  },
  {
   "cell_type": "code",
   "execution_count": 86,
   "id": "748ce253",
   "metadata": {},
   "outputs": [],
   "source": [
    "women_cloth=driver.find_element(By.XPATH,'/html/body/div[1]/header/div[2]/div/div/div[2]/div/ul/li[6]/p/a')\n",
    "women_cloth.click()"
   ]
  },
  {
   "cell_type": "code",
   "execution_count": 87,
   "id": "fd5b2e2c",
   "metadata": {},
   "outputs": [],
   "source": [
    "women_cloth1=driver.find_element(By.XPATH,\"/html/body/div[1]/main/div/div[2]/div/div/div/div[2]/span/img\")\n",
    "women_cloth1.click() "
   ]
  },
  {
   "cell_type": "code",
   "execution_count": 88,
   "id": "4d434004",
   "metadata": {},
   "outputs": [],
   "source": [
    "women_cloth2=driver.find_element(By.XPATH,\"/html/body/div[1]/main/div/div[2]/div/div/div[2]/label\")\n",
    "women_cloth2.click()"
   ]
  },
  {
   "cell_type": "code",
   "execution_count": 89,
   "id": "fb7f0781",
   "metadata": {},
   "outputs": [],
   "source": [
    "product_tags=driver.find_elements(By.XPATH,'//div[@class=\"ProductCard_description__BQzle\"]')\n",
    "for i in product_tags:\n",
    "    Product=i.text\n",
    "    Product_name.append(Product)\n",
    " "
   ]
  },
  {
   "cell_type": "code",
   "execution_count": 90,
   "id": "2bf70e84",
   "metadata": {},
   "outputs": [
    {
     "data": {
      "text/plain": [
       "1860"
      ]
     },
     "execution_count": 90,
     "metadata": {},
     "output_type": "execute_result"
    }
   ],
   "source": [
    "len(Product_name)"
   ]
  },
  {
   "cell_type": "code",
   "execution_count": 91,
   "id": "06f8d53d",
   "metadata": {},
   "outputs": [],
   "source": [
    "name_to_append='Women'\n",
    "i=1\n",
    "for i in range(0,148):\n",
    "    department.append(name_to_append)\n",
    "    i+=1"
   ]
  },
  {
   "cell_type": "code",
   "execution_count": 92,
   "id": "4ed4ddd4",
   "metadata": {},
   "outputs": [
    {
     "data": {
      "text/plain": [
       "1860"
      ]
     },
     "execution_count": 92,
     "metadata": {},
     "output_type": "execute_result"
    }
   ],
   "source": [
    "len(department)"
   ]
  },
  {
   "cell_type": "code",
   "execution_count": 93,
   "id": "462f548e",
   "metadata": {},
   "outputs": [],
   "source": [
    "name_to_append2='Casual dress'\n",
    "i=1\n",
    "for i in range(0,148):\n",
    "    category.append(name_to_append2)\n",
    "    i+=1"
   ]
  },
  {
   "cell_type": "code",
   "execution_count": 94,
   "id": "211350b3",
   "metadata": {},
   "outputs": [
    {
     "data": {
      "text/plain": [
       "1860"
      ]
     },
     "execution_count": 94,
     "metadata": {},
     "output_type": "execute_result"
    }
   ],
   "source": [
    "len(category)"
   ]
  },
  {
   "cell_type": "code",
   "execution_count": 95,
   "id": "aed7b2d8",
   "metadata": {},
   "outputs": [],
   "source": [
    "price_tags=driver.find_elements(By.XPATH,'//span[@class=\"price\"]')\n",
    "for i in price_tags:\n",
    "    Price=i.text\n",
    "    price.append(Price)"
   ]
  },
  {
   "cell_type": "code",
   "execution_count": 96,
   "id": "80fb0fee",
   "metadata": {},
   "outputs": [
    {
     "data": {
      "text/plain": [
       "1860"
      ]
     },
     "execution_count": 96,
     "metadata": {},
     "output_type": "execute_result"
    }
   ],
   "source": [
    "len(price)"
   ]
  },
  {
   "cell_type": "code",
   "execution_count": 97,
   "id": "776e3b13",
   "metadata": {},
   "outputs": [],
   "source": [
    "color_tags=driver.find_elements(By.XPATH,'//div[@class=\"ProductCard_productColorText___jpq0\"]')\n",
    "for i in color_tags:\n",
    "    Color=i.text\n",
    "    color.append(Color)"
   ]
  },
  {
   "cell_type": "code",
   "execution_count": 98,
   "id": "d65360cb",
   "metadata": {},
   "outputs": [
    {
     "data": {
      "text/plain": [
       "1860"
      ]
     },
     "execution_count": 98,
     "metadata": {},
     "output_type": "execute_result"
    }
   ],
   "source": [
    "len(color)"
   ]
  },
  {
   "cell_type": "code",
   "execution_count": 99,
   "id": "ee8f64f7",
   "metadata": {},
   "outputs": [],
   "source": [
    "driver=webdriver.Chrome()"
   ]
  },
  {
   "cell_type": "code",
   "execution_count": 100,
   "id": "f7a269c4",
   "metadata": {},
   "outputs": [],
   "source": [
    "driver.get('http://allensolly.abfrl.in/')"
   ]
  },
  {
   "cell_type": "code",
   "execution_count": 101,
   "id": "6cd5236b",
   "metadata": {},
   "outputs": [],
   "source": [
    "women_cloth=driver.find_element(By.XPATH,'/html/body/div[1]/header/div[2]/div/div/div[2]/div/ul/li[6]/p/a')\n",
    "women_cloth.click()"
   ]
  },
  {
   "cell_type": "code",
   "execution_count": 103,
   "id": "dd523cb7",
   "metadata": {},
   "outputs": [],
   "source": [
    "women_cloth1=driver.find_element(By.XPATH,\"/html/body/div[1]/main/div/div[2]/div/div/div/div[2]/span/img\")\n",
    "women_cloth1.click()"
   ]
  },
  {
   "cell_type": "code",
   "execution_count": 104,
   "id": "e59c3894",
   "metadata": {},
   "outputs": [],
   "source": [
    "women_cloth2=driver.find_element(By.XPATH,\"/html/body/div[1]/main/div/div[2]/div/div/div[3]/label\")\n",
    "women_cloth2.click()"
   ]
  },
  {
   "cell_type": "code",
   "execution_count": 105,
   "id": "41455075",
   "metadata": {},
   "outputs": [],
   "source": [
    "product_tags=driver.find_elements(By.XPATH,'//div[@class=\"ProductCard_description__BQzle\"]')\n",
    "for i in product_tags:\n",
    "    Product=i.text\n",
    "    Product_name.append(Product)\n",
    " "
   ]
  },
  {
   "cell_type": "code",
   "execution_count": 106,
   "id": "07fefdbe",
   "metadata": {},
   "outputs": [
    {
     "data": {
      "text/plain": [
       "1987"
      ]
     },
     "execution_count": 106,
     "metadata": {},
     "output_type": "execute_result"
    }
   ],
   "source": [
    "len(Product_name)"
   ]
  },
  {
   "cell_type": "code",
   "execution_count": 107,
   "id": "1233208b",
   "metadata": {},
   "outputs": [],
   "source": [
    "name_to_append='Women'\n",
    "i=1\n",
    "for i in range(0,127):\n",
    "    department.append(name_to_append)\n",
    "    i+=1"
   ]
  },
  {
   "cell_type": "code",
   "execution_count": 108,
   "id": "58103266",
   "metadata": {},
   "outputs": [
    {
     "data": {
      "text/plain": [
       "1987"
      ]
     },
     "execution_count": 108,
     "metadata": {},
     "output_type": "execute_result"
    }
   ],
   "source": [
    "len(department)"
   ]
  },
  {
   "cell_type": "code",
   "execution_count": 109,
   "id": "bb734f2d",
   "metadata": {},
   "outputs": [],
   "source": [
    "name_to_append2='Sweatshirts'\n",
    "i=1\n",
    "for i in range(0,127):\n",
    "    category.append(name_to_append2)\n",
    "    i+=1"
   ]
  },
  {
   "cell_type": "code",
   "execution_count": 110,
   "id": "ace23c9b",
   "metadata": {},
   "outputs": [
    {
     "data": {
      "text/plain": [
       "1987"
      ]
     },
     "execution_count": 110,
     "metadata": {},
     "output_type": "execute_result"
    }
   ],
   "source": [
    "len(category)"
   ]
  },
  {
   "cell_type": "code",
   "execution_count": 111,
   "id": "fe658d29",
   "metadata": {},
   "outputs": [],
   "source": [
    "price_tags=driver.find_elements(By.XPATH,'//span[@class=\"price\"]')\n",
    "for i in price_tags:\n",
    "    Price=i.text\n",
    "    price.append(Price)"
   ]
  },
  {
   "cell_type": "code",
   "execution_count": 112,
   "id": "bf551bae",
   "metadata": {},
   "outputs": [
    {
     "data": {
      "text/plain": [
       "1987"
      ]
     },
     "execution_count": 112,
     "metadata": {},
     "output_type": "execute_result"
    }
   ],
   "source": [
    "len(price)"
   ]
  },
  {
   "cell_type": "code",
   "execution_count": 113,
   "id": "de97294c",
   "metadata": {},
   "outputs": [],
   "source": [
    "color_tags=driver.find_elements(By.XPATH,'//div[@class=\"ProductCard_productColorText___jpq0\"]')\n",
    "for i in color_tags:\n",
    "    Color=i.text\n",
    "    color.append(Color)"
   ]
  },
  {
   "cell_type": "code",
   "execution_count": 114,
   "id": "d3ec7809",
   "metadata": {},
   "outputs": [
    {
     "data": {
      "text/plain": [
       "1987"
      ]
     },
     "execution_count": 114,
     "metadata": {},
     "output_type": "execute_result"
    }
   ],
   "source": [
    "len(color)"
   ]
  },
  {
   "cell_type": "code",
   "execution_count": 115,
   "id": "afafcae7",
   "metadata": {},
   "outputs": [],
   "source": [
    "women_cloth2=driver.find_element(By.XPATH,\"/html/body/div[1]/main/div/div[2]/div/div/div[4]/label\")\n",
    "women_cloth2.click()"
   ]
  },
  {
   "cell_type": "code",
   "execution_count": 116,
   "id": "e86b217b",
   "metadata": {},
   "outputs": [],
   "source": [
    "product_tags=driver.find_elements(By.XPATH,'//div[@class=\"ProductCard_description__BQzle\"]')\n",
    "for i in product_tags:\n",
    "    Product=i.text\n",
    "    Product_name.append(Product)\n",
    " "
   ]
  },
  {
   "cell_type": "code",
   "execution_count": 117,
   "id": "c166ff9e",
   "metadata": {},
   "outputs": [
    {
     "data": {
      "text/plain": [
       "2092"
      ]
     },
     "execution_count": 117,
     "metadata": {},
     "output_type": "execute_result"
    }
   ],
   "source": [
    "len(Product_name)"
   ]
  },
  {
   "cell_type": "code",
   "execution_count": 128,
   "id": "b583192e",
   "metadata": {},
   "outputs": [],
   "source": []
  },
  {
   "cell_type": "code",
   "execution_count": 126,
   "id": "17a9443e",
   "metadata": {},
   "outputs": [],
   "source": []
  },
  {
   "cell_type": "code",
   "execution_count": 129,
   "id": "9085497a",
   "metadata": {},
   "outputs": [
    {
     "data": {
      "text/plain": [
       "2092"
      ]
     },
     "execution_count": 129,
     "metadata": {},
     "output_type": "execute_result"
    }
   ],
   "source": [
    "len(Product_name)"
   ]
  },
  {
   "cell_type": "code",
   "execution_count": 118,
   "id": "9f785297",
   "metadata": {},
   "outputs": [],
   "source": [
    "name_to_append='Women'\n",
    "i=1\n",
    "for i in range(0,105):\n",
    "    department.append(name_to_append)\n",
    "    i+=1"
   ]
  },
  {
   "cell_type": "code",
   "execution_count": 119,
   "id": "bccbdb6d",
   "metadata": {},
   "outputs": [
    {
     "data": {
      "text/plain": [
       "2092"
      ]
     },
     "execution_count": 119,
     "metadata": {},
     "output_type": "execute_result"
    }
   ],
   "source": [
    "len(department)"
   ]
  },
  {
   "cell_type": "code",
   "execution_count": 120,
   "id": "4bed0c12",
   "metadata": {},
   "outputs": [],
   "source": [
    "name_to_append2='Causual trousers'\n",
    "i=1\n",
    "for i in range(0,105):\n",
    "    category.append(name_to_append2)\n",
    "    i+=1"
   ]
  },
  {
   "cell_type": "code",
   "execution_count": 121,
   "id": "75fb582d",
   "metadata": {},
   "outputs": [
    {
     "data": {
      "text/plain": [
       "2092"
      ]
     },
     "execution_count": 121,
     "metadata": {},
     "output_type": "execute_result"
    }
   ],
   "source": [
    "len(category)"
   ]
  },
  {
   "cell_type": "code",
   "execution_count": 130,
   "id": "97c166d3",
   "metadata": {},
   "outputs": [],
   "source": [
    "num_add=1150\n",
    "price.append(num_add)"
   ]
  },
  {
   "cell_type": "code",
   "execution_count": 131,
   "id": "24bedeb8",
   "metadata": {},
   "outputs": [],
   "source": [
    "price_tags=driver.find_elements(By.XPATH,'//span[@class=\"price\"]')\n",
    "for i in price_tags:\n",
    "    Price=i.text\n",
    "    price.append(Price)"
   ]
  },
  {
   "cell_type": "code",
   "execution_count": 132,
   "id": "300d410b",
   "metadata": {},
   "outputs": [
    {
     "data": {
      "text/plain": [
       "2092"
      ]
     },
     "execution_count": 132,
     "metadata": {},
     "output_type": "execute_result"
    }
   ],
   "source": [
    "len(price)"
   ]
  },
  {
   "cell_type": "code",
   "execution_count": 133,
   "id": "966af1e8",
   "metadata": {},
   "outputs": [
    {
     "data": {
      "text/plain": [
       "1987"
      ]
     },
     "execution_count": 133,
     "metadata": {},
     "output_type": "execute_result"
    }
   ],
   "source": [
    "len(color)"
   ]
  },
  {
   "cell_type": "code",
   "execution_count": 134,
   "id": "cde59c53",
   "metadata": {},
   "outputs": [],
   "source": [
    "color_name='Purple'\n",
    "color.append(color_name)"
   ]
  },
  {
   "cell_type": "code",
   "execution_count": 135,
   "id": "d78d4d20",
   "metadata": {},
   "outputs": [
    {
     "data": {
      "text/plain": [
       "1988"
      ]
     },
     "execution_count": 135,
     "metadata": {},
     "output_type": "execute_result"
    }
   ],
   "source": [
    "len(color)"
   ]
  },
  {
   "cell_type": "code",
   "execution_count": 136,
   "id": "bd9285e3",
   "metadata": {},
   "outputs": [],
   "source": [
    "color_tags=driver.find_elements(By.XPATH,'//DIV[@class=\"ProductCard_productColorText___jpq0\"]')\n",
    "for i in color_tags:\n",
    "    Color=i.text\n",
    "    color.append(Color)"
   ]
  },
  {
   "cell_type": "code",
   "execution_count": 137,
   "id": "d8d694d8",
   "metadata": {},
   "outputs": [
    {
     "data": {
      "text/plain": [
       "2096"
      ]
     },
     "execution_count": 137,
     "metadata": {},
     "output_type": "execute_result"
    }
   ],
   "source": [
    "len(color)"
   ]
  },
  {
   "cell_type": "code",
   "execution_count": 138,
   "id": "32b8c977",
   "metadata": {},
   "outputs": [],
   "source": [
    "color=color[:2092]"
   ]
  },
  {
   "cell_type": "code",
   "execution_count": 139,
   "id": "ede30e46",
   "metadata": {},
   "outputs": [
    {
     "data": {
      "text/plain": [
       "2092"
      ]
     },
     "execution_count": 139,
     "metadata": {},
     "output_type": "execute_result"
    }
   ],
   "source": [
    "len(color)"
   ]
  },
  {
   "cell_type": "code",
   "execution_count": 140,
   "id": "5e1b6160",
   "metadata": {},
   "outputs": [],
   "source": [
    "import pandas as pd\n",
    "import numpy as np"
   ]
  },
  {
   "cell_type": "code",
   "execution_count": 145,
   "id": "bad95791",
   "metadata": {},
   "outputs": [],
   "source": [
    "Brand_dataset=pd.DataFrame({'Product':Product_name,'Department':department,'Category':category,'Price':price,'Color':color})"
   ]
  },
  {
   "cell_type": "code",
   "execution_count": 2,
   "id": "3167d580",
   "metadata": {
    "collapsed": true
   },
   "outputs": [
    {
     "ename": "NameError",
     "evalue": "name 'Brand_dataset' is not defined",
     "output_type": "error",
     "traceback": [
      "\u001b[1;31m---------------------------------------------------------------------------\u001b[0m",
      "\u001b[1;31mNameError\u001b[0m                                 Traceback (most recent call last)",
      "Cell \u001b[1;32mIn[2], line 1\u001b[0m\n\u001b[1;32m----> 1\u001b[0m \u001b[43mBrand_dataset\u001b[49m\n",
      "\u001b[1;31mNameError\u001b[0m: name 'Brand_dataset' is not defined"
     ]
    }
   ],
   "source": [
    "data=pd.read_csv('https://raw.githubusercontent.com/abillash/Data-science/main/Brand_dress.csv')\n"
   ]
  },
  {
   "cell_type": "code",
   "execution_count": 144,
   "id": "f40da16d",
   "metadata": {},
   "outputs": [],
   "source": [
    "Brand_dataset.to_csv('Brand_dress.csv',index=False)"
   ]
  },
  {
   "cell_type": "code",
   "execution_count": 4,
   "id": "8390048d",
   "metadata": {
    "collapsed": true
   },
   "outputs": [
    {
     "ename": "NameError",
     "evalue": "name 'Product_name' is not defined",
     "output_type": "error",
     "traceback": [
      "\u001b[1;31m---------------------------------------------------------------------------\u001b[0m",
      "\u001b[1;31mNameError\u001b[0m                                 Traceback (most recent call last)",
      "Cell \u001b[1;32mIn[4], line 1\u001b[0m\n\u001b[1;32m----> 1\u001b[0m \u001b[38;5;28mlen\u001b[39m(\u001b[43mProduct_name\u001b[49m)\n",
      "\u001b[1;31mNameError\u001b[0m: name 'Product_name' is not defined"
     ]
    }
   ],
   "source": []
  },
  {
   "cell_type": "code",
   "execution_count": 9,
   "id": "3f3cdaba",
   "metadata": {},
   "outputs": [],
   "source": [
    "driver=webdriver.Chrome()"
   ]
  },
  {
   "cell_type": "code",
   "execution_count": 10,
   "id": "d9664a30",
   "metadata": {},
   "outputs": [],
   "source": [
    "driver.get('http://allensolly.abfrl.in/')"
   ]
  },
  {
   "cell_type": "code",
   "execution_count": 11,
   "id": "7e500da4",
   "metadata": {},
   "outputs": [],
   "source": [
    "boy_cloth=driver.find_element(By.XPATH,'/html/body/div[1]/header/div[2]/div/div/div[2]/div/ul/li[6]/p/a')\n",
    "boy_cloth.click()"
   ]
  },
  {
   "cell_type": "code",
   "execution_count": 13,
   "id": "3a0cb525",
   "metadata": {},
   "outputs": [],
   "source": [
    "boy_cloth1=driver.find_element(By.XPATH,\"/html/body/div[1]/header/div[2]/div/div/div[2]/div/ul/li[6]/p/a\")\n",
    "boy_cloth1.click()"
   ]
  },
  {
   "cell_type": "code",
   "execution_count": 15,
   "id": "06752ca5",
   "metadata": {},
   "outputs": [],
   "source": [
    "boy_cloth2=driver.find_element(By.XPATH,\"/html/body/div[1]/main/div/div[2]/div/div/div/div[3]/span/img\")\n",
    "boy_cloth2.click()"
   ]
  },
  {
   "cell_type": "code",
   "execution_count": 16,
   "id": "3c37f174",
   "metadata": {},
   "outputs": [],
   "source": [
    "boy_cloth2=driver.find_element(By.XPATH,\"/html/body/div[1]/main/div/div[3]/div/div/div[1]/label\")\n",
    "boy_cloth2.click()"
   ]
  },
  {
   "cell_type": "code",
   "execution_count": 17,
   "id": "9ac0cf48",
   "metadata": {},
   "outputs": [],
   "source": [
    "Product_name=[]\n",
    "product_tags=driver.find_elements(By.XPATH,'//div[@class=\"ProductCard_description__BQzle\"]')\n",
    "for i in product_tags:\n",
    "    Product=i.text\n",
    "    Product_name.append(Product)\n",
    " "
   ]
  },
  {
   "cell_type": "code",
   "execution_count": 18,
   "id": "225acc5d",
   "metadata": {},
   "outputs": [
    {
     "data": {
      "text/plain": [
       "199"
      ]
     },
     "execution_count": 18,
     "metadata": {},
     "output_type": "execute_result"
    }
   ],
   "source": [
    "len(Product_name)"
   ]
  },
  {
   "cell_type": "code",
   "execution_count": 5,
   "id": "5f824f5e",
   "metadata": {
    "collapsed": true
   },
   "outputs": [
    {
     "ename": "NameError",
     "evalue": "name 'department' is not defined",
     "output_type": "error",
     "traceback": [
      "\u001b[1;31m---------------------------------------------------------------------------\u001b[0m",
      "\u001b[1;31mNameError\u001b[0m                                 Traceback (most recent call last)",
      "Cell \u001b[1;32mIn[5], line 1\u001b[0m\n\u001b[1;32m----> 1\u001b[0m \u001b[38;5;28mlen\u001b[39m(\u001b[43mdepartment\u001b[49m)\n",
      "\u001b[1;31mNameError\u001b[0m: name 'department' is not defined"
     ]
    }
   ],
   "source": []
  },
  {
   "cell_type": "code",
   "execution_count": 19,
   "id": "7e006cbb",
   "metadata": {},
   "outputs": [],
   "source": [
    "department=[]\n",
    "name_to_append='Boys'\n",
    "i=1\n",
    "for i in range(0,199):\n",
    "    department.append(name_to_append)\n",
    "    i+=1"
   ]
  },
  {
   "cell_type": "code",
   "execution_count": 20,
   "id": "5d029520",
   "metadata": {},
   "outputs": [
    {
     "data": {
      "text/plain": [
       "199"
      ]
     },
     "execution_count": 20,
     "metadata": {},
     "output_type": "execute_result"
    }
   ],
   "source": [
    "len(department)"
   ]
  },
  {
   "cell_type": "code",
   "execution_count": 21,
   "id": "a3761f58",
   "metadata": {},
   "outputs": [],
   "source": [
    "category=[]\n",
    "name_to_append2='Shirts'\n",
    "i=1\n",
    "for i in range(0,199):\n",
    "    category.append(name_to_append2)\n",
    "    i+=1"
   ]
  },
  {
   "cell_type": "code",
   "execution_count": 22,
   "id": "60c452d0",
   "metadata": {},
   "outputs": [
    {
     "data": {
      "text/plain": [
       "199"
      ]
     },
     "execution_count": 22,
     "metadata": {},
     "output_type": "execute_result"
    }
   ],
   "source": [
    "len(category)"
   ]
  },
  {
   "cell_type": "code",
   "execution_count": 158,
   "id": "1d4f53e1",
   "metadata": {},
   "outputs": [
    {
     "data": {
      "text/plain": [
       "2291"
      ]
     },
     "execution_count": 158,
     "metadata": {},
     "output_type": "execute_result"
    }
   ],
   "source": []
  },
  {
   "cell_type": "code",
   "execution_count": 23,
   "id": "a31767a4",
   "metadata": {},
   "outputs": [],
   "source": [
    "price=[]\n",
    "price_tags=driver.find_elements(By.XPATH,'//span[@class=\"price\"]')\n",
    "for i in price_tags:\n",
    "    Price=i.text\n",
    "    price.append(Price)"
   ]
  },
  {
   "cell_type": "code",
   "execution_count": 24,
   "id": "9755a345",
   "metadata": {},
   "outputs": [
    {
     "data": {
      "text/plain": [
       "199"
      ]
     },
     "execution_count": 24,
     "metadata": {},
     "output_type": "execute_result"
    }
   ],
   "source": [
    "len(price)"
   ]
  },
  {
   "cell_type": "code",
   "execution_count": 25,
   "id": "b8e43575",
   "metadata": {},
   "outputs": [],
   "source": [
    "color=[]\n",
    "color_tags=driver.find_elements(By.XPATH,'//div[@class=\"ProductCard_productColorText___jpq0\"]')\n",
    "for i in color_tags:\n",
    "    Color=i.text\n",
    "    color.append(Color)"
   ]
  },
  {
   "cell_type": "code",
   "execution_count": 26,
   "id": "8ef958f6",
   "metadata": {},
   "outputs": [
    {
     "data": {
      "text/plain": [
       "199"
      ]
     },
     "execution_count": 26,
     "metadata": {},
     "output_type": "execute_result"
    }
   ],
   "source": [
    "len(color)"
   ]
  },
  {
   "cell_type": "code",
   "execution_count": 166,
   "id": "94f6f0bb",
   "metadata": {},
   "outputs": [],
   "source": [
    "driver=webdriver.Chrome()"
   ]
  },
  {
   "cell_type": "code",
   "execution_count": 167,
   "id": "e87ca0ab",
   "metadata": {},
   "outputs": [],
   "source": [
    "driver.get('http://allensolly.abfrl.in/')"
   ]
  },
  {
   "cell_type": "code",
   "execution_count": 27,
   "id": "480f7799",
   "metadata": {},
   "outputs": [],
   "source": [
    "boy_cloth2=driver.find_element(By.XPATH,\"/html/body/div[1]/main/div/div[3]/div/div/div[2]/label\")\n",
    "boy_cloth2.click()"
   ]
  },
  {
   "cell_type": "code",
   "execution_count": 45,
   "id": "b1a477ab",
   "metadata": {},
   "outputs": [],
   "source": [
    "driver=webdriver.Chrome()"
   ]
  },
  {
   "cell_type": "code",
   "execution_count": 46,
   "id": "bbfdf785",
   "metadata": {},
   "outputs": [],
   "source": [
    "driver.get('http://allensolly.abfrl.in/')"
   ]
  },
  {
   "cell_type": "code",
   "execution_count": 47,
   "id": "104cf258",
   "metadata": {},
   "outputs": [],
   "source": [
    "boy_cloth1=driver.find_element(By.XPATH,\"/html/body/div[1]/main/div/div[3]/section/div/div/div/div/div/div/div[1]/div[1]/div[4]/div[2]/div/span/img\")\n",
    "boy_cloth1.click()"
   ]
  },
  {
   "cell_type": "code",
   "execution_count": 31,
   "id": "123b9253",
   "metadata": {},
   "outputs": [],
   "source": [
    "boy_cloth2=driver.find_element(By.XPATH,\"/html/body/div[1]/main/div/div[2]/div/div/div[2]/div/span/img\")\n",
    "boy_cloth2.click()"
   ]
  },
  {
   "cell_type": "code",
   "execution_count": 32,
   "id": "e6c4d027",
   "metadata": {},
   "outputs": [],
   "source": [
    "product_tags=driver.find_elements(By.XPATH,'//div[@class=\"ProductCard_description__BQzle\"]')\n",
    "for i in product_tags:\n",
    "    Product=i.text\n",
    "    Product_name.append(Product)"
   ]
  },
  {
   "cell_type": "code",
   "execution_count": 33,
   "id": "685c90fc",
   "metadata": {},
   "outputs": [
    {
     "data": {
      "text/plain": [
       "541"
      ]
     },
     "execution_count": 33,
     "metadata": {},
     "output_type": "execute_result"
    }
   ],
   "source": [
    "len(Product_name)"
   ]
  },
  {
   "cell_type": "code",
   "execution_count": 34,
   "id": "97f1a9f4",
   "metadata": {},
   "outputs": [],
   "source": [
    "name_to_append='Boys'\n",
    "i=1\n",
    "for i in range(0,342):\n",
    "    department.append(name_to_append)\n",
    "    i+=1"
   ]
  },
  {
   "cell_type": "code",
   "execution_count": 35,
   "id": "fc95277d",
   "metadata": {},
   "outputs": [
    {
     "data": {
      "text/plain": [
       "541"
      ]
     },
     "execution_count": 35,
     "metadata": {},
     "output_type": "execute_result"
    }
   ],
   "source": [
    "len(department)"
   ]
  },
  {
   "cell_type": "code",
   "execution_count": 36,
   "id": "b3ab5a80",
   "metadata": {},
   "outputs": [],
   "source": [
    "name_to_append2='T-Shirts'\n",
    "i=1\n",
    "for i in range(0,342):\n",
    "    category.append(name_to_append2)\n",
    "    i+=1"
   ]
  },
  {
   "cell_type": "code",
   "execution_count": 37,
   "id": "ba34e051",
   "metadata": {},
   "outputs": [
    {
     "data": {
      "text/plain": [
       "541"
      ]
     },
     "execution_count": 37,
     "metadata": {},
     "output_type": "execute_result"
    }
   ],
   "source": [
    "len(category)"
   ]
  },
  {
   "cell_type": "code",
   "execution_count": 38,
   "id": "8447e5fe",
   "metadata": {},
   "outputs": [],
   "source": [
    "price_tags=driver.find_elements(By.XPATH,'//span[@class=\"price\"]')\n",
    "for i in price_tags:\n",
    "    Price=i.text\n",
    "    price.append(Price)"
   ]
  },
  {
   "cell_type": "code",
   "execution_count": 39,
   "id": "b9b090c2",
   "metadata": {},
   "outputs": [
    {
     "data": {
      "text/plain": [
       "541"
      ]
     },
     "execution_count": 39,
     "metadata": {},
     "output_type": "execute_result"
    }
   ],
   "source": [
    "len(price)"
   ]
  },
  {
   "cell_type": "code",
   "execution_count": 40,
   "id": "71426c19",
   "metadata": {},
   "outputs": [],
   "source": [
    "color_tags=driver.find_elements(By.XPATH,'//div[@class=\"ProductCard_productColorText___jpq0\"]')\n",
    "for i in color_tags:\n",
    "    Color=i.text\n",
    "    color.append(Color)"
   ]
  },
  {
   "cell_type": "code",
   "execution_count": 41,
   "id": "2d6f37a0",
   "metadata": {},
   "outputs": [
    {
     "data": {
      "text/plain": [
       "541"
      ]
     },
     "execution_count": 41,
     "metadata": {},
     "output_type": "execute_result"
    }
   ],
   "source": [
    "len(color)"
   ]
  },
  {
   "cell_type": "code",
   "execution_count": 48,
   "id": "36520d05",
   "metadata": {},
   "outputs": [],
   "source": [
    "boy_cloth3=driver.find_element(By.XPATH,\"/html/body/div[1]/main/div/div[2]/div/div/div[3]/div/span/img\")\n",
    "boy_cloth3.click()"
   ]
  },
  {
   "cell_type": "code",
   "execution_count": 49,
   "id": "6c2120a4",
   "metadata": {},
   "outputs": [],
   "source": [
    "product_tags=driver.find_elements(By.XPATH,'//div[@class=\"ProductCard_description__BQzle\"]')\n",
    "for i in product_tags:\n",
    "    Product=i.text\n",
    "    Product_name.append(Product)"
   ]
  },
  {
   "cell_type": "code",
   "execution_count": 50,
   "id": "727788b8",
   "metadata": {},
   "outputs": [
    {
     "data": {
      "text/plain": [
       "587"
      ]
     },
     "execution_count": 50,
     "metadata": {},
     "output_type": "execute_result"
    }
   ],
   "source": [
    "len(Product_name)"
   ]
  },
  {
   "cell_type": "code",
   "execution_count": 51,
   "id": "0ac78f8b",
   "metadata": {},
   "outputs": [],
   "source": [
    "name_to_append='Boys'\n",
    "i=1\n",
    "for i in range(0,46):\n",
    "    department.append(name_to_append)\n",
    "    i+=1"
   ]
  },
  {
   "cell_type": "code",
   "execution_count": 52,
   "id": "ecc20a37",
   "metadata": {},
   "outputs": [
    {
     "data": {
      "text/plain": [
       "587"
      ]
     },
     "execution_count": 52,
     "metadata": {},
     "output_type": "execute_result"
    }
   ],
   "source": [
    "len(department)"
   ]
  },
  {
   "cell_type": "code",
   "execution_count": 53,
   "id": "976f67df",
   "metadata": {},
   "outputs": [],
   "source": [
    "name_to_append2='Shorts'\n",
    "i=1\n",
    "for i in range(0,46):\n",
    "    category.append(name_to_append2)\n",
    "    i+=1"
   ]
  },
  {
   "cell_type": "code",
   "execution_count": 54,
   "id": "c68ad8a2",
   "metadata": {},
   "outputs": [
    {
     "data": {
      "text/plain": [
       "587"
      ]
     },
     "execution_count": 54,
     "metadata": {},
     "output_type": "execute_result"
    }
   ],
   "source": [
    "len(category)"
   ]
  },
  {
   "cell_type": "code",
   "execution_count": 55,
   "id": "46dde2d4",
   "metadata": {},
   "outputs": [],
   "source": [
    "price_tags=driver.find_elements(By.XPATH,'//span[@class=\"price\"]')\n",
    "for i in price_tags:\n",
    "    Price=i.text\n",
    "    price.append(Price)"
   ]
  },
  {
   "cell_type": "code",
   "execution_count": 56,
   "id": "02525b4a",
   "metadata": {},
   "outputs": [
    {
     "data": {
      "text/plain": [
       "587"
      ]
     },
     "execution_count": 56,
     "metadata": {},
     "output_type": "execute_result"
    }
   ],
   "source": [
    "len(price)"
   ]
  },
  {
   "cell_type": "code",
   "execution_count": 57,
   "id": "a730cfc5",
   "metadata": {},
   "outputs": [],
   "source": [
    "color_tags=driver.find_elements(By.XPATH,'//div[@class=\"ProductCard_productColorText___jpq0\"]')\n",
    "for i in color_tags:\n",
    "    Color=i.text\n",
    "    color.append(Color)"
   ]
  },
  {
   "cell_type": "code",
   "execution_count": 58,
   "id": "3b67c4b6",
   "metadata": {},
   "outputs": [
    {
     "data": {
      "text/plain": [
       "587"
      ]
     },
     "execution_count": 58,
     "metadata": {},
     "output_type": "execute_result"
    }
   ],
   "source": [
    "len(color)"
   ]
  },
  {
   "cell_type": "code",
   "execution_count": 59,
   "id": "75663056",
   "metadata": {},
   "outputs": [],
   "source": [
    "boy_cloth3=driver.find_element(By.XPATH,\"/html/body/div[1]/main/div/div[2]/div/div/div[4]/div/span/img\")\n",
    "boy_cloth3.click()"
   ]
  },
  {
   "cell_type": "code",
   "execution_count": 60,
   "id": "acc87251",
   "metadata": {},
   "outputs": [],
   "source": [
    "product_tags=driver.find_elements(By.XPATH,'//div[@class=\"ProductCard_description__BQzle\"]')\n",
    "for i in product_tags:\n",
    "    Product=i.text\n",
    "    Product_name.append(Product)"
   ]
  },
  {
   "cell_type": "code",
   "execution_count": 62,
   "id": "d746e675",
   "metadata": {},
   "outputs": [
    {
     "data": {
      "text/plain": [
       "727"
      ]
     },
     "execution_count": 62,
     "metadata": {},
     "output_type": "execute_result"
    }
   ],
   "source": [
    "len(Product_name)"
   ]
  },
  {
   "cell_type": "code",
   "execution_count": 63,
   "id": "87ef537d",
   "metadata": {},
   "outputs": [],
   "source": [
    "name_to_append='Boys'\n",
    "i=1\n",
    "for i in range(0,140):\n",
    "    department.append(name_to_append)\n",
    "    i+=1"
   ]
  },
  {
   "cell_type": "code",
   "execution_count": 64,
   "id": "88280a1f",
   "metadata": {},
   "outputs": [
    {
     "data": {
      "text/plain": [
       "727"
      ]
     },
     "execution_count": 64,
     "metadata": {},
     "output_type": "execute_result"
    }
   ],
   "source": [
    "len(department)"
   ]
  },
  {
   "cell_type": "code",
   "execution_count": 65,
   "id": "7069a968",
   "metadata": {},
   "outputs": [],
   "source": [
    "name_to_append2='Jeans'\n",
    "i=1\n",
    "for i in range(0,140):\n",
    "    category.append(name_to_append2)\n",
    "    i+=1"
   ]
  },
  {
   "cell_type": "code",
   "execution_count": 66,
   "id": "8035bcb3",
   "metadata": {},
   "outputs": [
    {
     "data": {
      "text/plain": [
       "727"
      ]
     },
     "execution_count": 66,
     "metadata": {},
     "output_type": "execute_result"
    }
   ],
   "source": [
    "len(category)"
   ]
  },
  {
   "cell_type": "code",
   "execution_count": 67,
   "id": "8afa0780",
   "metadata": {},
   "outputs": [],
   "source": [
    "price_tags=driver.find_elements(By.XPATH,'//span[@class=\"price\"]')\n",
    "for i in price_tags:\n",
    "    Price=i.text\n",
    "    price.append(Price)"
   ]
  },
  {
   "cell_type": "code",
   "execution_count": 68,
   "id": "6157b789",
   "metadata": {},
   "outputs": [
    {
     "data": {
      "text/plain": [
       "727"
      ]
     },
     "execution_count": 68,
     "metadata": {},
     "output_type": "execute_result"
    }
   ],
   "source": [
    "len(price)"
   ]
  },
  {
   "cell_type": "code",
   "execution_count": 69,
   "id": "0e81bf38",
   "metadata": {},
   "outputs": [],
   "source": [
    "color_name='Blue'\n",
    "color.append(color_name)"
   ]
  },
  {
   "cell_type": "code",
   "execution_count": 70,
   "id": "a59b1365",
   "metadata": {},
   "outputs": [],
   "source": [
    "color_tags=driver.find_elements(By.XPATH,'//div[@class=\"ProductCard_productColorText___jpq0\"]')\n",
    "for i in color_tags:\n",
    "    Color=i.text\n",
    "    color.append(Color)"
   ]
  },
  {
   "cell_type": "code",
   "execution_count": 71,
   "id": "4464ab27",
   "metadata": {},
   "outputs": [
    {
     "data": {
      "text/plain": [
       "727"
      ]
     },
     "execution_count": 71,
     "metadata": {},
     "output_type": "execute_result"
    }
   ],
   "source": [
    "len(color)"
   ]
  },
  {
   "cell_type": "code",
   "execution_count": 73,
   "id": "e4ef514e",
   "metadata": {},
   "outputs": [],
   "source": [
    "boy_cloth3=driver.find_element(By.XPATH,\"/html/body/div[1]/main/div/div[2]/div/div/div[6]/div/span/img\")\n",
    "boy_cloth3.click()"
   ]
  },
  {
   "cell_type": "code",
   "execution_count": 74,
   "id": "1bea9424",
   "metadata": {},
   "outputs": [],
   "source": [
    "product_tags=driver.find_elements(By.XPATH,'//div[@class=\"ProductCard_description__BQzle\"]')\n",
    "for i in product_tags:\n",
    "    Product=i.text\n",
    "    Product_name.append(Product)"
   ]
  },
  {
   "cell_type": "code",
   "execution_count": 75,
   "id": "1ae4018f",
   "metadata": {},
   "outputs": [
    {
     "data": {
      "text/plain": [
       "1038"
      ]
     },
     "execution_count": 75,
     "metadata": {},
     "output_type": "execute_result"
    }
   ],
   "source": [
    "len(Product_name)"
   ]
  },
  {
   "cell_type": "code",
   "execution_count": 76,
   "id": "8d4331d7",
   "metadata": {},
   "outputs": [],
   "source": [
    "name_to_append='Boys'\n",
    "i=1\n",
    "for i in range(0,311):\n",
    "    department.append(name_to_append)\n",
    "    i+=1"
   ]
  },
  {
   "cell_type": "code",
   "execution_count": 77,
   "id": "73913723",
   "metadata": {},
   "outputs": [
    {
     "data": {
      "text/plain": [
       "1038"
      ]
     },
     "execution_count": 77,
     "metadata": {},
     "output_type": "execute_result"
    }
   ],
   "source": [
    "len(department)"
   ]
  },
  {
   "cell_type": "code",
   "execution_count": 78,
   "id": "7d1c1cf8",
   "metadata": {},
   "outputs": [],
   "source": [
    "name_to_append2='Blazers'\n",
    "i=1\n",
    "for i in range(0,311):\n",
    "    category.append(name_to_append2)\n",
    "    i+=1"
   ]
  },
  {
   "cell_type": "code",
   "execution_count": 79,
   "id": "98421e12",
   "metadata": {},
   "outputs": [
    {
     "data": {
      "text/plain": [
       "1038"
      ]
     },
     "execution_count": 79,
     "metadata": {},
     "output_type": "execute_result"
    }
   ],
   "source": [
    "len(category)"
   ]
  },
  {
   "cell_type": "code",
   "execution_count": 80,
   "id": "b527b175",
   "metadata": {},
   "outputs": [],
   "source": [
    "price_tags=driver.find_elements(By.XPATH,'//span[@class=\"price\"]')\n",
    "for i in price_tags:\n",
    "    Price=i.text\n",
    "    price.append(Price)"
   ]
  },
  {
   "cell_type": "code",
   "execution_count": 81,
   "id": "eb9b5a00",
   "metadata": {},
   "outputs": [
    {
     "data": {
      "text/plain": [
       "1038"
      ]
     },
     "execution_count": 81,
     "metadata": {},
     "output_type": "execute_result"
    }
   ],
   "source": [
    "len(price)"
   ]
  },
  {
   "cell_type": "code",
   "execution_count": 82,
   "id": "771f69cf",
   "metadata": {},
   "outputs": [],
   "source": [
    "color_tags=driver.find_elements(By.XPATH,'//div[@class=\"ProductCard_productColorText___jpq0\"]')\n",
    "for i in color_tags:\n",
    "    Color=i.text\n",
    "    color.append(Color)"
   ]
  },
  {
   "cell_type": "code",
   "execution_count": 83,
   "id": "21a4c933",
   "metadata": {},
   "outputs": [
    {
     "data": {
      "text/plain": [
       "1038"
      ]
     },
     "execution_count": 83,
     "metadata": {},
     "output_type": "execute_result"
    }
   ],
   "source": [
    "len(color)"
   ]
  },
  {
   "cell_type": "code",
   "execution_count": 125,
   "id": "24c8500f",
   "metadata": {},
   "outputs": [],
   "source": [
    "driver=webdriver.Chrome()"
   ]
  },
  {
   "cell_type": "code",
   "execution_count": 126,
   "id": "5d0c3f0a",
   "metadata": {},
   "outputs": [],
   "source": [
    "driver.get('http://allensolly.abfrl.in/')"
   ]
  },
  {
   "cell_type": "code",
   "execution_count": 86,
   "id": "15f09fc0",
   "metadata": {},
   "outputs": [],
   "source": [
    "girl_cloth1=driver.find_element(By.XPATH,\"/html/body/div[1]/main/div/div[3]/section/div/div/div/div/div/div/div[1]/div[1]/div[5]/div[2]/div/span/img\")\n",
    "girl_cloth1.click()"
   ]
  },
  {
   "cell_type": "code",
   "execution_count": 87,
   "id": "55dd03ee",
   "metadata": {},
   "outputs": [],
   "source": [
    "girl_cloth2=driver.find_element(By.XPATH,\"/html/body/div[1]/main/div/div[2]/div/div/div[1]/div/span/img\")\n",
    "girl_cloth2.click()"
   ]
  },
  {
   "cell_type": "code",
   "execution_count": 88,
   "id": "72085c1e",
   "metadata": {},
   "outputs": [],
   "source": [
    "product_tags=driver.find_elements(By.XPATH,'//div[@class=\"ProductCard_description__BQzle\"]')\n",
    "for i in product_tags:\n",
    "    Product=i.text\n",
    "    Product_name.append(Product)"
   ]
  },
  {
   "cell_type": "code",
   "execution_count": 89,
   "id": "2a21020f",
   "metadata": {},
   "outputs": [
    {
     "data": {
      "text/plain": [
       "1199"
      ]
     },
     "execution_count": 89,
     "metadata": {},
     "output_type": "execute_result"
    }
   ],
   "source": [
    "len(Product_name)"
   ]
  },
  {
   "cell_type": "code",
   "execution_count": 90,
   "id": "088aeec5",
   "metadata": {},
   "outputs": [],
   "source": [
    "name_to_append='Girls'\n",
    "i=1\n",
    "for i in range(0,161):\n",
    "    department.append(name_to_append)\n",
    "    i+=1"
   ]
  },
  {
   "cell_type": "code",
   "execution_count": 91,
   "id": "6b96e9ea",
   "metadata": {},
   "outputs": [
    {
     "data": {
      "text/plain": [
       "1199"
      ]
     },
     "execution_count": 91,
     "metadata": {},
     "output_type": "execute_result"
    }
   ],
   "source": [
    "len(department)"
   ]
  },
  {
   "cell_type": "code",
   "execution_count": 92,
   "id": "e41e223b",
   "metadata": {},
   "outputs": [],
   "source": [
    "name_to_append2='Tops and T-shirts'\n",
    "i=1\n",
    "for i in range(0,161):\n",
    "    category.append(name_to_append2)\n",
    "    i+=1"
   ]
  },
  {
   "cell_type": "code",
   "execution_count": 93,
   "id": "32c36c73",
   "metadata": {},
   "outputs": [
    {
     "data": {
      "text/plain": [
       "1199"
      ]
     },
     "execution_count": 93,
     "metadata": {},
     "output_type": "execute_result"
    }
   ],
   "source": [
    "len(category)"
   ]
  },
  {
   "cell_type": "code",
   "execution_count": 94,
   "id": "0d1b77c3",
   "metadata": {},
   "outputs": [],
   "source": [
    "price_tags=driver.find_elements(By.XPATH,'//span[@class=\"price\"]')\n",
    "for i in price_tags:\n",
    "    Price=i.text\n",
    "    price.append(Price)"
   ]
  },
  {
   "cell_type": "code",
   "execution_count": 95,
   "id": "2cb3d600",
   "metadata": {},
   "outputs": [
    {
     "data": {
      "text/plain": [
       "1199"
      ]
     },
     "execution_count": 95,
     "metadata": {},
     "output_type": "execute_result"
    }
   ],
   "source": [
    "len(price)"
   ]
  },
  {
   "cell_type": "code",
   "execution_count": 96,
   "id": "17a0f6e6",
   "metadata": {},
   "outputs": [],
   "source": [
    "color_tags=driver.find_elements(By.XPATH,'//div[@class=\"ProductCard_productColorText___jpq0\"]')\n",
    "for i in color_tags:\n",
    "    Color=i.text\n",
    "    color.append(Color)"
   ]
  },
  {
   "cell_type": "code",
   "execution_count": 97,
   "id": "08bf4225",
   "metadata": {},
   "outputs": [
    {
     "data": {
      "text/plain": [
       "1199"
      ]
     },
     "execution_count": 97,
     "metadata": {},
     "output_type": "execute_result"
    }
   ],
   "source": [
    "len(color)"
   ]
  },
  {
   "cell_type": "code",
   "execution_count": 98,
   "id": "004c0919",
   "metadata": {},
   "outputs": [],
   "source": [
    "girl_cloth2=driver.find_element(By.XPATH,\"/html/body/div[1]/main/div/div[2]/div/div/div[2]/div/span/img\")\n",
    "girl_cloth2.click()"
   ]
  },
  {
   "cell_type": "code",
   "execution_count": 99,
   "id": "214a923e",
   "metadata": {},
   "outputs": [],
   "source": [
    "product_tags=driver.find_elements(By.XPATH,'//div[@class=\"ProductCard_description__BQzle\"]')\n",
    "for i in product_tags:\n",
    "    Product=i.text\n",
    "    Product_name.append(Product)"
   ]
  },
  {
   "cell_type": "code",
   "execution_count": 100,
   "id": "51a8ac67",
   "metadata": {},
   "outputs": [
    {
     "data": {
      "text/plain": [
       "1344"
      ]
     },
     "execution_count": 100,
     "metadata": {},
     "output_type": "execute_result"
    }
   ],
   "source": [
    "len(Product_name)"
   ]
  },
  {
   "cell_type": "code",
   "execution_count": 101,
   "id": "4ef5d781",
   "metadata": {},
   "outputs": [],
   "source": [
    "name_to_append='Girls'\n",
    "i=1\n",
    "for i in range(0,145):\n",
    "    department.append(name_to_append)\n",
    "    i+=1"
   ]
  },
  {
   "cell_type": "code",
   "execution_count": 102,
   "id": "2def70ff",
   "metadata": {},
   "outputs": [
    {
     "data": {
      "text/plain": [
       "1344"
      ]
     },
     "execution_count": 102,
     "metadata": {},
     "output_type": "execute_result"
    }
   ],
   "source": [
    "len(department)"
   ]
  },
  {
   "cell_type": "code",
   "execution_count": 103,
   "id": "8cc16b13",
   "metadata": {},
   "outputs": [],
   "source": [
    "name_to_append2='Dresses'\n",
    "i=1\n",
    "for i in range(0,145):\n",
    "    category.append(name_to_append2)\n",
    "    i+=1"
   ]
  },
  {
   "cell_type": "code",
   "execution_count": 104,
   "id": "3b038eaf",
   "metadata": {},
   "outputs": [
    {
     "data": {
      "text/plain": [
       "1344"
      ]
     },
     "execution_count": 104,
     "metadata": {},
     "output_type": "execute_result"
    }
   ],
   "source": [
    "len(category)"
   ]
  },
  {
   "cell_type": "code",
   "execution_count": 105,
   "id": "bca68ff8",
   "metadata": {},
   "outputs": [],
   "source": [
    "price_tags=driver.find_elements(By.XPATH,'//span[@class=\"price\"]')\n",
    "for i in price_tags:\n",
    "    Price=i.text\n",
    "    price.append(Price)"
   ]
  },
  {
   "cell_type": "code",
   "execution_count": 106,
   "id": "8b7bd31b",
   "metadata": {},
   "outputs": [
    {
     "data": {
      "text/plain": [
       "1344"
      ]
     },
     "execution_count": 106,
     "metadata": {},
     "output_type": "execute_result"
    }
   ],
   "source": [
    "len(price)"
   ]
  },
  {
   "cell_type": "code",
   "execution_count": 107,
   "id": "d92bfc30",
   "metadata": {},
   "outputs": [],
   "source": [
    "color_tags=driver.find_elements(By.XPATH,'//div[@class=\"ProductCard_productColorText___jpq0\"]')\n",
    "for i in color_tags:\n",
    "    Color=i.text\n",
    "    color.append(Color)"
   ]
  },
  {
   "cell_type": "code",
   "execution_count": 108,
   "id": "39d35e15",
   "metadata": {},
   "outputs": [
    {
     "data": {
      "text/plain": [
       "1344"
      ]
     },
     "execution_count": 108,
     "metadata": {},
     "output_type": "execute_result"
    }
   ],
   "source": [
    "len(color)"
   ]
  },
  {
   "cell_type": "code",
   "execution_count": 109,
   "id": "fde49219",
   "metadata": {},
   "outputs": [],
   "source": [
    "girl_cloth2=driver.find_element(By.XPATH,\"/html/body/div[1]/main/div/div[2]/div/div/div[3]/div/span/img\")\n",
    "girl_cloth2.click()"
   ]
  },
  {
   "cell_type": "code",
   "execution_count": 110,
   "id": "6048edac",
   "metadata": {},
   "outputs": [],
   "source": [
    "product_tags=driver.find_elements(By.XPATH,'//div[@class=\"ProductCard_description__BQzle\"]')\n",
    "for i in product_tags:\n",
    "    Product=i.text\n",
    "    Product_name.append(Product)"
   ]
  },
  {
   "cell_type": "code",
   "execution_count": 111,
   "id": "e511f89b",
   "metadata": {},
   "outputs": [
    {
     "data": {
      "text/plain": [
       "1408"
      ]
     },
     "execution_count": 111,
     "metadata": {},
     "output_type": "execute_result"
    }
   ],
   "source": [
    "len(Product_name)"
   ]
  },
  {
   "cell_type": "code",
   "execution_count": 112,
   "id": "6cb5fe11",
   "metadata": {},
   "outputs": [],
   "source": [
    "name_to_append='Girls'\n",
    "i=1\n",
    "for i in range(0,64):\n",
    "    department.append(name_to_append)\n",
    "    i+=1"
   ]
  },
  {
   "cell_type": "code",
   "execution_count": 113,
   "id": "eadc7757",
   "metadata": {},
   "outputs": [
    {
     "data": {
      "text/plain": [
       "1408"
      ]
     },
     "execution_count": 113,
     "metadata": {},
     "output_type": "execute_result"
    }
   ],
   "source": [
    "len(department)"
   ]
  },
  {
   "cell_type": "code",
   "execution_count": 114,
   "id": "518e74af",
   "metadata": {},
   "outputs": [],
   "source": [
    "name_to_append2='Jeans'\n",
    "i=1\n",
    "for i in range(0,64):\n",
    "    category.append(name_to_append2)\n",
    "    i+=1"
   ]
  },
  {
   "cell_type": "code",
   "execution_count": 115,
   "id": "c1d5ad12",
   "metadata": {},
   "outputs": [
    {
     "data": {
      "text/plain": [
       "1408"
      ]
     },
     "execution_count": 115,
     "metadata": {},
     "output_type": "execute_result"
    }
   ],
   "source": [
    "len(category)"
   ]
  },
  {
   "cell_type": "code",
   "execution_count": 116,
   "id": "7d018429",
   "metadata": {},
   "outputs": [],
   "source": [
    "price_tags=driver.find_elements(By.XPATH,'//span[@class=\"price\"]')\n",
    "for i in price_tags:\n",
    "    Price=i.text\n",
    "    price.append(Price)"
   ]
  },
  {
   "cell_type": "code",
   "execution_count": 117,
   "id": "11485026",
   "metadata": {},
   "outputs": [
    {
     "data": {
      "text/plain": [
       "1408"
      ]
     },
     "execution_count": 117,
     "metadata": {},
     "output_type": "execute_result"
    }
   ],
   "source": [
    "len(price)"
   ]
  },
  {
   "cell_type": "code",
   "execution_count": 118,
   "id": "a57e7e5c",
   "metadata": {},
   "outputs": [],
   "source": [
    "color_tags=driver.find_elements(By.XPATH,'//div[@class=\"ProductCard_productColorText___jpq0\"]')\n",
    "for i in color_tags:\n",
    "    Color=i.text\n",
    "    color.append(Color)"
   ]
  },
  {
   "cell_type": "code",
   "execution_count": 119,
   "id": "b84dc7d4",
   "metadata": {},
   "outputs": [
    {
     "data": {
      "text/plain": [
       "1408"
      ]
     },
     "execution_count": 119,
     "metadata": {},
     "output_type": "execute_result"
    }
   ],
   "source": [
    "len(color)"
   ]
  },
  {
   "cell_type": "code",
   "execution_count": 127,
   "id": "aae9631f",
   "metadata": {},
   "outputs": [],
   "source": [
    "girl_cloth2=driver.find_element(By.XPATH,\"/html/body/div[1]/main/div/div[3]/section/div/div/div/div/div/div/div[1]/div[1]/div[5]/div[2]/div/span/img\")\n",
    "girl_cloth2.click()"
   ]
  },
  {
   "cell_type": "code",
   "execution_count": 130,
   "id": "44cc11e7",
   "metadata": {},
   "outputs": [],
   "source": [
    "girl_cloth3=driver.find_element(By.XPATH,\"/html/body/div[1]/main/div/div[2]/div/div/div[5]/div/span/img\")\n",
    "girl_cloth3.click()"
   ]
  },
  {
   "cell_type": "code",
   "execution_count": 131,
   "id": "b5bb0c01",
   "metadata": {},
   "outputs": [],
   "source": [
    "product_tags=driver.find_elements(By.XPATH,'//div[@class=\"ProductCard_description__BQzle\"]')\n",
    "for i in product_tags:\n",
    "    Product=i.text\n",
    "    Product_name.append(Product)"
   ]
  },
  {
   "cell_type": "code",
   "execution_count": 132,
   "id": "11cc8be5",
   "metadata": {},
   "outputs": [
    {
     "data": {
      "text/plain": [
       "1459"
      ]
     },
     "execution_count": 132,
     "metadata": {},
     "output_type": "execute_result"
    }
   ],
   "source": [
    "len(Product_name)"
   ]
  },
  {
   "cell_type": "code",
   "execution_count": 133,
   "id": "34a4ad07",
   "metadata": {},
   "outputs": [],
   "source": [
    "name_to_append='Girls'\n",
    "i=1\n",
    "for i in range(0,51):\n",
    "    department.append(name_to_append)\n",
    "    i+=1"
   ]
  },
  {
   "cell_type": "code",
   "execution_count": 134,
   "id": "915bcc23",
   "metadata": {},
   "outputs": [
    {
     "data": {
      "text/plain": [
       "1459"
      ]
     },
     "execution_count": 134,
     "metadata": {},
     "output_type": "execute_result"
    }
   ],
   "source": [
    "len(department)"
   ]
  },
  {
   "cell_type": "code",
   "execution_count": 135,
   "id": "53cd29d3",
   "metadata": {},
   "outputs": [],
   "source": [
    "name_to_append2='Bottomware'\n",
    "i=1\n",
    "for i in range(0,51):\n",
    "    category.append(name_to_append2)\n",
    "    i+=1"
   ]
  },
  {
   "cell_type": "code",
   "execution_count": 136,
   "id": "e6163ce3",
   "metadata": {},
   "outputs": [
    {
     "data": {
      "text/plain": [
       "1459"
      ]
     },
     "execution_count": 136,
     "metadata": {},
     "output_type": "execute_result"
    }
   ],
   "source": [
    "len(category)"
   ]
  },
  {
   "cell_type": "code",
   "execution_count": 137,
   "id": "ea184c9b",
   "metadata": {},
   "outputs": [],
   "source": [
    "price_tags=driver.find_elements(By.XPATH,'//span[@class=\"price\"]')\n",
    "for i in price_tags:\n",
    "    Price=i.text\n",
    "    price.append(Price)"
   ]
  },
  {
   "cell_type": "code",
   "execution_count": 138,
   "id": "71460bd3",
   "metadata": {},
   "outputs": [
    {
     "data": {
      "text/plain": [
       "1459"
      ]
     },
     "execution_count": 138,
     "metadata": {},
     "output_type": "execute_result"
    }
   ],
   "source": [
    "len(price)"
   ]
  },
  {
   "cell_type": "code",
   "execution_count": 139,
   "id": "b3bcf81a",
   "metadata": {},
   "outputs": [],
   "source": [
    "color_tags=driver.find_elements(By.XPATH,'//div[@class=\"ProductCard_productColorText___jpq0\"]')\n",
    "for i in color_tags:\n",
    "    Color=i.text\n",
    "    color.append(Color)"
   ]
  },
  {
   "cell_type": "code",
   "execution_count": 140,
   "id": "d0eb3b69",
   "metadata": {},
   "outputs": [
    {
     "data": {
      "text/plain": [
       "1459"
      ]
     },
     "execution_count": 140,
     "metadata": {},
     "output_type": "execute_result"
    }
   ],
   "source": [
    "len(color)"
   ]
  },
  {
   "cell_type": "code",
   "execution_count": 141,
   "id": "c3f36012",
   "metadata": {},
   "outputs": [],
   "source": [
    "girl_cloth3=driver.find_element(By.XPATH,\"/html/body/div[1]/main/div/div[2]/div/div/div[6]/div/span/img\")\n",
    "girl_cloth3.click()"
   ]
  },
  {
   "cell_type": "code",
   "execution_count": 142,
   "id": "a8eba812",
   "metadata": {},
   "outputs": [],
   "source": [
    "product_tags=driver.find_elements(By.XPATH,'//div[@class=\"ProductCard_description__BQzle\"]')\n",
    "for i in product_tags:\n",
    "    Product=i.text\n",
    "    Product_name.append(Product)"
   ]
  },
  {
   "cell_type": "code",
   "execution_count": 143,
   "id": "f35790cc",
   "metadata": {},
   "outputs": [
    {
     "data": {
      "text/plain": [
       "1533"
      ]
     },
     "execution_count": 143,
     "metadata": {},
     "output_type": "execute_result"
    }
   ],
   "source": [
    "len(Product_name)"
   ]
  },
  {
   "cell_type": "code",
   "execution_count": 144,
   "id": "75db3ff3",
   "metadata": {},
   "outputs": [],
   "source": [
    "name_to_append='Girls'\n",
    "i=1\n",
    "for i in range(0,74):\n",
    "    department.append(name_to_append)\n",
    "    i+=1"
   ]
  },
  {
   "cell_type": "code",
   "execution_count": 145,
   "id": "09cd781c",
   "metadata": {},
   "outputs": [
    {
     "data": {
      "text/plain": [
       "1533"
      ]
     },
     "execution_count": 145,
     "metadata": {},
     "output_type": "execute_result"
    }
   ],
   "source": [
    "len(department)"
   ]
  },
  {
   "cell_type": "code",
   "execution_count": 146,
   "id": "fa9a8f3a",
   "metadata": {},
   "outputs": [],
   "source": [
    "name_to_append2='Winterware'\n",
    "i=1\n",
    "for i in range(0,74):\n",
    "    category.append(name_to_append2)\n",
    "    i+=1"
   ]
  },
  {
   "cell_type": "code",
   "execution_count": 147,
   "id": "e2a42553",
   "metadata": {},
   "outputs": [
    {
     "data": {
      "text/plain": [
       "1533"
      ]
     },
     "execution_count": 147,
     "metadata": {},
     "output_type": "execute_result"
    }
   ],
   "source": [
    "len(category)"
   ]
  },
  {
   "cell_type": "code",
   "execution_count": 148,
   "id": "f079864e",
   "metadata": {},
   "outputs": [],
   "source": [
    "price_tags=driver.find_elements(By.XPATH,'//span[@class=\"price\"]')\n",
    "for i in price_tags:\n",
    "    Price=i.text\n",
    "    price.append(Price)"
   ]
  },
  {
   "cell_type": "code",
   "execution_count": 149,
   "id": "3fb9632a",
   "metadata": {},
   "outputs": [
    {
     "data": {
      "text/plain": [
       "1533"
      ]
     },
     "execution_count": 149,
     "metadata": {},
     "output_type": "execute_result"
    }
   ],
   "source": [
    "len(price)"
   ]
  },
  {
   "cell_type": "code",
   "execution_count": 150,
   "id": "6c00724e",
   "metadata": {},
   "outputs": [],
   "source": [
    "color_tags=driver.find_elements(By.XPATH,'//div[@class=\"ProductCard_productColorText___jpq0\"]')\n",
    "for i in color_tags:\n",
    "    Color=i.text\n",
    "    color.append(Color)"
   ]
  },
  {
   "cell_type": "code",
   "execution_count": 151,
   "id": "4bfd8997",
   "metadata": {},
   "outputs": [
    {
     "data": {
      "text/plain": [
       "1533"
      ]
     },
     "execution_count": 151,
     "metadata": {},
     "output_type": "execute_result"
    }
   ],
   "source": [
    "len(color)"
   ]
  },
  {
   "cell_type": "code",
   "execution_count": 165,
   "id": "7d3cc506",
   "metadata": {},
   "outputs": [],
   "source": [
    "driver=webdriver.Chrome()"
   ]
  },
  {
   "cell_type": "code",
   "execution_count": 166,
   "id": "91869aa2",
   "metadata": {},
   "outputs": [],
   "source": [
    "driver.get('http://www.peterengland.com/')"
   ]
  },
  {
   "cell_type": "code",
   "execution_count": 160,
   "id": "2f8b1b23",
   "metadata": {},
   "outputs": [],
   "source": [
    "men_cloth1=driver.find_element(By.XPATH,\"/html/body/div[1]/header/div[2]/div/div/div[2]/div/ul/li[1]/p/a\")\n",
    "men_cloth1.click()"
   ]
  },
  {
   "cell_type": "code",
   "execution_count": 161,
   "id": "d08f44a9",
   "metadata": {},
   "outputs": [],
   "source": [
    "men_cloth2=driver.find_element(By.XPATH,\"/html/body/div[1]/main/div/div[2]/div/div/div[1]/div/a/span/img\")\n",
    "men_cloth2.click()"
   ]
  },
  {
   "cell_type": "code",
   "execution_count": 162,
   "id": "30fc7c32",
   "metadata": {},
   "outputs": [],
   "source": [
    "men_cloth3=driver.find_element(By.XPATH,\"/html/body/div[1]/main/div/div[3]/div/div[1]/div/a/span/img\")\n",
    "men_cloth3.click()"
   ]
  },
  {
   "cell_type": "code",
   "execution_count": 167,
   "id": "548b7768",
   "metadata": {},
   "outputs": [],
   "source": [
    "product_tags=driver.find_elements(By.XPATH,'//div[@class=\"ProductCard_description__BQzle\"]')\n",
    "for i in product_tags:\n",
    "    Product=i.text\n",
    "    Product_name.append(Product)"
   ]
  },
  {
   "cell_type": "code",
   "execution_count": 168,
   "id": "b5ba4499",
   "metadata": {},
   "outputs": [
    {
     "data": {
      "text/plain": [
       "2336"
      ]
     },
     "execution_count": 168,
     "metadata": {},
     "output_type": "execute_result"
    }
   ],
   "source": [
    "len(Product_name)"
   ]
  },
  {
   "cell_type": "code",
   "execution_count": 169,
   "id": "3df3ce26",
   "metadata": {},
   "outputs": [],
   "source": [
    "name_to_append='Men'\n",
    "i=1\n",
    "for i in range(0,803):\n",
    "    department.append(name_to_append)\n",
    "    i+=1"
   ]
  },
  {
   "cell_type": "code",
   "execution_count": 170,
   "id": "7b637a15",
   "metadata": {},
   "outputs": [
    {
     "data": {
      "text/plain": [
       "2336"
      ]
     },
     "execution_count": 170,
     "metadata": {},
     "output_type": "execute_result"
    }
   ],
   "source": [
    "len(department)"
   ]
  },
  {
   "cell_type": "code",
   "execution_count": 171,
   "id": "efcf876a",
   "metadata": {},
   "outputs": [],
   "source": [
    "name_to_append2='Shirts'\n",
    "i=1\n",
    "for i in range(0,803):\n",
    "    category.append(name_to_append2)\n",
    "    i+=1"
   ]
  },
  {
   "cell_type": "code",
   "execution_count": 172,
   "id": "5b9b3e9a",
   "metadata": {},
   "outputs": [
    {
     "data": {
      "text/plain": [
       "2336"
      ]
     },
     "execution_count": 172,
     "metadata": {},
     "output_type": "execute_result"
    }
   ],
   "source": [
    "len(category)"
   ]
  },
  {
   "cell_type": "code",
   "execution_count": 173,
   "id": "b47cebfe",
   "metadata": {},
   "outputs": [],
   "source": [
    "price_tags=driver.find_elements(By.XPATH,'//span[@class=\"price\"]')\n",
    "for i in price_tags:\n",
    "    Price=i.text\n",
    "    price.append(Price)"
   ]
  },
  {
   "cell_type": "code",
   "execution_count": 174,
   "id": "d763cb29",
   "metadata": {},
   "outputs": [
    {
     "data": {
      "text/plain": [
       "2336"
      ]
     },
     "execution_count": 174,
     "metadata": {},
     "output_type": "execute_result"
    }
   ],
   "source": [
    "len(price)"
   ]
  },
  {
   "cell_type": "code",
   "execution_count": null,
   "id": "8f53fea6",
   "metadata": {},
   "outputs": [],
   "source": []
  },
  {
   "cell_type": "code",
   "execution_count": 175,
   "id": "80711390",
   "metadata": {},
   "outputs": [],
   "source": [
    "color_tags=driver.find_elements(By.XPATH,'//div[@class=\"ProductCard_productColorText___jpq0\"]')\n",
    "for i in color_tags:\n",
    "    Color=i.text\n",
    "    color.append(Color)"
   ]
  },
  {
   "cell_type": "code",
   "execution_count": 187,
   "id": "a3a95798",
   "metadata": {},
   "outputs": [],
   "source": [
    "import pandas as pd\n",
    "import numpy as np"
   ]
  },
  {
   "cell_type": "code",
   "execution_count": 177,
   "id": "10eb69c8",
   "metadata": {},
   "outputs": [],
   "source": [
    "Brand_dataset1=pd.DataFrame({'Product':Product_name,'Department':department,'Category':category,'Price':price,'Color':color})"
   ]
  },
  {
   "cell_type": "code",
   "execution_count": 183,
   "id": "281a7791",
   "metadata": {},
   "outputs": [
    {
     "data": {
      "text/html": [
       "<div>\n",
       "<style scoped>\n",
       "    .dataframe tbody tr th:only-of-type {\n",
       "        vertical-align: middle;\n",
       "    }\n",
       "\n",
       "    .dataframe tbody tr th {\n",
       "        vertical-align: top;\n",
       "    }\n",
       "\n",
       "    .dataframe thead th {\n",
       "        text-align: right;\n",
       "    }\n",
       "</style>\n",
       "<table border=\"1\" class=\"dataframe\">\n",
       "  <thead>\n",
       "    <tr style=\"text-align: right;\">\n",
       "      <th></th>\n",
       "      <th>Product</th>\n",
       "      <th>Department</th>\n",
       "      <th>Category</th>\n",
       "      <th>Price</th>\n",
       "      <th>Color</th>\n",
       "    </tr>\n",
       "  </thead>\n",
       "  <tbody>\n",
       "    <tr>\n",
       "      <th>0</th>\n",
       "      <td>Boys Pink Slim Fit Solid Casual Shirt</td>\n",
       "      <td>Boys</td>\n",
       "      <td>Shirts</td>\n",
       "      <td>₹ 899</td>\n",
       "      <td>Pink</td>\n",
       "    </tr>\n",
       "    <tr>\n",
       "      <th>1</th>\n",
       "      <td>Boys Navy Slim Fit Solid Casual Shirt</td>\n",
       "      <td>Boys</td>\n",
       "      <td>Shirts</td>\n",
       "      <td>₹ 1,154</td>\n",
       "      <td>Navy</td>\n",
       "    </tr>\n",
       "    <tr>\n",
       "      <th>2</th>\n",
       "      <td>Boys White Slim Fit Print Casual Shirt</td>\n",
       "      <td>Boys</td>\n",
       "      <td>Shirts</td>\n",
       "      <td>₹ 824</td>\n",
       "      <td>White</td>\n",
       "    </tr>\n",
       "    <tr>\n",
       "      <th>3</th>\n",
       "      <td>Boys Pink Slim Fit Print Casual Shirt</td>\n",
       "      <td>Boys</td>\n",
       "      <td>Shirts</td>\n",
       "      <td>₹ 934</td>\n",
       "      <td>Pink</td>\n",
       "    </tr>\n",
       "    <tr>\n",
       "      <th>4</th>\n",
       "      <td>Boys Red Slim Fit Print Casual Shirt</td>\n",
       "      <td>Boys</td>\n",
       "      <td>Shirts</td>\n",
       "      <td>₹ 824</td>\n",
       "      <td>Red</td>\n",
       "    </tr>\n",
       "    <tr>\n",
       "      <th>...</th>\n",
       "      <td>...</td>\n",
       "      <td>...</td>\n",
       "      <td>...</td>\n",
       "      <td>...</td>\n",
       "      <td>...</td>\n",
       "    </tr>\n",
       "    <tr>\n",
       "      <th>2331</th>\n",
       "      <td>Men Blue Regular Fit Formal Full Sleeves Forma...</td>\n",
       "      <td>Men</td>\n",
       "      <td>Shirts</td>\n",
       "      <td>₹ 1,279</td>\n",
       "      <td>BLUE</td>\n",
       "    </tr>\n",
       "    <tr>\n",
       "      <th>2332</th>\n",
       "      <td>Men Maroon Slim Fit Formal Full Sleeves Formal...</td>\n",
       "      <td>Men</td>\n",
       "      <td>Shirts</td>\n",
       "      <td>₹ 1,439</td>\n",
       "      <td>MAROON</td>\n",
       "    </tr>\n",
       "    <tr>\n",
       "      <th>2333</th>\n",
       "      <td>Men Blue Slim Fit Formal Full Sleeves Formal S...</td>\n",
       "      <td>Men</td>\n",
       "      <td>Shirts</td>\n",
       "      <td>₹ 1,279</td>\n",
       "      <td>BLUE</td>\n",
       "    </tr>\n",
       "    <tr>\n",
       "      <th>2334</th>\n",
       "      <td>Men Pink Slim Fit Formal Full Sleeves Formal S...</td>\n",
       "      <td>Men</td>\n",
       "      <td>Shirts</td>\n",
       "      <td>₹ 2,399</td>\n",
       "      <td>PINK</td>\n",
       "    </tr>\n",
       "    <tr>\n",
       "      <th>2335</th>\n",
       "      <td>Men Blue Regular Fit Formal Full Sleeves Forma...</td>\n",
       "      <td>Men</td>\n",
       "      <td>Shirts</td>\n",
       "      <td>₹ 1,259</td>\n",
       "      <td>BLUE</td>\n",
       "    </tr>\n",
       "  </tbody>\n",
       "</table>\n",
       "<p>2336 rows × 5 columns</p>\n",
       "</div>"
      ],
      "text/plain": [
       "                                                Product Department Category  \\\n",
       "0                 Boys Pink Slim Fit Solid Casual Shirt       Boys   Shirts   \n",
       "1                 Boys Navy Slim Fit Solid Casual Shirt       Boys   Shirts   \n",
       "2                Boys White Slim Fit Print Casual Shirt       Boys   Shirts   \n",
       "3                 Boys Pink Slim Fit Print Casual Shirt       Boys   Shirts   \n",
       "4                  Boys Red Slim Fit Print Casual Shirt       Boys   Shirts   \n",
       "...                                                 ...        ...      ...   \n",
       "2331  Men Blue Regular Fit Formal Full Sleeves Forma...        Men   Shirts   \n",
       "2332  Men Maroon Slim Fit Formal Full Sleeves Formal...        Men   Shirts   \n",
       "2333  Men Blue Slim Fit Formal Full Sleeves Formal S...        Men   Shirts   \n",
       "2334  Men Pink Slim Fit Formal Full Sleeves Formal S...        Men   Shirts   \n",
       "2335  Men Blue Regular Fit Formal Full Sleeves Forma...        Men   Shirts   \n",
       "\n",
       "        Price   Color  \n",
       "0       ₹ 899    Pink  \n",
       "1     ₹ 1,154    Navy  \n",
       "2       ₹ 824   White  \n",
       "3       ₹ 934    Pink  \n",
       "4       ₹ 824     Red  \n",
       "...       ...     ...  \n",
       "2331  ₹ 1,279    BLUE  \n",
       "2332  ₹ 1,439  MAROON  \n",
       "2333  ₹ 1,279    BLUE  \n",
       "2334  ₹ 2,399    PINK  \n",
       "2335  ₹ 1,259    BLUE  \n",
       "\n",
       "[2336 rows x 5 columns]"
      ]
     },
     "execution_count": 183,
     "metadata": {},
     "output_type": "execute_result"
    }
   ],
   "source": [
    "Brand_dataset1"
   ]
  },
  {
   "cell_type": "code",
   "execution_count": 178,
   "id": "08a5d366",
   "metadata": {},
   "outputs": [],
   "source": [
    "Brand_dataset1.to_csv('Brand_dress1.csv',index=False)"
   ]
  },
  {
   "cell_type": "code",
   "execution_count": 188,
   "id": "4aa2c19f",
   "metadata": {},
   "outputs": [],
   "source": [
    "data=pd.read_csv('https://raw.githubusercontent.com/abillash/Data-science/main/Brand_dress.csv')\n"
   ]
  },
  {
   "cell_type": "code",
   "execution_count": 189,
   "id": "a875c5b8",
   "metadata": {},
   "outputs": [
    {
     "data": {
      "text/plain": [
       "(2092, 5)"
      ]
     },
     "execution_count": 189,
     "metadata": {},
     "output_type": "execute_result"
    }
   ],
   "source": [
    "data.shape"
   ]
  },
  {
   "cell_type": "code",
   "execution_count": 181,
   "id": "7b78eb18",
   "metadata": {},
   "outputs": [
    {
     "data": {
      "text/html": [
       "<div>\n",
       "<style scoped>\n",
       "    .dataframe tbody tr th:only-of-type {\n",
       "        vertical-align: middle;\n",
       "    }\n",
       "\n",
       "    .dataframe tbody tr th {\n",
       "        vertical-align: top;\n",
       "    }\n",
       "\n",
       "    .dataframe thead th {\n",
       "        text-align: right;\n",
       "    }\n",
       "</style>\n",
       "<table border=\"1\" class=\"dataframe\">\n",
       "  <thead>\n",
       "    <tr style=\"text-align: right;\">\n",
       "      <th></th>\n",
       "      <th>Product</th>\n",
       "      <th>Department</th>\n",
       "      <th>Category</th>\n",
       "      <th>Price</th>\n",
       "      <th>Color</th>\n",
       "    </tr>\n",
       "  </thead>\n",
       "  <tbody>\n",
       "    <tr>\n",
       "      <th>0</th>\n",
       "      <td>Men Blue Slim Fit Solid Full Sleeves Casual Sh...</td>\n",
       "      <td>Men</td>\n",
       "      <td>Casual shirts</td>\n",
       "      <td>₹ 2,449</td>\n",
       "      <td>Blue</td>\n",
       "    </tr>\n",
       "    <tr>\n",
       "      <th>1</th>\n",
       "      <td>Men Yellow Slim Fit Solid Casual Shirts</td>\n",
       "      <td>Men</td>\n",
       "      <td>Casual shirts</td>\n",
       "      <td>₹ 974</td>\n",
       "      <td>Yellow</td>\n",
       "    </tr>\n",
       "    <tr>\n",
       "      <th>2</th>\n",
       "      <td>Men Navy Custom Fit Check Full Sleeves Casual ...</td>\n",
       "      <td>Men</td>\n",
       "      <td>Casual shirts</td>\n",
       "      <td>₹ 1,374</td>\n",
       "      <td>Navy</td>\n",
       "    </tr>\n",
       "    <tr>\n",
       "      <th>3</th>\n",
       "      <td>Men Navy Slim Fit Solid Full Sleeves Casual Sh...</td>\n",
       "      <td>Men</td>\n",
       "      <td>Casual shirts</td>\n",
       "      <td>₹ 2,449</td>\n",
       "      <td>Navy</td>\n",
       "    </tr>\n",
       "    <tr>\n",
       "      <th>4</th>\n",
       "      <td>Men Peach Slim Fit Solid Casual Shirts</td>\n",
       "      <td>Men</td>\n",
       "      <td>Casual shirts</td>\n",
       "      <td>₹ 974</td>\n",
       "      <td>Peach</td>\n",
       "    </tr>\n",
       "  </tbody>\n",
       "</table>\n",
       "</div>"
      ],
      "text/plain": [
       "                                             Product Department  \\\n",
       "0  Men Blue Slim Fit Solid Full Sleeves Casual Sh...        Men   \n",
       "1            Men Yellow Slim Fit Solid Casual Shirts        Men   \n",
       "2  Men Navy Custom Fit Check Full Sleeves Casual ...        Men   \n",
       "3  Men Navy Slim Fit Solid Full Sleeves Casual Sh...        Men   \n",
       "4             Men Peach Slim Fit Solid Casual Shirts        Men   \n",
       "\n",
       "        Category    Price   Color  \n",
       "0  Casual shirts  ₹ 2,449    Blue  \n",
       "1  Casual shirts    ₹ 974  Yellow  \n",
       "2  Casual shirts  ₹ 1,374    Navy  \n",
       "3  Casual shirts  ₹ 2,449    Navy  \n",
       "4  Casual shirts    ₹ 974   Peach  "
      ]
     },
     "execution_count": 181,
     "metadata": {},
     "output_type": "execute_result"
    }
   ],
   "source": [
    "data.head()"
   ]
  },
  {
   "cell_type": "code",
   "execution_count": 190,
   "id": "0911ca07",
   "metadata": {},
   "outputs": [],
   "source": [
    "df=pd.read_csv('https://raw.githubusercontent.com/abillash/Data-science/main/Brand_dress1.csv')"
   ]
  },
  {
   "cell_type": "code",
   "execution_count": 191,
   "id": "b4554f76",
   "metadata": {},
   "outputs": [
    {
     "data": {
      "text/plain": [
       "(2336, 5)"
      ]
     },
     "execution_count": 191,
     "metadata": {},
     "output_type": "execute_result"
    }
   ],
   "source": [
    "df.shape"
   ]
  },
  {
   "cell_type": "code",
   "execution_count": 186,
   "id": "365bf3ca",
   "metadata": {},
   "outputs": [
    {
     "data": {
      "text/html": [
       "<div>\n",
       "<style scoped>\n",
       "    .dataframe tbody tr th:only-of-type {\n",
       "        vertical-align: middle;\n",
       "    }\n",
       "\n",
       "    .dataframe tbody tr th {\n",
       "        vertical-align: top;\n",
       "    }\n",
       "\n",
       "    .dataframe thead th {\n",
       "        text-align: right;\n",
       "    }\n",
       "</style>\n",
       "<table border=\"1\" class=\"dataframe\">\n",
       "  <thead>\n",
       "    <tr style=\"text-align: right;\">\n",
       "      <th></th>\n",
       "      <th>Product</th>\n",
       "      <th>Department</th>\n",
       "      <th>Category</th>\n",
       "      <th>Price</th>\n",
       "      <th>Color</th>\n",
       "    </tr>\n",
       "  </thead>\n",
       "  <tbody>\n",
       "    <tr>\n",
       "      <th>0</th>\n",
       "      <td>Boys Pink Slim Fit Solid Casual Shirt</td>\n",
       "      <td>Boys</td>\n",
       "      <td>Shirts</td>\n",
       "      <td>₹ 899</td>\n",
       "      <td>Pink</td>\n",
       "    </tr>\n",
       "    <tr>\n",
       "      <th>1</th>\n",
       "      <td>Boys Navy Slim Fit Solid Casual Shirt</td>\n",
       "      <td>Boys</td>\n",
       "      <td>Shirts</td>\n",
       "      <td>₹ 1,154</td>\n",
       "      <td>Navy</td>\n",
       "    </tr>\n",
       "    <tr>\n",
       "      <th>2</th>\n",
       "      <td>Boys White Slim Fit Print Casual Shirt</td>\n",
       "      <td>Boys</td>\n",
       "      <td>Shirts</td>\n",
       "      <td>₹ 824</td>\n",
       "      <td>White</td>\n",
       "    </tr>\n",
       "    <tr>\n",
       "      <th>3</th>\n",
       "      <td>Boys Pink Slim Fit Print Casual Shirt</td>\n",
       "      <td>Boys</td>\n",
       "      <td>Shirts</td>\n",
       "      <td>₹ 934</td>\n",
       "      <td>Pink</td>\n",
       "    </tr>\n",
       "    <tr>\n",
       "      <th>4</th>\n",
       "      <td>Boys Red Slim Fit Print Casual Shirt</td>\n",
       "      <td>Boys</td>\n",
       "      <td>Shirts</td>\n",
       "      <td>₹ 824</td>\n",
       "      <td>Red</td>\n",
       "    </tr>\n",
       "  </tbody>\n",
       "</table>\n",
       "</div>"
      ],
      "text/plain": [
       "                                  Product Department Category    Price  Color\n",
       "0   Boys Pink Slim Fit Solid Casual Shirt       Boys   Shirts    ₹ 899   Pink\n",
       "1   Boys Navy Slim Fit Solid Casual Shirt       Boys   Shirts  ₹ 1,154   Navy\n",
       "2  Boys White Slim Fit Print Casual Shirt       Boys   Shirts    ₹ 824  White\n",
       "3   Boys Pink Slim Fit Print Casual Shirt       Boys   Shirts    ₹ 934   Pink\n",
       "4    Boys Red Slim Fit Print Casual Shirt       Boys   Shirts    ₹ 824    Red"
      ]
     },
     "execution_count": 186,
     "metadata": {},
     "output_type": "execute_result"
    }
   ],
   "source": [
    "df.head()"
   ]
  },
  {
   "cell_type": "code",
   "execution_count": 192,
   "id": "96920dba",
   "metadata": {},
   "outputs": [],
   "source": [
    "final_data=pd.concat([data,df])\n",
    "final_data.reset_index(drop=True,inplace=True)"
   ]
  },
  {
   "cell_type": "code",
   "execution_count": 193,
   "id": "31b08263",
   "metadata": {},
   "outputs": [
    {
     "data": {
      "text/html": [
       "<div>\n",
       "<style scoped>\n",
       "    .dataframe tbody tr th:only-of-type {\n",
       "        vertical-align: middle;\n",
       "    }\n",
       "\n",
       "    .dataframe tbody tr th {\n",
       "        vertical-align: top;\n",
       "    }\n",
       "\n",
       "    .dataframe thead th {\n",
       "        text-align: right;\n",
       "    }\n",
       "</style>\n",
       "<table border=\"1\" class=\"dataframe\">\n",
       "  <thead>\n",
       "    <tr style=\"text-align: right;\">\n",
       "      <th></th>\n",
       "      <th>Product</th>\n",
       "      <th>Department</th>\n",
       "      <th>Category</th>\n",
       "      <th>Price</th>\n",
       "      <th>Color</th>\n",
       "    </tr>\n",
       "  </thead>\n",
       "  <tbody>\n",
       "    <tr>\n",
       "      <th>0</th>\n",
       "      <td>Men Blue Slim Fit Solid Full Sleeves Casual Sh...</td>\n",
       "      <td>Men</td>\n",
       "      <td>Casual shirts</td>\n",
       "      <td>₹ 2,449</td>\n",
       "      <td>Blue</td>\n",
       "    </tr>\n",
       "    <tr>\n",
       "      <th>1</th>\n",
       "      <td>Men Yellow Slim Fit Solid Casual Shirts</td>\n",
       "      <td>Men</td>\n",
       "      <td>Casual shirts</td>\n",
       "      <td>₹ 974</td>\n",
       "      <td>Yellow</td>\n",
       "    </tr>\n",
       "    <tr>\n",
       "      <th>2</th>\n",
       "      <td>Men Navy Custom Fit Check Full Sleeves Casual ...</td>\n",
       "      <td>Men</td>\n",
       "      <td>Casual shirts</td>\n",
       "      <td>₹ 1,374</td>\n",
       "      <td>Navy</td>\n",
       "    </tr>\n",
       "    <tr>\n",
       "      <th>3</th>\n",
       "      <td>Men Navy Slim Fit Solid Full Sleeves Casual Sh...</td>\n",
       "      <td>Men</td>\n",
       "      <td>Casual shirts</td>\n",
       "      <td>₹ 2,449</td>\n",
       "      <td>Navy</td>\n",
       "    </tr>\n",
       "    <tr>\n",
       "      <th>4</th>\n",
       "      <td>Men Peach Slim Fit Solid Casual Shirts</td>\n",
       "      <td>Men</td>\n",
       "      <td>Casual shirts</td>\n",
       "      <td>₹ 974</td>\n",
       "      <td>Peach</td>\n",
       "    </tr>\n",
       "  </tbody>\n",
       "</table>\n",
       "</div>"
      ],
      "text/plain": [
       "                                             Product Department  \\\n",
       "0  Men Blue Slim Fit Solid Full Sleeves Casual Sh...        Men   \n",
       "1            Men Yellow Slim Fit Solid Casual Shirts        Men   \n",
       "2  Men Navy Custom Fit Check Full Sleeves Casual ...        Men   \n",
       "3  Men Navy Slim Fit Solid Full Sleeves Casual Sh...        Men   \n",
       "4             Men Peach Slim Fit Solid Casual Shirts        Men   \n",
       "\n",
       "        Category    Price   Color  \n",
       "0  Casual shirts  ₹ 2,449    Blue  \n",
       "1  Casual shirts    ₹ 974  Yellow  \n",
       "2  Casual shirts  ₹ 1,374    Navy  \n",
       "3  Casual shirts  ₹ 2,449    Navy  \n",
       "4  Casual shirts    ₹ 974   Peach  "
      ]
     },
     "execution_count": 193,
     "metadata": {},
     "output_type": "execute_result"
    }
   ],
   "source": [
    "final_data.head()"
   ]
  },
  {
   "cell_type": "code",
   "execution_count": 194,
   "id": "ec2de709",
   "metadata": {},
   "outputs": [
    {
     "data": {
      "text/plain": [
       "(4428, 5)"
      ]
     },
     "execution_count": 194,
     "metadata": {},
     "output_type": "execute_result"
    }
   ],
   "source": [
    "final_data.shape"
   ]
  },
  {
   "cell_type": "code",
   "execution_count": 196,
   "id": "bdc4ee31",
   "metadata": {},
   "outputs": [
    {
     "data": {
      "text/html": [
       "<div>\n",
       "<style scoped>\n",
       "    .dataframe tbody tr th:only-of-type {\n",
       "        vertical-align: middle;\n",
       "    }\n",
       "\n",
       "    .dataframe tbody tr th {\n",
       "        vertical-align: top;\n",
       "    }\n",
       "\n",
       "    .dataframe thead th {\n",
       "        text-align: right;\n",
       "    }\n",
       "</style>\n",
       "<table border=\"1\" class=\"dataframe\">\n",
       "  <thead>\n",
       "    <tr style=\"text-align: right;\">\n",
       "      <th></th>\n",
       "      <th>Product</th>\n",
       "      <th>Department</th>\n",
       "      <th>Category</th>\n",
       "      <th>Price</th>\n",
       "      <th>Color</th>\n",
       "    </tr>\n",
       "  </thead>\n",
       "  <tbody>\n",
       "    <tr>\n",
       "      <th>2090</th>\n",
       "      <td>Women Grey Regular Fit Solid Casual Trousers</td>\n",
       "      <td>Women</td>\n",
       "      <td>Causual trousers</td>\n",
       "      <td>₹ 999</td>\n",
       "      <td>Black</td>\n",
       "    </tr>\n",
       "    <tr>\n",
       "      <th>2091</th>\n",
       "      <td>Women Maroon Regular Fit Solid Casual Trousers</td>\n",
       "      <td>Women</td>\n",
       "      <td>Causual trousers</td>\n",
       "      <td>₹ 849</td>\n",
       "      <td>Pink</td>\n",
       "    </tr>\n",
       "    <tr>\n",
       "      <th>2092</th>\n",
       "      <td>Boys Pink Slim Fit Solid Casual Shirt</td>\n",
       "      <td>Boys</td>\n",
       "      <td>Shirts</td>\n",
       "      <td>₹ 899</td>\n",
       "      <td>Pink</td>\n",
       "    </tr>\n",
       "    <tr>\n",
       "      <th>2093</th>\n",
       "      <td>Boys Navy Slim Fit Solid Casual Shirt</td>\n",
       "      <td>Boys</td>\n",
       "      <td>Shirts</td>\n",
       "      <td>₹ 1,154</td>\n",
       "      <td>Navy</td>\n",
       "    </tr>\n",
       "    <tr>\n",
       "      <th>2094</th>\n",
       "      <td>Boys White Slim Fit Print Casual Shirt</td>\n",
       "      <td>Boys</td>\n",
       "      <td>Shirts</td>\n",
       "      <td>₹ 824</td>\n",
       "      <td>White</td>\n",
       "    </tr>\n",
       "  </tbody>\n",
       "</table>\n",
       "</div>"
      ],
      "text/plain": [
       "                                             Product Department  \\\n",
       "2090    Women Grey Regular Fit Solid Casual Trousers      Women   \n",
       "2091  Women Maroon Regular Fit Solid Casual Trousers      Women   \n",
       "2092           Boys Pink Slim Fit Solid Casual Shirt       Boys   \n",
       "2093           Boys Navy Slim Fit Solid Casual Shirt       Boys   \n",
       "2094          Boys White Slim Fit Print Casual Shirt       Boys   \n",
       "\n",
       "              Category    Price  Color  \n",
       "2090  Causual trousers    ₹ 999  Black  \n",
       "2091  Causual trousers    ₹ 849   Pink  \n",
       "2092            Shirts    ₹ 899   Pink  \n",
       "2093            Shirts  ₹ 1,154   Navy  \n",
       "2094            Shirts    ₹ 824  White  "
      ]
     },
     "execution_count": 196,
     "metadata": {},
     "output_type": "execute_result"
    }
   ],
   "source": [
    "final_data[2090:2095]"
   ]
  },
  {
   "cell_type": "code",
   "execution_count": 197,
   "id": "5ebbb7bb",
   "metadata": {},
   "outputs": [],
   "source": [
    "final_data.to_csv('Brand_dress_finaldata.csv',index=False)"
   ]
  },
  {
   "cell_type": "code",
   "execution_count": null,
   "id": "302304ee",
   "metadata": {},
   "outputs": [],
   "source": []
  }
 ],
 "metadata": {
  "kernelspec": {
   "display_name": "Python 3 (ipykernel)",
   "language": "python",
   "name": "python3"
  },
  "language_info": {
   "codemirror_mode": {
    "name": "ipython",
    "version": 3
   },
   "file_extension": ".py",
   "mimetype": "text/x-python",
   "name": "python",
   "nbconvert_exporter": "python",
   "pygments_lexer": "ipython3",
   "version": "3.10.9"
  }
 },
 "nbformat": 4,
 "nbformat_minor": 5
}
