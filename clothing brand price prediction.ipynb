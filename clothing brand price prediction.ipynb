{
 "cells": [
  {
   "cell_type": "code",
   "execution_count": 136,
   "id": "1053ef6d",
   "metadata": {},
   "outputs": [],
   "source": [
    "# problem statement :predict cloth price \n",
    "# import libraries\n",
    "import pandas as pd\n",
    "import numpy as np\n",
    "import matplotlib.pyplot as plt\n",
    "%matplotlib inline\n",
    "import seaborn as sns\n",
    "import warnings\n",
    "warnings.filterwarnings('ignore')"
   ]
  },
  {
   "cell_type": "code",
   "execution_count": 137,
   "id": "3117d73b",
   "metadata": {},
   "outputs": [],
   "source": [
    "#upload dataset from github \n",
    "data=pd.read_csv('https://raw.githubusercontent.com/abillash/Data-science/main/Brand_dress_finaldata.csv')"
   ]
  },
  {
   "cell_type": "code",
   "execution_count": 138,
   "id": "f1d17583",
   "metadata": {},
   "outputs": [],
   "source": [
    "# color column contains some mismatching values from 1008 to 1421 index so we will remove that data\n",
    "data1=data[:1007]"
   ]
  },
  {
   "cell_type": "code",
   "execution_count": 139,
   "id": "10a30e2b",
   "metadata": {},
   "outputs": [],
   "source": [
    "data2=data[1422:]"
   ]
  },
  {
   "cell_type": "code",
   "execution_count": 25,
   "id": "04b6ac51",
   "metadata": {},
   "outputs": [
    {
     "data": {
      "text/html": [
       "<div>\n",
       "<style scoped>\n",
       "    .dataframe tbody tr th:only-of-type {\n",
       "        vertical-align: middle;\n",
       "    }\n",
       "\n",
       "    .dataframe tbody tr th {\n",
       "        vertical-align: top;\n",
       "    }\n",
       "\n",
       "    .dataframe thead th {\n",
       "        text-align: right;\n",
       "    }\n",
       "</style>\n",
       "<table border=\"1\" class=\"dataframe\">\n",
       "  <thead>\n",
       "    <tr style=\"text-align: right;\">\n",
       "      <th></th>\n",
       "      <th>Product</th>\n",
       "      <th>Department</th>\n",
       "      <th>Category</th>\n",
       "      <th>Price</th>\n",
       "      <th>Color</th>\n",
       "    </tr>\n",
       "  </thead>\n",
       "  <tbody>\n",
       "    <tr>\n",
       "      <th>1002</th>\n",
       "      <td>Men Blue Crew Neck Full Sleeves Casual Sweatshirt</td>\n",
       "      <td>Men</td>\n",
       "      <td>Sweatshirts</td>\n",
       "      <td>949</td>\n",
       "      <td>Blue</td>\n",
       "    </tr>\n",
       "    <tr>\n",
       "      <th>1003</th>\n",
       "      <td>Men Green Crew Neck Full Sleeves Casual Sweats...</td>\n",
       "      <td>Men</td>\n",
       "      <td>Sweatshirts</td>\n",
       "      <td>1,099</td>\n",
       "      <td>Green</td>\n",
       "    </tr>\n",
       "    <tr>\n",
       "      <th>1004</th>\n",
       "      <td>Men Purple Crew Neck Full Sleeves Casual Sweat...</td>\n",
       "      <td>Men</td>\n",
       "      <td>Sweatshirts</td>\n",
       "      <td>1,099</td>\n",
       "      <td>Purple</td>\n",
       "    </tr>\n",
       "    <tr>\n",
       "      <th>1005</th>\n",
       "      <td>Men Green Crew Neck Full Sleeves Casual Sweats...</td>\n",
       "      <td>Men</td>\n",
       "      <td>Sweatshirts</td>\n",
       "      <td>934</td>\n",
       "      <td>Green</td>\n",
       "    </tr>\n",
       "    <tr>\n",
       "      <th>1006</th>\n",
       "      <td>Men Grey Hooded Neck Full Sleeves Casual Sweat...</td>\n",
       "      <td>Men</td>\n",
       "      <td>Sweatshirts</td>\n",
       "      <td>999</td>\n",
       "      <td>Grey</td>\n",
       "    </tr>\n",
       "  </tbody>\n",
       "</table>\n",
       "</div>"
      ],
      "text/plain": [
       "                                                Product Department  \\\n",
       "1002  Men Blue Crew Neck Full Sleeves Casual Sweatshirt        Men   \n",
       "1003  Men Green Crew Neck Full Sleeves Casual Sweats...        Men   \n",
       "1004  Men Purple Crew Neck Full Sleeves Casual Sweat...        Men   \n",
       "1005  Men Green Crew Neck Full Sleeves Casual Sweats...        Men   \n",
       "1006  Men Grey Hooded Neck Full Sleeves Casual Sweat...        Men   \n",
       "\n",
       "         Category   Price   Color  \n",
       "1002  Sweatshirts     949    Blue  \n",
       "1003  Sweatshirts   1,099   Green  \n",
       "1004  Sweatshirts   1,099  Purple  \n",
       "1005  Sweatshirts     934   Green  \n",
       "1006  Sweatshirts     999    Grey  "
      ]
     },
     "execution_count": 25,
     "metadata": {},
     "output_type": "execute_result"
    }
   ],
   "source": [
    "data1.tail()"
   ]
  },
  {
   "cell_type": "code",
   "execution_count": 140,
   "id": "d822a2bc",
   "metadata": {},
   "outputs": [],
   "source": [
    "df=pd.concat([data1,data2])\n",
    "df.reset_index(drop=True,inplace=True)"
   ]
  },
  {
   "cell_type": "code",
   "execution_count": 141,
   "id": "7dbe5cda",
   "metadata": {},
   "outputs": [
    {
     "data": {
      "text/plain": [
       "(4013, 5)"
      ]
     },
     "execution_count": 141,
     "metadata": {},
     "output_type": "execute_result"
    }
   ],
   "source": [
    "df.shape"
   ]
  },
  {
   "cell_type": "code",
   "execution_count": 142,
   "id": "32b1c38f",
   "metadata": {},
   "outputs": [
    {
     "data": {
      "text/html": [
       "<div>\n",
       "<style scoped>\n",
       "    .dataframe tbody tr th:only-of-type {\n",
       "        vertical-align: middle;\n",
       "    }\n",
       "\n",
       "    .dataframe tbody tr th {\n",
       "        vertical-align: top;\n",
       "    }\n",
       "\n",
       "    .dataframe thead th {\n",
       "        text-align: right;\n",
       "    }\n",
       "</style>\n",
       "<table border=\"1\" class=\"dataframe\">\n",
       "  <thead>\n",
       "    <tr style=\"text-align: right;\">\n",
       "      <th></th>\n",
       "      <th>Product</th>\n",
       "      <th>Department</th>\n",
       "      <th>Category</th>\n",
       "      <th>Price</th>\n",
       "      <th>Color</th>\n",
       "    </tr>\n",
       "  </thead>\n",
       "  <tbody>\n",
       "    <tr>\n",
       "      <th>0</th>\n",
       "      <td>Men Blue Slim Fit Solid Full Sleeves Casual Sh...</td>\n",
       "      <td>Men</td>\n",
       "      <td>Casual shirts</td>\n",
       "      <td>₹ 2,449</td>\n",
       "      <td>Blue</td>\n",
       "    </tr>\n",
       "    <tr>\n",
       "      <th>1</th>\n",
       "      <td>Men Yellow Slim Fit Solid Casual Shirts</td>\n",
       "      <td>Men</td>\n",
       "      <td>Casual shirts</td>\n",
       "      <td>₹ 974</td>\n",
       "      <td>Yellow</td>\n",
       "    </tr>\n",
       "    <tr>\n",
       "      <th>2</th>\n",
       "      <td>Men Navy Custom Fit Check Full Sleeves Casual ...</td>\n",
       "      <td>Men</td>\n",
       "      <td>Casual shirts</td>\n",
       "      <td>₹ 1,374</td>\n",
       "      <td>Navy</td>\n",
       "    </tr>\n",
       "    <tr>\n",
       "      <th>3</th>\n",
       "      <td>Men Navy Slim Fit Solid Full Sleeves Casual Sh...</td>\n",
       "      <td>Men</td>\n",
       "      <td>Casual shirts</td>\n",
       "      <td>₹ 2,449</td>\n",
       "      <td>Navy</td>\n",
       "    </tr>\n",
       "    <tr>\n",
       "      <th>4</th>\n",
       "      <td>Men Peach Slim Fit Solid Casual Shirts</td>\n",
       "      <td>Men</td>\n",
       "      <td>Casual shirts</td>\n",
       "      <td>₹ 974</td>\n",
       "      <td>Peach</td>\n",
       "    </tr>\n",
       "  </tbody>\n",
       "</table>\n",
       "</div>"
      ],
      "text/plain": [
       "                                             Product Department  \\\n",
       "0  Men Blue Slim Fit Solid Full Sleeves Casual Sh...        Men   \n",
       "1            Men Yellow Slim Fit Solid Casual Shirts        Men   \n",
       "2  Men Navy Custom Fit Check Full Sleeves Casual ...        Men   \n",
       "3  Men Navy Slim Fit Solid Full Sleeves Casual Sh...        Men   \n",
       "4             Men Peach Slim Fit Solid Casual Shirts        Men   \n",
       "\n",
       "        Category    Price   Color  \n",
       "0  Casual shirts  ₹ 2,449    Blue  \n",
       "1  Casual shirts    ₹ 974  Yellow  \n",
       "2  Casual shirts  ₹ 1,374    Navy  \n",
       "3  Casual shirts  ₹ 2,449    Navy  \n",
       "4  Casual shirts    ₹ 974   Peach  "
      ]
     },
     "execution_count": 142,
     "metadata": {},
     "output_type": "execute_result"
    }
   ],
   "source": [
    "df.head()"
   ]
  },
  {
   "cell_type": "code",
   "execution_count": 144,
   "id": "8f4f763d",
   "metadata": {},
   "outputs": [
    {
     "name": "stdout",
     "output_type": "stream",
     "text": [
      "<class 'pandas.core.frame.DataFrame'>\n",
      "RangeIndex: 4428 entries, 0 to 4427\n",
      "Data columns (total 5 columns):\n",
      " #   Column      Non-Null Count  Dtype \n",
      "---  ------      --------------  ----- \n",
      " 0   Product     4428 non-null   object\n",
      " 1   Department  4428 non-null   object\n",
      " 2   Category    4428 non-null   object\n",
      " 3   Price       4428 non-null   object\n",
      " 4   Color       4428 non-null   object\n",
      "dtypes: object(5)\n",
      "memory usage: 173.1+ KB\n"
     ]
    }
   ],
   "source": [
    "data.info()"
   ]
  },
  {
   "cell_type": "code",
   "execution_count": 145,
   "id": "68e0577e",
   "metadata": {},
   "outputs": [],
   "source": [
    "# removing rupee sign from price column\n",
    "import re\n",
    "df['Price']=df['Price'].apply(lambda x: re.sub(r'[₹,]','',x))"
   ]
  },
  {
   "cell_type": "code",
   "execution_count": 146,
   "id": "faa470d1",
   "metadata": {},
   "outputs": [
    {
     "data": {
      "text/html": [
       "<div>\n",
       "<style scoped>\n",
       "    .dataframe tbody tr th:only-of-type {\n",
       "        vertical-align: middle;\n",
       "    }\n",
       "\n",
       "    .dataframe tbody tr th {\n",
       "        vertical-align: top;\n",
       "    }\n",
       "\n",
       "    .dataframe thead th {\n",
       "        text-align: right;\n",
       "    }\n",
       "</style>\n",
       "<table border=\"1\" class=\"dataframe\">\n",
       "  <thead>\n",
       "    <tr style=\"text-align: right;\">\n",
       "      <th></th>\n",
       "      <th>Product</th>\n",
       "      <th>Department</th>\n",
       "      <th>Category</th>\n",
       "      <th>Price</th>\n",
       "      <th>Color</th>\n",
       "    </tr>\n",
       "  </thead>\n",
       "  <tbody>\n",
       "    <tr>\n",
       "      <th>0</th>\n",
       "      <td>Men Blue Slim Fit Solid Full Sleeves Casual Sh...</td>\n",
       "      <td>Men</td>\n",
       "      <td>Casual shirts</td>\n",
       "      <td>2449</td>\n",
       "      <td>Blue</td>\n",
       "    </tr>\n",
       "    <tr>\n",
       "      <th>1</th>\n",
       "      <td>Men Yellow Slim Fit Solid Casual Shirts</td>\n",
       "      <td>Men</td>\n",
       "      <td>Casual shirts</td>\n",
       "      <td>974</td>\n",
       "      <td>Yellow</td>\n",
       "    </tr>\n",
       "    <tr>\n",
       "      <th>2</th>\n",
       "      <td>Men Navy Custom Fit Check Full Sleeves Casual ...</td>\n",
       "      <td>Men</td>\n",
       "      <td>Casual shirts</td>\n",
       "      <td>1374</td>\n",
       "      <td>Navy</td>\n",
       "    </tr>\n",
       "    <tr>\n",
       "      <th>3</th>\n",
       "      <td>Men Navy Slim Fit Solid Full Sleeves Casual Sh...</td>\n",
       "      <td>Men</td>\n",
       "      <td>Casual shirts</td>\n",
       "      <td>2449</td>\n",
       "      <td>Navy</td>\n",
       "    </tr>\n",
       "    <tr>\n",
       "      <th>4</th>\n",
       "      <td>Men Peach Slim Fit Solid Casual Shirts</td>\n",
       "      <td>Men</td>\n",
       "      <td>Casual shirts</td>\n",
       "      <td>974</td>\n",
       "      <td>Peach</td>\n",
       "    </tr>\n",
       "  </tbody>\n",
       "</table>\n",
       "</div>"
      ],
      "text/plain": [
       "                                             Product Department  \\\n",
       "0  Men Blue Slim Fit Solid Full Sleeves Casual Sh...        Men   \n",
       "1            Men Yellow Slim Fit Solid Casual Shirts        Men   \n",
       "2  Men Navy Custom Fit Check Full Sleeves Casual ...        Men   \n",
       "3  Men Navy Slim Fit Solid Full Sleeves Casual Sh...        Men   \n",
       "4             Men Peach Slim Fit Solid Casual Shirts        Men   \n",
       "\n",
       "        Category  Price   Color  \n",
       "0  Casual shirts   2449    Blue  \n",
       "1  Casual shirts    974  Yellow  \n",
       "2  Casual shirts   1374    Navy  \n",
       "3  Casual shirts   2449    Navy  \n",
       "4  Casual shirts    974   Peach  "
      ]
     },
     "execution_count": 146,
     "metadata": {},
     "output_type": "execute_result"
    }
   ],
   "source": [
    "df.head()"
   ]
  },
  {
   "cell_type": "code",
   "execution_count": 147,
   "id": "a7073437",
   "metadata": {},
   "outputs": [],
   "source": [
    "df['Price']=pd.to_numeric(df['Price'],errors='coerce')"
   ]
  },
  {
   "cell_type": "code",
   "execution_count": 148,
   "id": "9ef8ca37",
   "metadata": {},
   "outputs": [
    {
     "data": {
      "text/plain": [
       "Product       0\n",
       "Department    0\n",
       "Category      0\n",
       "Price         0\n",
       "Color         0\n",
       "dtype: int64"
      ]
     },
     "execution_count": 148,
     "metadata": {},
     "output_type": "execute_result"
    }
   ],
   "source": [
    "data.isna().sum()"
   ]
  },
  {
   "cell_type": "code",
   "execution_count": 149,
   "id": "f4eb08ac",
   "metadata": {},
   "outputs": [
    {
     "data": {
      "text/plain": [
       "Product       object\n",
       "Department    object\n",
       "Category      object\n",
       "Price          int64\n",
       "Color         object\n",
       "dtype: object"
      ]
     },
     "execution_count": 149,
     "metadata": {},
     "output_type": "execute_result"
    }
   ],
   "source": [
    "df.dtypes"
   ]
  },
  {
   "cell_type": "code",
   "execution_count": 150,
   "id": "b76a948f",
   "metadata": {},
   "outputs": [
    {
     "data": {
      "text/plain": [
       "Index(['Product', 'Department', 'Category', 'Price', 'Color'], dtype='object')"
      ]
     },
     "execution_count": 150,
     "metadata": {},
     "output_type": "execute_result"
    }
   ],
   "source": [
    "df.columns"
   ]
  },
  {
   "cell_type": "code",
   "execution_count": 151,
   "id": "27f79cfc",
   "metadata": {},
   "outputs": [
    {
     "data": {
      "text/plain": [
       "Product       1182\n",
       "Department       4\n",
       "Category        14\n",
       "Price          126\n",
       "Color           42\n",
       "dtype: int64"
      ]
     },
     "execution_count": 151,
     "metadata": {},
     "output_type": "execute_result"
    }
   ],
   "source": [
    "df.nunique()"
   ]
  },
  {
   "cell_type": "code",
   "execution_count": 152,
   "id": "97b2f0fe",
   "metadata": {},
   "outputs": [
    {
     "name": "stdout",
     "output_type": "stream",
     "text": [
      "Men Blue Slim Fit Formal Full Sleeves Formal Shirt             90\n",
      "Men White Slim Fit Formal Full Sleeves Formal Shirt            51\n",
      "Men Navy Crew Neck Full Sleeves Casual Sweatshirt              44\n",
      "Men Pink Slim Fit Formal Full Sleeves Formal Shirt             42\n",
      "Men Black Crew Neck Full Sleeves Casual Sweatshirt             40\n",
      "                                                               ..\n",
      "Boys Brown Regular Fit Stripe Crew Neck Pack of Two T-shirt     1\n",
      "Boys Red Regular Fit Graphic Print Crew Neck Vest               1\n",
      "Boys Navy Regular Fit Patterned Crew Neck T-shirt               1\n",
      "Boys Blue Regular Fit Solid Crew Neck Vest                      1\n",
      "Men Olive Slim Fit Formal Full Sleeves Formal Shirt             1\n",
      "Name: Product, Length: 1182, dtype: int64\n",
      "\n",
      "\n",
      "Men      1810\n",
      "Boys     1038\n",
      "Women     670\n",
      "Girls     495\n",
      "Name: Department, dtype: int64\n",
      "\n",
      "\n",
      "Shirts               1002\n",
      "Sweatshirts           603\n",
      "Casual shirts         531\n",
      "T-Shirts              342\n",
      "Blazers               311\n",
      "Tops                  290\n",
      "Jeans                 204\n",
      "Tops and T-shirts     161\n",
      "Casual dress          148\n",
      "Dresses               145\n",
      "Causual trousers      105\n",
      "Winterware             74\n",
      "Bottomware             51\n",
      "Shorts                 46\n",
      "Name: Category, dtype: int64\n",
      "\n",
      "\n",
      "999     204\n",
      "1399    189\n",
      "1599    166\n",
      "1149    149\n",
      "1249    144\n",
      "       ... \n",
      "1016      1\n",
      "839       1\n",
      "1189      1\n",
      "1159      1\n",
      "1949      1\n",
      "Name: Price, Length: 126, dtype: int64\n",
      "\n",
      "\n",
      "Blue          565\n",
      "Navy          380\n",
      "Black         344\n",
      "Green         260\n",
      "White         258\n",
      "Pink          242\n",
      "BLUE          222\n",
      "Yellow        220\n",
      "Red           145\n",
      "Maroon        137\n",
      "WHITE         135\n",
      "Purple        128\n",
      "Grey          123\n",
      "Multi          98\n",
      "PINK           96\n",
      "Orange         70\n",
      "GREEN          62\n",
      "NAVY           59\n",
      "Peach          51\n",
      "Olive          50\n",
      "Cream          44\n",
      "PURPLE         39\n",
      "Beige          39\n",
      "Brown          38\n",
      "BLACK          35\n",
      "MAROON         27\n",
      "GREY           24\n",
      "YELLOW         21\n",
      "PEACH          16\n",
      "Lilac          13\n",
      "LILAC          13\n",
      "BEIGE          13\n",
      "CREAM          13\n",
      "LIGHT BLUE      8\n",
      "BROWN           7\n",
      "RED             5\n",
      "ORANGE          4\n",
      "OLIVE           3\n",
      "Light Blue      3\n",
      "Silver          1\n",
      "Khaki           1\n",
      "KHAKI           1\n",
      "Name: Color, dtype: int64\n",
      "\n",
      "\n"
     ]
    }
   ],
   "source": [
    "# checking value counts in each column\n",
    "for i in df.columns:\n",
    "    print(df[i].value_counts())\n",
    "    print('\\n')\n",
    "    "
   ]
  },
  {
   "cell_type": "code",
   "execution_count": 37,
   "id": "06568b19",
   "metadata": {},
   "outputs": [],
   "source": [
    "df.drop_duplicates(inplace=True)\n",
    "                  "
   ]
  },
  {
   "cell_type": "code",
   "execution_count": 38,
   "id": "4d5ab3d3",
   "metadata": {},
   "outputs": [
    {
     "data": {
      "text/plain": [
       "0"
      ]
     },
     "execution_count": 38,
     "metadata": {},
     "output_type": "execute_result"
    }
   ],
   "source": [
    "df.duplicated().sum()"
   ]
  },
  {
   "cell_type": "code",
   "execution_count": null,
   "id": "14ac0c8f",
   "metadata": {},
   "outputs": [],
   "source": []
  },
  {
   "cell_type": "code",
   "execution_count": 39,
   "id": "a961441a",
   "metadata": {
    "collapsed": true
   },
   "outputs": [
    {
     "data": {
      "text/html": [
       "<div>\n",
       "<style scoped>\n",
       "    .dataframe tbody tr th:only-of-type {\n",
       "        vertical-align: middle;\n",
       "    }\n",
       "\n",
       "    .dataframe tbody tr th {\n",
       "        vertical-align: top;\n",
       "    }\n",
       "\n",
       "    .dataframe thead th {\n",
       "        text-align: right;\n",
       "    }\n",
       "</style>\n",
       "<table border=\"1\" class=\"dataframe\">\n",
       "  <thead>\n",
       "    <tr style=\"text-align: right;\">\n",
       "      <th></th>\n",
       "      <th>Product</th>\n",
       "      <th>Department</th>\n",
       "      <th>Category</th>\n",
       "      <th>Price</th>\n",
       "      <th>Color</th>\n",
       "    </tr>\n",
       "  </thead>\n",
       "  <tbody>\n",
       "    <tr>\n",
       "      <th>count</th>\n",
       "      <td>4428</td>\n",
       "      <td>4428</td>\n",
       "      <td>4428</td>\n",
       "      <td>4428</td>\n",
       "      <td>4428</td>\n",
       "    </tr>\n",
       "    <tr>\n",
       "      <th>unique</th>\n",
       "      <td>1290</td>\n",
       "      <td>4</td>\n",
       "      <td>15</td>\n",
       "      <td>130</td>\n",
       "      <td>311</td>\n",
       "    </tr>\n",
       "    <tr>\n",
       "      <th>top</th>\n",
       "      <td>Men Blue Slim Fit Formal Full Sleeves Formal S...</td>\n",
       "      <td>Men</td>\n",
       "      <td>Shirts</td>\n",
       "      <td>999</td>\n",
       "      <td>Blue</td>\n",
       "    </tr>\n",
       "    <tr>\n",
       "      <th>freq</th>\n",
       "      <td>90</td>\n",
       "      <td>2225</td>\n",
       "      <td>1002</td>\n",
       "      <td>206</td>\n",
       "      <td>565</td>\n",
       "    </tr>\n",
       "  </tbody>\n",
       "</table>\n",
       "</div>"
      ],
      "text/plain": [
       "                                                  Product Department Category  \\\n",
       "count                                                4428       4428     4428   \n",
       "unique                                               1290          4       15   \n",
       "top     Men Blue Slim Fit Formal Full Sleeves Formal S...        Men   Shirts   \n",
       "freq                                                   90       2225     1002   \n",
       "\n",
       "       Price Color  \n",
       "count   4428  4428  \n",
       "unique   130   311  \n",
       "top      999  Blue  \n",
       "freq     206   565  "
      ]
     },
     "execution_count": 39,
     "metadata": {},
     "output_type": "execute_result"
    }
   ],
   "source": [
    "#data analysis we can see that no invalid or negative number present\n",
    "#no missing values\n",
    "#target variable is a contineous data so its regression problem\n",
    "#duplicate rows removed\n",
    "# datatypes are object have to convert float\n"
   ]
  },
  {
   "cell_type": "code",
   "execution_count": 153,
   "id": "397594e9",
   "metadata": {},
   "outputs": [
    {
     "data": {
      "text/plain": [
       "(4013, 5)"
      ]
     },
     "execution_count": 153,
     "metadata": {},
     "output_type": "execute_result"
    }
   ],
   "source": [
    "df.shape"
   ]
  },
  {
   "cell_type": "code",
   "execution_count": 122,
   "id": "56739302",
   "metadata": {},
   "outputs": [
    {
     "name": "stdout",
     "output_type": "stream",
     "text": [
      "Men      1810\n",
      "Boys     1038\n",
      "Women     670\n",
      "Girls     495\n",
      "Name: Department, dtype: int64\n"
     ]
    },
    {
     "data": {
      "image/png": "[encoded data removed]",
      "text/plain": [
       "<Figure size 640x480 with 1 Axes>"
      ]
     },
     "metadata": {},
     "output_type": "display_data"
    }
   ],
   "source": [
    "# visualization of data\n",
    "# \n",
    "# eg check value count for department\n",
    "ax=sns.countplot(x='Department',data=df)\n",
    "print(df['Department'].value_counts())\n"
   ]
  },
  {
   "cell_type": "code",
   "execution_count": 71,
   "id": "a2eaecf4",
   "metadata": {},
   "outputs": [
    {
     "name": "stdout",
     "output_type": "stream",
     "text": [
      "Shirts               1002\n",
      "Sweatshirts           603\n",
      "Casual shirts         531\n",
      "T-Shirts              342\n",
      "Blazers               311\n",
      "Tops                  290\n",
      "Jeans                 204\n",
      "Tops and T-shirts     161\n",
      "Casual dress          148\n",
      "Dresses               145\n",
      "Causual trousers      105\n",
      "Winterware             74\n",
      "Bottomware             51\n",
      "Shorts                 46\n",
      "Name: Category, dtype: int64\n"
     ]
    },
    {
     "data": {
      "image/png": "[encoded data removed]",
      "text/plain": [
       "<Figure size 640x480 with 1 Axes>"
      ]
     },
     "metadata": {},
     "output_type": "display_data"
    }
   ],
   "source": [
    "ax=sns.countplot(x='Category',data=df)\n",
    "print(df['Category'].value_counts())"
   ]
  },
  {
   "cell_type": "code",
   "execution_count": 72,
   "id": "f0d1caae",
   "metadata": {},
   "outputs": [
    {
     "data": {
      "text/plain": [
       "(4013, 5)"
      ]
     },
     "execution_count": 72,
     "metadata": {},
     "output_type": "execute_result"
    }
   ],
   "source": [
    "df.shape"
   ]
  },
  {
   "cell_type": "code",
   "execution_count": 75,
   "id": "dbd0b8c6",
   "metadata": {},
   "outputs": [
    {
     "data": {
      "image/png": "[encoded data removed]",
      "text/plain": [
       "<Figure size 640x480 with 1 Axes>"
      ]
     },
     "metadata": {},
     "output_type": "display_data"
    }
   ],
   "source": [
    "sns.stripplot(x='Department',y='Price',data=df)\n",
    "plt.title('Department vs price')\n",
    "plt.show()"
   ]
  },
  {
   "cell_type": "code",
   "execution_count": 154,
   "id": "2998a958",
   "metadata": {},
   "outputs": [],
   "source": [
    "# categorical column product convert to neumerical by finding product frequencies and map the product frequencies with corresponding product name \n",
    "prod_freq=df['Product'].value_counts(normalize=True)\n",
    "df['Product_encoded']=df['Product'].map(prod_freq)\n"
   ]
  },
  {
   "cell_type": "code",
   "execution_count": 76,
   "id": "a4395b9a",
   "metadata": {
    "collapsed": true
   },
   "outputs": [
    {
     "ename": "ValueError",
     "evalue": "could not convert string to float: ' 2,449'",
     "output_type": "error",
     "traceback": [
      "\u001b[1;31m---------------------------------------------------------------------------\u001b[0m",
      "\u001b[1;31mValueError\u001b[0m                                Traceback (most recent call last)",
      "Cell \u001b[1;32mIn[76], line 3\u001b[0m\n\u001b[0;32m      1\u001b[0m \u001b[38;5;66;03m# check normal distribution using distplot\u001b[39;00m\n\u001b[0;32m      2\u001b[0m plt\u001b[38;5;241m.\u001b[39mfigure(figsize\u001b[38;5;241m=\u001b[39m(\u001b[38;5;241m15\u001b[39m,\u001b[38;5;241m10\u001b[39m),facecolor\u001b[38;5;241m=\u001b[39m\u001b[38;5;124m'\u001b[39m\u001b[38;5;124mwhite\u001b[39m\u001b[38;5;124m'\u001b[39m)\n\u001b[1;32m----> 3\u001b[0m \u001b[43msns\u001b[49m\u001b[38;5;241;43m.\u001b[39;49m\u001b[43mdistplot\u001b[49m\u001b[43m(\u001b[49m\u001b[43mdf\u001b[49m\u001b[43m[\u001b[49m\u001b[38;5;124;43m'\u001b[39;49m\u001b[38;5;124;43mPrice\u001b[39;49m\u001b[38;5;124;43m'\u001b[39;49m\u001b[43m]\u001b[49m\u001b[43m,\u001b[49m\u001b[43mcolor\u001b[49m\u001b[38;5;241;43m=\u001b[39;49m\u001b[38;5;124;43m'\u001b[39;49m\u001b[38;5;124;43mr\u001b[39;49m\u001b[38;5;124;43m'\u001b[39;49m\u001b[43m)\u001b[49m\n\u001b[0;32m      4\u001b[0m plt\u001b[38;5;241m.\u001b[39mxlabel(\u001b[38;5;124m'\u001b[39m\u001b[38;5;124mPrice\u001b[39m\u001b[38;5;124m'\u001b[39m)\n\u001b[0;32m      5\u001b[0m plt\u001b[38;5;241m.\u001b[39mshow()\n",
      "File \u001b[1;32m~\\anaconda3\\lib\\site-packages\\seaborn\\distributions.py:2458\u001b[0m, in \u001b[0;36mdistplot\u001b[1;34m(a, bins, hist, kde, rug, fit, hist_kws, kde_kws, rug_kws, fit_kws, color, vertical, norm_hist, axlabel, label, ax, x)\u001b[0m\n\u001b[0;32m   2455\u001b[0m     a \u001b[38;5;241m=\u001b[39m x\n\u001b[0;32m   2457\u001b[0m \u001b[38;5;66;03m# Make a a 1-d float array\u001b[39;00m\n\u001b[1;32m-> 2458\u001b[0m a \u001b[38;5;241m=\u001b[39m \u001b[43mnp\u001b[49m\u001b[38;5;241;43m.\u001b[39;49m\u001b[43masarray\u001b[49m\u001b[43m(\u001b[49m\u001b[43ma\u001b[49m\u001b[43m,\u001b[49m\u001b[43m \u001b[49m\u001b[38;5;28;43mfloat\u001b[39;49m\u001b[43m)\u001b[49m\n\u001b[0;32m   2459\u001b[0m \u001b[38;5;28;01mif\u001b[39;00m a\u001b[38;5;241m.\u001b[39mndim \u001b[38;5;241m>\u001b[39m \u001b[38;5;241m1\u001b[39m:\n\u001b[0;32m   2460\u001b[0m     a \u001b[38;5;241m=\u001b[39m a\u001b[38;5;241m.\u001b[39msqueeze()\n",
      "File \u001b[1;32m~\\anaconda3\\lib\\site-packages\\pandas\\core\\series.py:893\u001b[0m, in \u001b[0;36mSeries.__array__\u001b[1;34m(self, dtype)\u001b[0m\n\u001b[0;32m    846\u001b[0m \u001b[38;5;28;01mdef\u001b[39;00m \u001b[38;5;21m__array__\u001b[39m(\u001b[38;5;28mself\u001b[39m, dtype: npt\u001b[38;5;241m.\u001b[39mDTypeLike \u001b[38;5;241m|\u001b[39m \u001b[38;5;28;01mNone\u001b[39;00m \u001b[38;5;241m=\u001b[39m \u001b[38;5;28;01mNone\u001b[39;00m) \u001b[38;5;241m-\u001b[39m\u001b[38;5;241m>\u001b[39m np\u001b[38;5;241m.\u001b[39mndarray:\n\u001b[0;32m    847\u001b[0m     \u001b[38;5;124;03m\"\"\"\u001b[39;00m\n\u001b[0;32m    848\u001b[0m \u001b[38;5;124;03m    Return the values as a NumPy array.\u001b[39;00m\n\u001b[0;32m    849\u001b[0m \n\u001b[1;32m   (...)\u001b[0m\n\u001b[0;32m    891\u001b[0m \u001b[38;5;124;03m          dtype='datetime64[ns]')\u001b[39;00m\n\u001b[0;32m    892\u001b[0m \u001b[38;5;124;03m    \"\"\"\u001b[39;00m\n\u001b[1;32m--> 893\u001b[0m     \u001b[38;5;28;01mreturn\u001b[39;00m \u001b[43mnp\u001b[49m\u001b[38;5;241;43m.\u001b[39;49m\u001b[43masarray\u001b[49m\u001b[43m(\u001b[49m\u001b[38;5;28;43mself\u001b[39;49m\u001b[38;5;241;43m.\u001b[39;49m\u001b[43m_values\u001b[49m\u001b[43m,\u001b[49m\u001b[43m \u001b[49m\u001b[43mdtype\u001b[49m\u001b[43m)\u001b[49m\n",
      "\u001b[1;31mValueError\u001b[0m: could not convert string to float: ' 2,449'"
     ]
    },
    {
     "data": {
      "image/png": "[encoded data removed]",
      "text/plain": [
       "<Figure size 1500x1000 with 1 Axes>"
      ]
     },
     "metadata": {},
     "output_type": "display_data"
    }
   ],
   "source": []
  },
  {
   "cell_type": "code",
   "execution_count": 155,
   "id": "85ec6152",
   "metadata": {},
   "outputs": [
    {
     "data": {
      "text/html": [
       "<div>\n",
       "<style scoped>\n",
       "    .dataframe tbody tr th:only-of-type {\n",
       "        vertical-align: middle;\n",
       "    }\n",
       "\n",
       "    .dataframe tbody tr th {\n",
       "        vertical-align: top;\n",
       "    }\n",
       "\n",
       "    .dataframe thead th {\n",
       "        text-align: right;\n",
       "    }\n",
       "</style>\n",
       "<table border=\"1\" class=\"dataframe\">\n",
       "  <thead>\n",
       "    <tr style=\"text-align: right;\">\n",
       "      <th></th>\n",
       "      <th>Product</th>\n",
       "      <th>Department</th>\n",
       "      <th>Category</th>\n",
       "      <th>Price</th>\n",
       "      <th>Color</th>\n",
       "      <th>Product_encoded</th>\n",
       "    </tr>\n",
       "  </thead>\n",
       "  <tbody>\n",
       "    <tr>\n",
       "      <th>0</th>\n",
       "      <td>Men Blue Slim Fit Solid Full Sleeves Casual Sh...</td>\n",
       "      <td>Men</td>\n",
       "      <td>Casual shirts</td>\n",
       "      <td>2449</td>\n",
       "      <td>Blue</td>\n",
       "      <td>0.004236</td>\n",
       "    </tr>\n",
       "    <tr>\n",
       "      <th>1</th>\n",
       "      <td>Men Yellow Slim Fit Solid Casual Shirts</td>\n",
       "      <td>Men</td>\n",
       "      <td>Casual shirts</td>\n",
       "      <td>974</td>\n",
       "      <td>Yellow</td>\n",
       "      <td>0.000249</td>\n",
       "    </tr>\n",
       "    <tr>\n",
       "      <th>2</th>\n",
       "      <td>Men Navy Custom Fit Check Full Sleeves Casual ...</td>\n",
       "      <td>Men</td>\n",
       "      <td>Casual shirts</td>\n",
       "      <td>1374</td>\n",
       "      <td>Navy</td>\n",
       "      <td>0.001744</td>\n",
       "    </tr>\n",
       "    <tr>\n",
       "      <th>3</th>\n",
       "      <td>Men Navy Slim Fit Solid Full Sleeves Casual Sh...</td>\n",
       "      <td>Men</td>\n",
       "      <td>Casual shirts</td>\n",
       "      <td>2449</td>\n",
       "      <td>Navy</td>\n",
       "      <td>0.001495</td>\n",
       "    </tr>\n",
       "    <tr>\n",
       "      <th>4</th>\n",
       "      <td>Men Peach Slim Fit Solid Casual Shirts</td>\n",
       "      <td>Men</td>\n",
       "      <td>Casual shirts</td>\n",
       "      <td>974</td>\n",
       "      <td>Peach</td>\n",
       "      <td>0.000748</td>\n",
       "    </tr>\n",
       "  </tbody>\n",
       "</table>\n",
       "</div>"
      ],
      "text/plain": [
       "                                             Product Department  \\\n",
       "0  Men Blue Slim Fit Solid Full Sleeves Casual Sh...        Men   \n",
       "1            Men Yellow Slim Fit Solid Casual Shirts        Men   \n",
       "2  Men Navy Custom Fit Check Full Sleeves Casual ...        Men   \n",
       "3  Men Navy Slim Fit Solid Full Sleeves Casual Sh...        Men   \n",
       "4             Men Peach Slim Fit Solid Casual Shirts        Men   \n",
       "\n",
       "        Category  Price   Color  Product_encoded  \n",
       "0  Casual shirts   2449    Blue         0.004236  \n",
       "1  Casual shirts    974  Yellow         0.000249  \n",
       "2  Casual shirts   1374    Navy         0.001744  \n",
       "3  Casual shirts   2449    Navy         0.001495  \n",
       "4  Casual shirts    974   Peach         0.000748  "
      ]
     },
     "execution_count": 155,
     "metadata": {},
     "output_type": "execute_result"
    }
   ],
   "source": [
    "df.head()"
   ]
  },
  {
   "cell_type": "code",
   "execution_count": 81,
   "id": "8b4815fe",
   "metadata": {},
   "outputs": [],
   "source": []
  },
  {
   "cell_type": "code",
   "execution_count": 156,
   "id": "56f3d474",
   "metadata": {},
   "outputs": [
    {
     "data": {
      "text/plain": [
       "Product             object\n",
       "Department          object\n",
       "Category            object\n",
       "Price                int64\n",
       "Color               object\n",
       "Product_encoded    float64\n",
       "dtype: object"
      ]
     },
     "execution_count": 156,
     "metadata": {},
     "output_type": "execute_result"
    }
   ],
   "source": [
    "df.dtypes"
   ]
  },
  {
   "cell_type": "code",
   "execution_count": 206,
   "id": "0c0652bb",
   "metadata": {},
   "outputs": [
    {
     "data": {
      "text/html": [
       "<div>\n",
       "<style scoped>\n",
       "    .dataframe tbody tr th:only-of-type {\n",
       "        vertical-align: middle;\n",
       "    }\n",
       "\n",
       "    .dataframe tbody tr th {\n",
       "        vertical-align: top;\n",
       "    }\n",
       "\n",
       "    .dataframe thead th {\n",
       "        text-align: right;\n",
       "    }\n",
       "</style>\n",
       "<table border=\"1\" class=\"dataframe\">\n",
       "  <thead>\n",
       "    <tr style=\"text-align: right;\">\n",
       "      <th></th>\n",
       "      <th>Department</th>\n",
       "      <th>Category</th>\n",
       "      <th>Price</th>\n",
       "      <th>Color</th>\n",
       "      <th>Product_encoded</th>\n",
       "    </tr>\n",
       "  </thead>\n",
       "  <tbody>\n",
       "    <tr>\n",
       "      <th>0</th>\n",
       "      <td>2.0</td>\n",
       "      <td>3.0</td>\n",
       "      <td>2449</td>\n",
       "      <td>6.0</td>\n",
       "      <td>0.004236</td>\n",
       "    </tr>\n",
       "    <tr>\n",
       "      <th>1</th>\n",
       "      <td>2.0</td>\n",
       "      <td>3.0</td>\n",
       "      <td>974</td>\n",
       "      <td>41.0</td>\n",
       "      <td>0.000249</td>\n",
       "    </tr>\n",
       "    <tr>\n",
       "      <th>2</th>\n",
       "      <td>2.0</td>\n",
       "      <td>3.0</td>\n",
       "      <td>1374</td>\n",
       "      <td>24.0</td>\n",
       "      <td>0.001744</td>\n",
       "    </tr>\n",
       "    <tr>\n",
       "      <th>3</th>\n",
       "      <td>2.0</td>\n",
       "      <td>3.0</td>\n",
       "      <td>2449</td>\n",
       "      <td>24.0</td>\n",
       "      <td>0.001495</td>\n",
       "    </tr>\n",
       "    <tr>\n",
       "      <th>4</th>\n",
       "      <td>2.0</td>\n",
       "      <td>3.0</td>\n",
       "      <td>974</td>\n",
       "      <td>32.0</td>\n",
       "      <td>0.000748</td>\n",
       "    </tr>\n",
       "  </tbody>\n",
       "</table>\n",
       "</div>"
      ],
      "text/plain": [
       "   Department  Category  Price  Color  Product_encoded\n",
       "0         2.0       3.0   2449    6.0         0.004236\n",
       "1         2.0       3.0    974   41.0         0.000249\n",
       "2         2.0       3.0   1374   24.0         0.001744\n",
       "3         2.0       3.0   2449   24.0         0.001495\n",
       "4         2.0       3.0    974   32.0         0.000748"
      ]
     },
     "execution_count": 206,
     "metadata": {},
     "output_type": "execute_result"
    }
   ],
   "source": [
    "df.head()"
   ]
  },
  {
   "cell_type": "code",
   "execution_count": 207,
   "id": "5ec0999f",
   "metadata": {},
   "outputs": [
    {
     "data": {
      "image/png": "[encoded data removed]",
      "text/plain": [
       "<Figure size 640x480 with 1 Axes>"
      ]
     },
     "metadata": {},
     "output_type": "display_data"
    }
   ],
   "source": [
    "sns.distplot(df['Product_encoded'],color='r')\n",
    "plt.xlabel('Product_encoded')\n",
    "plt.show()"
   ]
  },
  {
   "cell_type": "code",
   "execution_count": 209,
   "id": "65132cd5",
   "metadata": {},
   "outputs": [
    {
     "data": {
      "image/png": "[encoded data removed]",
      "text/plain": [
       "<Figure size 640x480 with 1 Axes>"
      ]
     },
     "metadata": {},
     "output_type": "display_data"
    }
   ],
   "source": [
    "sns.boxplot(df['Product_encoded'],color='r')\n",
    "plt.xlabel('Product_encoded')\n",
    "plt.show()"
   ]
  },
  {
   "cell_type": "code",
   "execution_count": 210,
   "id": "8a9ead21",
   "metadata": {},
   "outputs": [],
   "source": [
    "# remove outliers using percentile\n",
    "from numpy import percentile\n",
    "columns=df[['Product_encoded']]\n",
    "for i in columns:\n",
    "    if isinstance(df[i][0],str):\n",
    "        continue\n",
    "    else:\n",
    "        quartiles=percentile(df[i],[25,75])\n",
    "        lower_level=quartiles[0]-(1.5*(quartiles[1]-quartiles[0]))\n",
    "        upper_level=quartiles[1]+(1.5*(quartiles[1]-quartiles[0]))\n",
    "        df[i]=df[i].apply(lambda x: upper_level if x>upper_level else (lower_level if x < lower_level else x))"
   ]
  },
  {
   "cell_type": "code",
   "execution_count": 211,
   "id": "33499be6",
   "metadata": {},
   "outputs": [
    {
     "data": {
      "image/png": "[encoded data removed]",
      "text/plain": [
       "<Figure size 640x480 with 1 Axes>"
      ]
     },
     "metadata": {},
     "output_type": "display_data"
    }
   ],
   "source": [
    "sns.boxplot(df['Product_encoded'],color='r')\n",
    "plt.xlabel('Product_encoded')\n",
    "plt.show()"
   ]
  },
  {
   "cell_type": "code",
   "execution_count": 212,
   "id": "40e48880",
   "metadata": {},
   "outputs": [
    {
     "data": {
      "text/plain": [
       "(4013, 5)"
      ]
     },
     "execution_count": 212,
     "metadata": {},
     "output_type": "execute_result"
    }
   ],
   "source": [
    "\n",
    "df.shape"
   ]
  },
  {
   "cell_type": "code",
   "execution_count": 213,
   "id": "c594d692",
   "metadata": {},
   "outputs": [
    {
     "data": {
      "text/plain": [
       "Department         0\n",
       "Category           0\n",
       "Price              0\n",
       "Color              0\n",
       "Product_encoded    0\n",
       "dtype: int64"
      ]
     },
     "execution_count": 213,
     "metadata": {},
     "output_type": "execute_result"
    }
   ],
   "source": [
    "df.isna().sum()"
   ]
  },
  {
   "cell_type": "code",
   "execution_count": 127,
   "id": "11944967",
   "metadata": {
    "collapsed": true
   },
   "outputs": [
    {
     "data": {
      "image/png": "[encoded data removed]",
      "text/plain": [
       "<Figure size 1500x1000 with 1 Axes>"
      ]
     },
     "metadata": {},
     "output_type": "display_data"
    }
   ],
   "source": []
  },
  {
   "cell_type": "code",
   "execution_count": 159,
   "id": "05701ed9",
   "metadata": {},
   "outputs": [],
   "source": [
    "# we have neumerical column product_encoded so we can delete product column\n",
    "df.drop('Product',axis=1,inplace=True)\n"
   ]
  },
  {
   "cell_type": "code",
   "execution_count": 214,
   "id": "e92ab1c5",
   "metadata": {},
   "outputs": [
    {
     "data": {
      "text/html": [
       "<div>\n",
       "<style scoped>\n",
       "    .dataframe tbody tr th:only-of-type {\n",
       "        vertical-align: middle;\n",
       "    }\n",
       "\n",
       "    .dataframe tbody tr th {\n",
       "        vertical-align: top;\n",
       "    }\n",
       "\n",
       "    .dataframe thead th {\n",
       "        text-align: right;\n",
       "    }\n",
       "</style>\n",
       "<table border=\"1\" class=\"dataframe\">\n",
       "  <thead>\n",
       "    <tr style=\"text-align: right;\">\n",
       "      <th></th>\n",
       "      <th>Department</th>\n",
       "      <th>Category</th>\n",
       "      <th>Price</th>\n",
       "      <th>Color</th>\n",
       "      <th>Product_encoded</th>\n",
       "    </tr>\n",
       "  </thead>\n",
       "  <tbody>\n",
       "    <tr>\n",
       "      <th>0</th>\n",
       "      <td>2.0</td>\n",
       "      <td>3.0</td>\n",
       "      <td>2449</td>\n",
       "      <td>6.0</td>\n",
       "      <td>0.004236</td>\n",
       "    </tr>\n",
       "    <tr>\n",
       "      <th>1</th>\n",
       "      <td>2.0</td>\n",
       "      <td>3.0</td>\n",
       "      <td>974</td>\n",
       "      <td>41.0</td>\n",
       "      <td>0.000249</td>\n",
       "    </tr>\n",
       "    <tr>\n",
       "      <th>2</th>\n",
       "      <td>2.0</td>\n",
       "      <td>3.0</td>\n",
       "      <td>1374</td>\n",
       "      <td>24.0</td>\n",
       "      <td>0.001744</td>\n",
       "    </tr>\n",
       "    <tr>\n",
       "      <th>3</th>\n",
       "      <td>2.0</td>\n",
       "      <td>3.0</td>\n",
       "      <td>2449</td>\n",
       "      <td>24.0</td>\n",
       "      <td>0.001495</td>\n",
       "    </tr>\n",
       "    <tr>\n",
       "      <th>4</th>\n",
       "      <td>2.0</td>\n",
       "      <td>3.0</td>\n",
       "      <td>974</td>\n",
       "      <td>32.0</td>\n",
       "      <td>0.000748</td>\n",
       "    </tr>\n",
       "  </tbody>\n",
       "</table>\n",
       "</div>"
      ],
      "text/plain": [
       "   Department  Category  Price  Color  Product_encoded\n",
       "0         2.0       3.0   2449    6.0         0.004236\n",
       "1         2.0       3.0    974   41.0         0.000249\n",
       "2         2.0       3.0   1374   24.0         0.001744\n",
       "3         2.0       3.0   2449   24.0         0.001495\n",
       "4         2.0       3.0    974   32.0         0.000748"
      ]
     },
     "execution_count": 214,
     "metadata": {},
     "output_type": "execute_result"
    }
   ],
   "source": [
    "df.head()"
   ]
  },
  {
   "cell_type": "code",
   "execution_count": 215,
   "id": "229ac0e0",
   "metadata": {},
   "outputs": [
    {
     "data": {
      "text/plain": [
       "Department         0\n",
       "Category           0\n",
       "Price              0\n",
       "Color              0\n",
       "Product_encoded    0\n",
       "dtype: int64"
      ]
     },
     "execution_count": 215,
     "metadata": {},
     "output_type": "execute_result"
    }
   ],
   "source": [
    "df.isna().sum()"
   ]
  },
  {
   "cell_type": "code",
   "execution_count": 162,
   "id": "e6b104ba",
   "metadata": {},
   "outputs": [
    {
     "data": {
      "text/html": [
       "<div>\n",
       "<style scoped>\n",
       "    .dataframe tbody tr th:only-of-type {\n",
       "        vertical-align: middle;\n",
       "    }\n",
       "\n",
       "    .dataframe tbody tr th {\n",
       "        vertical-align: top;\n",
       "    }\n",
       "\n",
       "    .dataframe thead th {\n",
       "        text-align: right;\n",
       "    }\n",
       "</style>\n",
       "<table border=\"1\" class=\"dataframe\">\n",
       "  <thead>\n",
       "    <tr style=\"text-align: right;\">\n",
       "      <th></th>\n",
       "      <th>Department</th>\n",
       "      <th>Category</th>\n",
       "      <th>Price</th>\n",
       "      <th>Color</th>\n",
       "      <th>Product_encoded</th>\n",
       "    </tr>\n",
       "  </thead>\n",
       "  <tbody>\n",
       "    <tr>\n",
       "      <th>0</th>\n",
       "      <td>2.0</td>\n",
       "      <td>3.0</td>\n",
       "      <td>2449</td>\n",
       "      <td>6.0</td>\n",
       "      <td>0.004236</td>\n",
       "    </tr>\n",
       "    <tr>\n",
       "      <th>1</th>\n",
       "      <td>2.0</td>\n",
       "      <td>3.0</td>\n",
       "      <td>974</td>\n",
       "      <td>41.0</td>\n",
       "      <td>0.000249</td>\n",
       "    </tr>\n",
       "    <tr>\n",
       "      <th>2</th>\n",
       "      <td>2.0</td>\n",
       "      <td>3.0</td>\n",
       "      <td>1374</td>\n",
       "      <td>24.0</td>\n",
       "      <td>0.001744</td>\n",
       "    </tr>\n",
       "    <tr>\n",
       "      <th>3</th>\n",
       "      <td>2.0</td>\n",
       "      <td>3.0</td>\n",
       "      <td>2449</td>\n",
       "      <td>24.0</td>\n",
       "      <td>0.001495</td>\n",
       "    </tr>\n",
       "    <tr>\n",
       "      <th>4</th>\n",
       "      <td>2.0</td>\n",
       "      <td>3.0</td>\n",
       "      <td>974</td>\n",
       "      <td>32.0</td>\n",
       "      <td>0.000748</td>\n",
       "    </tr>\n",
       "    <tr>\n",
       "      <th>...</th>\n",
       "      <td>...</td>\n",
       "      <td>...</td>\n",
       "      <td>...</td>\n",
       "      <td>...</td>\n",
       "      <td>...</td>\n",
       "    </tr>\n",
       "    <tr>\n",
       "      <th>4008</th>\n",
       "      <td>2.0</td>\n",
       "      <td>7.0</td>\n",
       "      <td>1279</td>\n",
       "      <td>2.0</td>\n",
       "      <td>0.009718</td>\n",
       "    </tr>\n",
       "    <tr>\n",
       "      <th>4009</th>\n",
       "      <td>2.0</td>\n",
       "      <td>7.0</td>\n",
       "      <td>1439</td>\n",
       "      <td>20.0</td>\n",
       "      <td>0.003239</td>\n",
       "    </tr>\n",
       "    <tr>\n",
       "      <th>4010</th>\n",
       "      <td>2.0</td>\n",
       "      <td>7.0</td>\n",
       "      <td>1279</td>\n",
       "      <td>2.0</td>\n",
       "      <td>0.022427</td>\n",
       "    </tr>\n",
       "    <tr>\n",
       "      <th>4011</th>\n",
       "      <td>2.0</td>\n",
       "      <td>7.0</td>\n",
       "      <td>2399</td>\n",
       "      <td>30.0</td>\n",
       "      <td>0.010466</td>\n",
       "    </tr>\n",
       "    <tr>\n",
       "      <th>4012</th>\n",
       "      <td>2.0</td>\n",
       "      <td>7.0</td>\n",
       "      <td>1259</td>\n",
       "      <td>2.0</td>\n",
       "      <td>0.009718</td>\n",
       "    </tr>\n",
       "  </tbody>\n",
       "</table>\n",
       "<p>4013 rows × 5 columns</p>\n",
       "</div>"
      ],
      "text/plain": [
       "      Department  Category  Price  Color  Product_encoded\n",
       "0            2.0       3.0   2449    6.0         0.004236\n",
       "1            2.0       3.0    974   41.0         0.000249\n",
       "2            2.0       3.0   1374   24.0         0.001744\n",
       "3            2.0       3.0   2449   24.0         0.001495\n",
       "4            2.0       3.0    974   32.0         0.000748\n",
       "...          ...       ...    ...    ...              ...\n",
       "4008         2.0       7.0   1279    2.0         0.009718\n",
       "4009         2.0       7.0   1439   20.0         0.003239\n",
       "4010         2.0       7.0   1279    2.0         0.022427\n",
       "4011         2.0       7.0   2399   30.0         0.010466\n",
       "4012         2.0       7.0   1259    2.0         0.009718\n",
       "\n",
       "[4013 rows x 5 columns]"
      ]
     },
     "execution_count": 162,
     "metadata": {},
     "output_type": "execute_result"
    }
   ],
   "source": [
    "from sklearn.preprocessing import OrdinalEncoder\n",
    "oe=OrdinalEncoder()\n",
    "for i in df[['Department','Category','Color']]:\n",
    "    if df[i].dtypes=='object':\n",
    "        df[i]=oe.fit_transform(df[i].values.reshape(-1,1))\n",
    "df"
   ]
  },
  {
   "cell_type": "code",
   "execution_count": 163,
   "id": "8a40e46f",
   "metadata": {},
   "outputs": [
    {
     "data": {
      "text/plain": [
       "Department         0\n",
       "Category           0\n",
       "Price              0\n",
       "Color              0\n",
       "Product_encoded    0\n",
       "dtype: int64"
      ]
     },
     "execution_count": 163,
     "metadata": {},
     "output_type": "execute_result"
    }
   ],
   "source": [
    "df.isna().sum()"
   ]
  },
  {
   "cell_type": "code",
   "execution_count": 168,
   "id": "c61cace6",
   "metadata": {},
   "outputs": [
    {
     "data": {
      "text/plain": [
       "(4013, 5)"
      ]
     },
     "execution_count": 168,
     "metadata": {},
     "output_type": "execute_result"
    }
   ],
   "source": [
    "df.shape"
   ]
  },
  {
   "cell_type": "code",
   "execution_count": 216,
   "id": "6644986c",
   "metadata": {},
   "outputs": [
    {
     "data": {
      "image/png": "[encoded data removed]",
      "text/plain": [
       "<Figure size 1500x2000 with 2 Axes>"
      ]
     },
     "metadata": {},
     "output_type": "display_data"
    }
   ],
   "source": [
    "data_corr=df.corr().abs()\n",
    "plt.figure(figsize=(15,20),facecolor='orange')\n",
    "sns.heatmap(data_corr,annot=True,fmt='0.2f',linecolor='black')\n",
    "plt.show()"
   ]
  },
  {
   "cell_type": "code",
   "execution_count": 217,
   "id": "05324d13",
   "metadata": {},
   "outputs": [
    {
     "data": {
      "image/png": "[encoded data removed]",
      "text/plain": [
       "<Figure size 1500x1000 with 1 Axes>"
      ]
     },
     "metadata": {},
     "output_type": "display_data"
    }
   ],
   "source": [
    "# visualise relarion between features and target\n",
    "plt.figure(figsize=(15,10),facecolor='r')\n",
    "df.corr()['Price'].sort_values(ascending=False).drop(['Price']).plot(kind='bar',color='m')\n",
    "plt.xlabel('Features',fontsize=15)\n",
    "plt.ylabel('target',fontsize=15)\n",
    "plt.title('corelation between features vs target')\n",
    "plt.show()"
   ]
  },
  {
   "cell_type": "code",
   "execution_count": null,
   "id": "c9591d1a",
   "metadata": {},
   "outputs": [],
   "source": [
    "# all features contributing to the target variable "
   ]
  },
  {
   "cell_type": "code",
   "execution_count": 218,
   "id": "fcea7f99",
   "metadata": {},
   "outputs": [],
   "source": [
    "# devide dataset into features and target\n",
    "x=df.drop('Price',axis=1)\n",
    "y=df['Price']"
   ]
  },
  {
   "cell_type": "code",
   "execution_count": 219,
   "id": "2fae3816",
   "metadata": {},
   "outputs": [
    {
     "data": {
      "text/html": [
       "<div>\n",
       "<style scoped>\n",
       "    .dataframe tbody tr th:only-of-type {\n",
       "        vertical-align: middle;\n",
       "    }\n",
       "\n",
       "    .dataframe tbody tr th {\n",
       "        vertical-align: top;\n",
       "    }\n",
       "\n",
       "    .dataframe thead th {\n",
       "        text-align: right;\n",
       "    }\n",
       "</style>\n",
       "<table border=\"1\" class=\"dataframe\">\n",
       "  <thead>\n",
       "    <tr style=\"text-align: right;\">\n",
       "      <th></th>\n",
       "      <th>Department</th>\n",
       "      <th>Category</th>\n",
       "      <th>Color</th>\n",
       "      <th>Product_encoded</th>\n",
       "    </tr>\n",
       "  </thead>\n",
       "  <tbody>\n",
       "    <tr>\n",
       "      <th>0</th>\n",
       "      <td>0.451554</td>\n",
       "      <td>-1.058173</td>\n",
       "      <td>-1.066817</td>\n",
       "      <td>0.781679</td>\n",
       "    </tr>\n",
       "    <tr>\n",
       "      <th>1</th>\n",
       "      <td>0.451554</td>\n",
       "      <td>-1.058173</td>\n",
       "      <td>1.549010</td>\n",
       "      <td>-0.943925</td>\n",
       "    </tr>\n",
       "    <tr>\n",
       "      <th>2</th>\n",
       "      <td>0.451554</td>\n",
       "      <td>-1.058173</td>\n",
       "      <td>0.278465</td>\n",
       "      <td>-0.296823</td>\n",
       "    </tr>\n",
       "    <tr>\n",
       "      <th>3</th>\n",
       "      <td>0.451554</td>\n",
       "      <td>-1.058173</td>\n",
       "      <td>0.278465</td>\n",
       "      <td>-0.404674</td>\n",
       "    </tr>\n",
       "    <tr>\n",
       "      <th>4</th>\n",
       "      <td>0.451554</td>\n",
       "      <td>-1.058173</td>\n",
       "      <td>0.876369</td>\n",
       "      <td>-0.728224</td>\n",
       "    </tr>\n",
       "    <tr>\n",
       "      <th>...</th>\n",
       "      <td>...</td>\n",
       "      <td>...</td>\n",
       "      <td>...</td>\n",
       "      <td>...</td>\n",
       "    </tr>\n",
       "    <tr>\n",
       "      <th>4008</th>\n",
       "      <td>0.451554</td>\n",
       "      <td>0.106594</td>\n",
       "      <td>-1.365769</td>\n",
       "      <td>2.237657</td>\n",
       "    </tr>\n",
       "    <tr>\n",
       "      <th>4009</th>\n",
       "      <td>0.451554</td>\n",
       "      <td>0.106594</td>\n",
       "      <td>-0.020486</td>\n",
       "      <td>0.350278</td>\n",
       "    </tr>\n",
       "    <tr>\n",
       "      <th>4010</th>\n",
       "      <td>0.451554</td>\n",
       "      <td>0.106594</td>\n",
       "      <td>-1.365769</td>\n",
       "      <td>2.237657</td>\n",
       "    </tr>\n",
       "    <tr>\n",
       "      <th>4011</th>\n",
       "      <td>0.451554</td>\n",
       "      <td>0.106594</td>\n",
       "      <td>0.726893</td>\n",
       "      <td>2.237657</td>\n",
       "    </tr>\n",
       "    <tr>\n",
       "      <th>4012</th>\n",
       "      <td>0.451554</td>\n",
       "      <td>0.106594</td>\n",
       "      <td>-1.365769</td>\n",
       "      <td>2.237657</td>\n",
       "    </tr>\n",
       "  </tbody>\n",
       "</table>\n",
       "<p>4013 rows × 4 columns</p>\n",
       "</div>"
      ],
      "text/plain": [
       "      Department  Category     Color  Product_encoded\n",
       "0       0.451554 -1.058173 -1.066817         0.781679\n",
       "1       0.451554 -1.058173  1.549010        -0.943925\n",
       "2       0.451554 -1.058173  0.278465        -0.296823\n",
       "3       0.451554 -1.058173  0.278465        -0.404674\n",
       "4       0.451554 -1.058173  0.876369        -0.728224\n",
       "...          ...       ...       ...              ...\n",
       "4008    0.451554  0.106594 -1.365769         2.237657\n",
       "4009    0.451554  0.106594 -0.020486         0.350278\n",
       "4010    0.451554  0.106594 -1.365769         2.237657\n",
       "4011    0.451554  0.106594  0.726893         2.237657\n",
       "4012    0.451554  0.106594 -1.365769         2.237657\n",
       "\n",
       "[4013 rows x 4 columns]"
      ]
     },
     "execution_count": 219,
     "metadata": {},
     "output_type": "execute_result"
    }
   ],
   "source": [
    "# feature data scaling\n",
    "from sklearn.preprocessing import StandardScaler\n",
    "scaler=StandardScaler()\n",
    "x=pd.DataFrame(scaler.fit_transform(x),columns=x.columns)\n",
    "x"
   ]
  },
  {
   "cell_type": "code",
   "execution_count": 220,
   "id": "467e6e5a",
   "metadata": {},
   "outputs": [
    {
     "data": {
      "text/html": [
       "<div>\n",
       "<style scoped>\n",
       "    .dataframe tbody tr th:only-of-type {\n",
       "        vertical-align: middle;\n",
       "    }\n",
       "\n",
       "    .dataframe tbody tr th {\n",
       "        vertical-align: top;\n",
       "    }\n",
       "\n",
       "    .dataframe thead th {\n",
       "        text-align: right;\n",
       "    }\n",
       "</style>\n",
       "<table border=\"1\" class=\"dataframe\">\n",
       "  <thead>\n",
       "    <tr style=\"text-align: right;\">\n",
       "      <th></th>\n",
       "      <th>vif values</th>\n",
       "      <th>features</th>\n",
       "    </tr>\n",
       "  </thead>\n",
       "  <tbody>\n",
       "    <tr>\n",
       "      <th>0</th>\n",
       "      <td>1.030433</td>\n",
       "      <td>Department</td>\n",
       "    </tr>\n",
       "    <tr>\n",
       "      <th>1</th>\n",
       "      <td>1.034151</td>\n",
       "      <td>Category</td>\n",
       "    </tr>\n",
       "    <tr>\n",
       "      <th>2</th>\n",
       "      <td>1.057998</td>\n",
       "      <td>Color</td>\n",
       "    </tr>\n",
       "    <tr>\n",
       "      <th>3</th>\n",
       "      <td>1.088506</td>\n",
       "      <td>Product_encoded</td>\n",
       "    </tr>\n",
       "  </tbody>\n",
       "</table>\n",
       "</div>"
      ],
      "text/plain": [
       "   vif values         features\n",
       "0    1.030433       Department\n",
       "1    1.034151         Category\n",
       "2    1.057998            Color\n",
       "3    1.088506  Product_encoded"
      ]
     },
     "execution_count": 220,
     "metadata": {},
     "output_type": "execute_result"
    }
   ],
   "source": [
    "# checking data for multicolinearity using vif\n",
    "from statsmodels.stats.outliers_influence import variance_inflation_factor\n",
    "vif=pd.DataFrame()\n",
    "vif['vif values']=[variance_inflation_factor(x.values,i) for i in range(len(x.columns))]\n",
    "vif['features']=x.columns\n",
    "vif"
   ]
  },
  {
   "cell_type": "code",
   "execution_count": 221,
   "id": "ee876527",
   "metadata": {},
   "outputs": [],
   "source": [
    "# no multicolinearity between features\n",
    "# model building\n",
    "from sklearn.model_selection import train_test_split\n",
    "from sklearn.metrics import mean_absolute_error\n",
    "from sklearn.metrics import mean_squared_error\n",
    "from sklearn.metrics import r2_score\n",
    "from sklearn.ensemble import GradientBoostingRegressor\n",
    "from sklearn.linear_model import LinearRegression\n",
    "from sklearn.ensemble import AdaBoostRegressor"
   ]
  },
  {
   "cell_type": "code",
   "execution_count": 223,
   "id": "8cd960ab",
   "metadata": {},
   "outputs": [
    {
     "name": "stdout",
     "output_type": "stream",
     "text": [
      "Accuracy score  0.36473565667717556 on random state  140\n"
     ]
    }
   ],
   "source": [
    "maxACC=0\n",
    "maxRS=0\n",
    "for i in range(0,200):\n",
    "    x_train,x_test,y_train,y_test=train_test_split(x,y,test_size=0.2,random_state=i)\n",
    "    gbr=GradientBoostingRegressor()\n",
    "    gbr.fit(x_train,y_train)\n",
    "    pred=gbr.predict(x_test)\n",
    "    acc=r2_score(y_test,pred)\n",
    "    if acc>maxACC:\n",
    "        maxACC=acc\n",
    "        maxRS=i\n",
    "print('Accuracy score ', maxACC,'on random state ',maxRS)"
   ]
  },
  {
   "cell_type": "code",
   "execution_count": 224,
   "id": "3fff3ae3",
   "metadata": {},
   "outputs": [],
   "source": [
    "x_train,x_test,y_train,y_test=train_test_split(x,y,test_size=0.20,random_state=maxRS)"
   ]
  },
  {
   "cell_type": "code",
   "execution_count": 225,
   "id": "048d5bfa",
   "metadata": {},
   "outputs": [],
   "source": [
    "from sklearn.linear_model import LinearRegression\n",
    "from sklearn.tree import DecisionTreeRegressor\n",
    "from sklearn.neighbors import KNeighborsRegressor \n",
    "from sklearn.linear_model import Ridge,Lasso\n",
    "from sklearn.metrics import mean_absolute_error\n",
    "from sklearn.metrics import mean_squared_error"
   ]
  },
  {
   "cell_type": "code",
   "execution_count": 226,
   "id": "3fe338fc",
   "metadata": {},
   "outputs": [
    {
     "name": "stdout",
     "output_type": "stream",
     "text": [
      "R2 score 10.738739026046273\n",
      "R2 score for trainng data 0.09245067594067036\n",
      "mean absolute error 356.0207275682546\n",
      "mean squared error 215372.2249500932\n",
      "Root mean absolute error 18.868511535578385\n"
     ]
    }
   ],
   "source": [
    "LR=LinearRegression()\n",
    "LR.fit(x_train,y_train)\n",
    "LR_pred=LR.predict(x_test)\n",
    "LR_pred_train=LR.predict(x_train)\n",
    "print('R2 score',r2_score(y_test,LR_pred)*100)\n",
    "print('R2 score for trainng data',r2_score(y_train,LR_pred_train))\n",
    "print('mean absolute error',mean_absolute_error(y_test,LR_pred))\n",
    "print('mean squared error',mean_squared_error(y_test,LR_pred))\n",
    "print('Root mean absolute error',np.sqrt(mean_absolute_error(y_test,LR_pred)))\n"
   ]
  },
  {
   "cell_type": "code",
   "execution_count": 227,
   "id": "366adce7",
   "metadata": {},
   "outputs": [
    {
     "name": "stdout",
     "output_type": "stream",
     "text": [
      "R2 score 36.473565667717544\n",
      "R2 score for trainng data 0.3352288193153349\n",
      "mean absolute error 295.9908197546493\n",
      "mean squared error 153278.46992080912\n",
      "Root mean absolute error 17.20438373655532\n"
     ]
    }
   ],
   "source": [
    "GBR=GradientBoostingRegressor()\n",
    "GBR.fit(x_train,y_train)\n",
    "GBR_pred=GBR.predict(x_test)\n",
    "GBR_pred_train=GBR.predict(x_train)\n",
    "print('R2 score',r2_score(y_test,GBR_pred)*100)\n",
    "print('R2 score for trainng data',r2_score(y_train,GBR_pred_train))\n",
    "print('mean absolute error',mean_absolute_error(y_test,GBR_pred))\n",
    "print('mean squared error',mean_squared_error(y_test,GBR_pred))\n",
    "print('Root mean absolute error',np.sqrt(mean_absolute_error(y_test,GBR_pred)))"
   ]
  },
  {
   "cell_type": "code",
   "execution_count": 228,
   "id": "d02035d0",
   "metadata": {},
   "outputs": [
    {
     "name": "stdout",
     "output_type": "stream",
     "text": [
      "R2 score 24.724312450874177\n",
      "R2 score for trainng data 0.41778436375056005\n",
      "mean absolute error 307.1651307596513\n",
      "mean absolute error 181627.4174844334\n",
      "Root mean absolute error 17.526127089566916\n"
     ]
    }
   ],
   "source": [
    "KNN=KNeighborsRegressor()\n",
    "KNN.fit(x_train,y_train)\n",
    "KNN_pred=KNN.predict(x_test)\n",
    "KNN_pred_train=KNN.predict(x_train)\n",
    "print('R2 score',r2_score(y_test,KNN_pred)*100)\n",
    "print('R2 score for trainng data',r2_score(y_train,KNN_pred_train))\n",
    "print('mean absolute error',mean_absolute_error(y_test,KNN_pred))\n",
    "print('mean absolute error',mean_squared_error(y_test,KNN_pred))\n",
    "print('Root mean absolute error',np.sqrt(mean_absolute_error(y_test,KNN_pred)))"
   ]
  },
  {
   "cell_type": "code",
   "execution_count": 229,
   "id": "e26c0e36",
   "metadata": {},
   "outputs": [
    {
     "name": "stdout",
     "output_type": "stream",
     "text": [
      "R2 score 10.738500183169908\n",
      "R2 score for trainng data 0.09245066507639166\n",
      "mean absolute error 356.02502807867995\n",
      "mean absolute error 215372.80123728802\n",
      "Root mean absolute error 18.868625495215063\n"
     ]
    }
   ],
   "source": [
    "RIDGE=Ridge()\n",
    "RIDGE.fit(x_train,y_train)\n",
    "RIDGE_pred=RIDGE.predict(x_test)\n",
    "RIDGE_pred_train=RIDGE.predict(x_train)\n",
    "print('R2 score',r2_score(y_test,RIDGE_pred)*100)\n",
    "print('R2 score for trainng data',r2_score(y_train,RIDGE_pred_train))\n",
    "print('mean absolute error',mean_absolute_error(y_test,RIDGE_pred))\n",
    "print('mean absolute error',mean_squared_error(y_test,RIDGE_pred))\n",
    "print('Root mean absolute error',np.sqrt(mean_absolute_error(y_test,RIDGE_pred)))"
   ]
  },
  {
   "cell_type": "code",
   "execution_count": 230,
   "id": "731f4848",
   "metadata": {},
   "outputs": [
    {
     "name": "stdout",
     "output_type": "stream",
     "text": [
      "R2 score 10.721779450617962\n",
      "R2 score for trainng data 0.09243730022614727\n",
      "mean absolute error 356.1581406166979\n",
      "mean absolute error 215413.1455180344\n",
      "Root mean absolute error 18.872152516782442\n"
     ]
    }
   ],
   "source": [
    "LASSO=Lasso()\n",
    "LASSO.fit(x_train,y_train)\n",
    "LASSO_pred=LASSO.predict(x_test)\n",
    "LASSO_pred_train=LASSO.predict(x_train)\n",
    "print('R2 score',r2_score(y_test,LASSO_pred)*100)\n",
    "print('R2 score for trainng data',r2_score(y_train,LASSO_pred_train))\n",
    "print('mean absolute error',mean_absolute_error(y_test,LASSO_pred))\n",
    "print('mean absolute error',mean_squared_error(y_test,LASSO_pred))\n",
    "print('Root mean absolute error',np.sqrt(mean_absolute_error(y_test,LASSO_pred)))"
   ]
  },
  {
   "cell_type": "code",
   "execution_count": 231,
   "id": "6463a96f",
   "metadata": {},
   "outputs": [
    {
     "name": "stdout",
     "output_type": "stream",
     "text": [
      "R2 score 27.59832820553546\n",
      "R2 score for trainng data 0.5277108085016331\n",
      "mean absolute error 298.3944360698467\n",
      "mean absolute error 174692.90680343774\n",
      "Root mean absolute error 17.274097257739598\n"
     ]
    }
   ],
   "source": [
    "DT=DecisionTreeRegressor()\n",
    "DT.fit(x_train,y_train)\n",
    "DT_pred=DT.predict(x_test)\n",
    "DT_pred_train=DT.predict(x_train)\n",
    "print('R2 score',r2_score(y_test,DT_pred)*100)\n",
    "print('R2 score for trainng data',r2_score(y_train,DT_pred_train))\n",
    "print('mean absolute error',mean_absolute_error(y_test,DT_pred))\n",
    "print('mean absolute error',mean_squared_error(y_test,DT_pred))\n",
    "print('Root mean absolute error',np.sqrt(mean_absolute_error(y_test,DT_pred)))"
   ]
  },
  {
   "cell_type": "code",
   "execution_count": 232,
   "id": "6fa075bb",
   "metadata": {},
   "outputs": [
    {
     "name": "stdout",
     "output_type": "stream",
     "text": [
      "R2 score 7.638354637970901\n",
      "R2 score for trainng data 0.04021370214786124\n",
      "mean absolute error 349.7648620770242\n",
      "mean absolute error 222852.9246015934\n",
      "Root mean absolute error 18.70200155269548\n"
     ]
    }
   ],
   "source": [
    "from sklearn.svm import SVR\n",
    "\n",
    "SVM=SVR()\n",
    "SVM.fit(x_train,y_train)\n",
    "SVM_pred=SVM.predict(x_test)\n",
    "SVM_pred_train=SVM.predict(x_train)\n",
    "print('R2 score',r2_score(y_test,SVM_pred)*100)\n",
    "print('R2 score for trainng data',r2_score(y_train,SVM_pred_train))\n",
    "print('mean absolute error',mean_absolute_error(y_test,SVM_pred))\n",
    "print('mean absolute error',mean_squared_error(y_test,SVM_pred))\n",
    "print('Root mean absolute error',np.sqrt(mean_absolute_error(y_test,SVM_pred)))"
   ]
  },
  {
   "cell_type": "code",
   "execution_count": 233,
   "id": "4e0726af",
   "metadata": {},
   "outputs": [
    {
     "name": "stdout",
     "output_type": "stream",
     "text": [
      "R2 score 28.308282712198483\n",
      "R2 score for trainng data 0.5277083121279671\n",
      "mean absolute error 296.6454264037137\n",
      "mean absolute error 172979.90745696897\n",
      "Root mean absolute error 17.22339764401071\n"
     ]
    }
   ],
   "source": [
    "from sklearn.ensemble import ExtraTreesRegressor\n",
    "ETR=ExtraTreesRegressor()\n",
    "ETR.fit(x_train,y_train)\n",
    "ETR_pred=ETR.predict(x_test)\n",
    "ETR_pred_train=ETR.predict(x_train)\n",
    "print('R2 score',r2_score(y_test,ETR_pred)*100)\n",
    "print('R2 score for trainng data',r2_score(y_train,ETR_pred_train))\n",
    "print('mean absolute error',mean_absolute_error(y_test,ETR_pred))\n",
    "print('mean absolute error',mean_squared_error(y_test,ETR_pred))\n",
    "print('Root mean absolute error',np.sqrt(mean_absolute_error(y_test,ETR_pred)))"
   ]
  },
  {
   "cell_type": "code",
   "execution_count": 234,
   "id": "4567d165",
   "metadata": {},
   "outputs": [
    {
     "name": "stdout",
     "output_type": "stream",
     "text": [
      "R2 score 30.996006181827475\n",
      "R2 score for trainng data 0.521645129640079\n",
      "mean absolute error 292.02997120982167\n",
      "mean absolute error 166494.88834130255\n",
      "Root mean absolute error 17.08888443432811\n"
     ]
    }
   ],
   "source": [
    "from sklearn.ensemble import RandomForestRegressor\n",
    "RFR=RandomForestRegressor()\n",
    "RFR.fit(x_train,y_train)\n",
    "RFR_pred=RFR.predict(x_test)\n",
    "RFR_pred_train=RFR.predict(x_train)\n",
    "print('R2 score',r2_score(y_test,RFR_pred)*100)\n",
    "print('R2 score for trainng data',r2_score(y_train,RFR_pred_train))\n",
    "print('mean absolute error',mean_absolute_error(y_test,RFR_pred))\n",
    "print('mean absolute error',mean_squared_error(y_test,RFR_pred))\n",
    "print('Root mean absolute error',np.sqrt(mean_absolute_error(y_test,RFR_pred)))"
   ]
  },
  {
   "cell_type": "code",
   "execution_count": 235,
   "id": "34985aa4",
   "metadata": {},
   "outputs": [],
   "source": [
    "from sklearn.model_selection import cross_val_score"
   ]
  },
  {
   "cell_type": "code",
   "execution_count": 236,
   "id": "b7928503",
   "metadata": {},
   "outputs": [
    {
     "name": "stdout",
     "output_type": "stream",
     "text": [
      "r2 score  36.473565667717544\n",
      "cross validation score  [-0.36870546 -0.86031598 -0.74737793 -0.02274911 -0.78096538]\n",
      "average score : -55.602277322760266\n",
      "deference between r2 score and cross validation score : 92.07584299047781\n"
     ]
    }
   ],
   "source": [
    "val_score=cross_val_score(GBR,x,y,cv=5,scoring='r2')\n",
    "print('r2 score ',r2_score(y_test,GBR_pred)*100)\n",
    "print('cross validation score ',val_score)\n",
    "print('average score :',val_score.mean()*100)\n",
    "print('deference between r2 score and cross validation score :',(r2_score(y_test,GBR_pred)-val_score.mean())*100)"
   ]
  },
  {
   "cell_type": "code",
   "execution_count": 196,
   "id": "74fe2600",
   "metadata": {},
   "outputs": [
    {
     "name": "stdout",
     "output_type": "stream",
     "text": [
      "r2 score  11.02361092812476\n",
      "cross validation score  [-0.05676628 -1.67314865 -0.11346103 -0.1168165  -0.50230645]\n",
      "average score : -49.24997805744869\n",
      "deference between r2 score and cross validation score : 60.273588985573454\n"
     ]
    }
   ],
   "source": [
    "val_score1=cross_val_score(LR,x,y)\n",
    "print('r2 score ',r2_score(y_test,LR_pred)*100)\n",
    "print('cross validation score ',val_score1)\n",
    "print('average score :',val_score1.mean()*100)\n",
    "print('deference between r2 score and cross validation score :',(r2_score(y_test,LR_pred)-val_score1.mean())*100)"
   ]
  },
  {
   "cell_type": "code",
   "execution_count": 198,
   "id": "2201285b",
   "metadata": {},
   "outputs": [
    {
     "name": "stdout",
     "output_type": "stream",
     "text": [
      "r2 score  23.888539519465546\n",
      "cross validation score  [-0.38896213 -1.83249711 -0.49635505 -0.2027604  -0.55629122]\n",
      "average score : -69.5373184454151\n",
      "deference between r2 score and cross validation score : 93.42585796488065\n"
     ]
    }
   ],
   "source": [
    "val_score2=cross_val_score(KNN,x,y)\n",
    "print('r2 score ',r2_score(y_test,KNN_pred)*100)\n",
    "print('cross validation score ',val_score2)\n",
    "print('average score :',val_score2.mean()*100)\n",
    "print('deference between r2 score and cross validation score :',(r2_score(y_test,KNN_pred)-val_score2.mean())*100)"
   ]
  },
  {
   "cell_type": "code",
   "execution_count": 199,
   "id": "0190adfc",
   "metadata": {},
   "outputs": [
    {
     "name": "stdout",
     "output_type": "stream",
     "text": [
      "r2 score  27.421102272659624\n",
      "cross validation score  [-0.63484985 -1.11428454 -0.71599143 -0.39862503 -0.66163042]\n",
      "average score : -70.50762544880077\n",
      "deference between r2 score and cross validation score : 97.92872772146039\n"
     ]
    }
   ],
   "source": [
    "val_score3=cross_val_score(DT,x,y)\n",
    "print('r2 score ',r2_score(y_test,DT_pred)*100)\n",
    "\n",
    "print('cross validation score ',val_score3)\n",
    "print('average score :',val_score3.mean()*100)\n",
    "print('deference between r2 score and cross validation score :',(r2_score(y_test,DT_pred)-val_score3.mean())*100)"
   ]
  },
  {
   "cell_type": "code",
   "execution_count": 201,
   "id": "c21c94b0",
   "metadata": {},
   "outputs": [
    {
     "name": "stdout",
     "output_type": "stream",
     "text": [
      "r2 score  30.91459993932022\n",
      "cross validation score  [-0.50348528 -0.65574465 -0.73020945 -0.08410647 -0.7953118 ]\n",
      "average score : -55.377152886550505\n",
      "deference between r2 score and cross validation score : 86.29175282587073\n"
     ]
    }
   ],
   "source": [
    "val_score4=cross_val_score(RFR,x,y)\n",
    "print('r2 score ',r2_score(y_test,RFR_pred)*100)\n",
    "print('cross validation score ',val_score4)\n",
    "print('average score :',val_score4.mean()*100)\n",
    "print('deference between r2 score and cross validation score :',(r2_score(y_test,RFR_pred)-val_score4.mean())*100)"
   ]
  },
  {
   "cell_type": "code",
   "execution_count": 202,
   "id": "29c04783",
   "metadata": {},
   "outputs": [
    {
     "name": "stdout",
     "output_type": "stream",
     "text": [
      "r2 score  11.023257678497178\n",
      "cross validation score  [-0.05678378 -1.67242237 -0.11362493 -0.11664006 -0.50241617]\n",
      "average score : -49.23774615842581\n",
      "deference between r2 score and cross validation score : 60.26100383692299\n"
     ]
    }
   ],
   "source": [
    "val_score5=cross_val_score(RIDGE,x,y)\n",
    "print('r2 score ',r2_score(y_test,RIDGE_pred)*100)\n",
    "print('cross validation score ',val_score5)\n",
    "print('average score :',val_score5.mean()*100)\n",
    "print('deference between r2 score and cross validation score :',(r2_score(y_test,RIDGE_pred)-val_score5.mean())*100)"
   ]
  },
  {
   "cell_type": "code",
   "execution_count": 204,
   "id": "27499972",
   "metadata": {},
   "outputs": [
    {
     "name": "stdout",
     "output_type": "stream",
     "text": [
      "r2 score  7.558343088194041\n",
      "cross validation score  [-0.24093929 -0.30538862 -0.15457434  0.00279748 -1.01289234]\n",
      "average score : -34.21994205065354\n",
      "deference between r2 score and cross validation score : 41.77828513884758\n"
     ]
    }
   ],
   "source": [
    "val_score6=cross_val_score(SVM,x,y)\n",
    "print('r2 score ',r2_score(y_test,SVM_pred)*100)\n",
    "print('cross validation score ',val_score6)\n",
    "print('average score :',val_score6.mean()*100)\n",
    "print('deference between r2 score and cross validation score :',(r2_score(y_test,SVM_pred)-val_score6.mean())*100)"
   ]
  },
  {
   "cell_type": "code",
   "execution_count": 205,
   "id": "53ead484",
   "metadata": {},
   "outputs": [
    {
     "name": "stdout",
     "output_type": "stream",
     "text": [
      "r2 score  28.027892226174068\n",
      "cross validation score  [-0.23996602 -0.47600293 -0.08837095 -0.09820483 -0.45074361]\n",
      "average score : -27.065766782356686\n",
      "deference between r2 score and cross validation score : 55.09365900853076\n"
     ]
    }
   ],
   "source": [
    "val_score7=cross_val_score(ETR,x,y)\n",
    "print('r2 score ',r2_score(y_test,ETR_pred)*100)\n",
    "print('cross validation score ',val_score7)\n",
    "print('average score :',val_score7.mean()*100)\n",
    "print('deference between r2 score and cross validation score :',(r2_score(y_test,ETR_pred)-val_score7.mean())*100)"
   ]
  },
  {
   "cell_type": "code",
   "execution_count": null,
   "id": "02d763a7",
   "metadata": {},
   "outputs": [],
   "source": [
    "# data is not enough to build a model and features are very less so  model accuracy is very low ..."
   ]
  }
 ],
 "metadata": {
  "kernelspec": {
   "display_name": "Python 3 (ipykernel)",
   "language": "python",
   "name": "python3"
  },
  "language_info": {
   "codemirror_mode": {
    "name": "ipython",
    "version": 3
   },
   "file_extension": ".py",
   "mimetype": "text/x-python",
   "name": "python",
   "nbconvert_exporter": "python",
   "pygments_lexer": "ipython3",
   "version": "3.10.9"
  }
 },
 "nbformat": 4,
 "nbformat_minor": 5
}
